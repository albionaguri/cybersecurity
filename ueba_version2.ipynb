{
 "cells": [
  {
   "cell_type": "markdown",
   "id": "ab0a36e5",
   "metadata": {
    "id": "bzQjj0ebHm-h",
    "papermill": {
     "duration": 0.013929,
     "end_time": "2024-07-16T10:53:06.019192",
     "exception": false,
     "start_time": "2024-07-16T10:53:06.005263",
     "status": "completed"
    },
    "tags": []
   },
   "source": [
    "**1. Load and Inspect Data**\n",
    "\n",
    "\n"
   ]
  },
  {
   "cell_type": "code",
   "execution_count": 1,
   "id": "31bb3a9d",
   "metadata": {
    "execution": {
     "iopub.execute_input": "2024-07-16T10:53:06.049418Z",
     "iopub.status.busy": "2024-07-16T10:53:06.049037Z",
     "iopub.status.idle": "2024-07-16T10:53:09.591262Z",
     "shell.execute_reply": "2024-07-16T10:53:09.589878Z"
    },
    "id": "1I5zdHRnHjYZ",
    "outputId": "eeaca585-5aa7-4f9f-f0cd-f2aa18b4b787",
    "papermill": {
     "duration": 3.560355,
     "end_time": "2024-07-16T10:53:09.594156",
     "exception": false,
     "start_time": "2024-07-16T10:53:06.033801",
     "status": "completed"
    },
    "tags": []
   },
   "outputs": [
    {
     "name": "stdout",
     "output_type": "stream",
     "text": [
      "Train Data Shape: (528690, 10)\n",
      "   id            account         group              IP  \\\n",
      "0   1  xiaojiawei@qq.com  ÈËÊÂÐÐÕþÖÐÐÄ    192.168.1.50   \n",
      "1   2  xiaojiawei@qq.com  ÈËÊÂÐÐÕþÖÐÐÄ   192.168.31.46   \n",
      "2   3  xiaojiawei@qq.com  ÈËÊÂÐÐÕþÖÐÐÄ     192.168.2.3   \n",
      "3   4  xiaojiawei@qq.com  ÈËÊÂÐÐÕþÖÐÐÄ  192.168.145.30   \n",
      "4   5  xiaojiawei@qq.com  ÈËÊÂÐÐÕþÖÐÐÄ  192.168.178.92   \n",
      "\n",
      "                               url   port  vlan      switchIP            time  \\\n",
      "0                http://123.6.4.41  15788   700  129.30.06.37  2021/6/16 7:56   \n",
      "1           http://104.192.108.154  12665   700  152.91.89.45  2021/6/28 7:58   \n",
      "2              http://42.236.37.80  25551   700  129.30.06.37   2021/6/1 6:37   \n",
      "3  http://uf-api6-client.ksord.com  18274   700    162.6.8.29   2021/5/5 8:18   \n",
      "4           http://101.199.128.170  34572   700    162.0.1.84  2021/6/20 6:52   \n",
      "\n",
      "      ret  \n",
      "0  0.1149  \n",
      "1  0.1801  \n",
      "2  0.3690  \n",
      "3  0.1532  \n",
      "4  0.1449  \n"
     ]
    }
   ],
   "source": [
    "import pandas as pd\n",
    "import numpy as np\n",
    "\n",
    "train_data = pd.read_csv('/kaggle/input/ueba-dbscan-iforest/train_data.csv', encoding='latin1')\n",
    "\n",
    "print(\"Train Data Shape:\", train_data.shape)\n",
    "\n",
    "print(train_data.head())\n"
   ]
  },
  {
   "cell_type": "code",
   "execution_count": 2,
   "id": "1859de11",
   "metadata": {
    "execution": {
     "iopub.execute_input": "2024-07-16T10:53:09.624035Z",
     "iopub.status.busy": "2024-07-16T10:53:09.623636Z",
     "iopub.status.idle": "2024-07-16T10:53:09.848563Z",
     "shell.execute_reply": "2024-07-16T10:53:09.847321Z"
    },
    "id": "3e3lziKeSIIW",
    "outputId": "c83fb447-1812-44d8-8f3f-2a2b371dba79",
    "papermill": {
     "duration": 0.243139,
     "end_time": "2024-07-16T10:53:09.851261",
     "exception": false,
     "start_time": "2024-07-16T10:53:09.608122",
     "status": "completed"
    },
    "tags": []
   },
   "outputs": [
    {
     "name": "stdout",
     "output_type": "stream",
     "text": [
      "Total observations: 528690\n",
      "Unique accounts: 151\n",
      "Unique IPs: 133\n",
      "Unique URLs: 1319\n",
      "Unique switchIPs: 133\n"
     ]
    }
   ],
   "source": [
    "print(\"Total observations:\", len(train_data))\n",
    "print(\"Unique accounts:\", train_data['account'].nunique())\n",
    "print(\"Unique IPs:\", train_data['IP'].nunique())\n",
    "print(\"Unique URLs:\", train_data['url'].nunique())\n",
    "print(\"Unique switchIPs:\", train_data['switchIP'].nunique())"
   ]
  },
  {
   "cell_type": "code",
   "execution_count": 3,
   "id": "2bab6201",
   "metadata": {
    "execution": {
     "iopub.execute_input": "2024-07-16T10:53:09.882624Z",
     "iopub.status.busy": "2024-07-16T10:53:09.882150Z",
     "iopub.status.idle": "2024-07-16T10:53:10.500331Z",
     "shell.execute_reply": "2024-07-16T10:53:10.498923Z"
    },
    "id": "4ZMCoAwbUhB2",
    "papermill": {
     "duration": 0.636713,
     "end_time": "2024-07-16T10:53:10.503406",
     "exception": false,
     "start_time": "2024-07-16T10:53:09.866693",
     "status": "completed"
    },
    "tags": []
   },
   "outputs": [],
   "source": [
    "# Convert 'time' column to datetime and sort by time\n",
    "train_data['time'] = pd.to_datetime(train_data['time'],format='%Y/%m/%d %H:%M')\n",
    "train_data = train_data.sort_values(by='time')\n"
   ]
  },
  {
   "cell_type": "code",
   "execution_count": 4,
   "id": "34c173a9",
   "metadata": {
    "execution": {
     "iopub.execute_input": "2024-07-16T10:53:10.534295Z",
     "iopub.status.busy": "2024-07-16T10:53:10.533896Z",
     "iopub.status.idle": "2024-07-16T10:53:10.544337Z",
     "shell.execute_reply": "2024-07-16T10:53:10.543101Z"
    },
    "id": "lDsB6SkAUkfd",
    "papermill": {
     "duration": 0.028845,
     "end_time": "2024-07-16T10:53:10.547287",
     "exception": false,
     "start_time": "2024-07-16T10:53:10.518442",
     "status": "completed"
    },
    "tags": []
   },
   "outputs": [],
   "source": [
    "# Temporal range of the dataset\n",
    "start_time = train_data['time'].min()\n",
    "end_time = train_data['time'].max()\n"
   ]
  },
  {
   "cell_type": "code",
   "execution_count": 5,
   "id": "95564a40",
   "metadata": {
    "execution": {
     "iopub.execute_input": "2024-07-16T10:53:10.577078Z",
     "iopub.status.busy": "2024-07-16T10:53:10.576682Z",
     "iopub.status.idle": "2024-07-16T10:53:10.814556Z",
     "shell.execute_reply": "2024-07-16T10:53:10.812879Z"
    },
    "id": "zOayGyosIFdi",
    "outputId": "e3a7d621-bbc6-4aa4-dd56-161cfcb3977a",
    "papermill": {
     "duration": 0.256108,
     "end_time": "2024-07-16T10:53:10.817324",
     "exception": false,
     "start_time": "2024-07-16T10:53:10.561216",
     "status": "completed"
    },
    "tags": []
   },
   "outputs": [
    {
     "name": "stdout",
     "output_type": "stream",
     "text": [
      "First observation: 2021-04-30 18:05:00\n",
      "Latest observation: 2021-06-29 15:58:00\n",
      "Total observations: 528690\n",
      "Unique accounts: 151\n",
      "Unique IPs: 133\n",
      "Unique URLs: 1319\n",
      "Unique switchIPs: 133\n"
     ]
    }
   ],
   "source": [
    "print(f\"First observation: {start_time}\\nLatest observation: {end_time}\")\n",
    "print(\"Total observations:\", len(train_data))\n",
    "print(\"Unique accounts:\", train_data['account'].nunique())\n",
    "print(\"Unique IPs:\", train_data['IP'].nunique())\n",
    "print(\"Unique URLs:\", train_data['url'].nunique())\n",
    "print(\"Unique switchIPs:\", train_data['switchIP'].nunique())"
   ]
  },
  {
   "cell_type": "markdown",
   "id": "0afcc9de",
   "metadata": {
    "id": "d2wdNZV6INxh",
    "papermill": {
     "duration": 0.017378,
     "end_time": "2024-07-16T10:53:10.857244",
     "exception": false,
     "start_time": "2024-07-16T10:53:10.839866",
     "status": "completed"
    },
    "tags": []
   },
   "source": [
    "**2. Filter Data to Select Specific Users**"
   ]
  },
  {
   "cell_type": "code",
   "execution_count": 6,
   "id": "0f5d277d",
   "metadata": {
    "execution": {
     "iopub.execute_input": "2024-07-16T10:53:10.887195Z",
     "iopub.status.busy": "2024-07-16T10:53:10.886781Z",
     "iopub.status.idle": "2024-07-16T10:53:11.006444Z",
     "shell.execute_reply": "2024-07-16T10:53:11.004859Z"
    },
    "id": "U9sjR8xUHjcw",
    "papermill": {
     "duration": 0.13977,
     "end_time": "2024-07-16T10:53:11.011085",
     "exception": false,
     "start_time": "2024-07-16T10:53:10.871315",
     "status": "completed"
    },
    "tags": []
   },
   "outputs": [],
   "source": [
    "# Select a subset of users\n",
    "unique_users = train_data['account'].unique()\n",
    "selected_users = np.random.choice(unique_users, 5, replace=False)\n",
    "filtered_df = train_data[train_data['account'].isin(selected_users)]\n"
   ]
  },
  {
   "cell_type": "code",
   "execution_count": 7,
   "id": "10f39115",
   "metadata": {
    "execution": {
     "iopub.execute_input": "2024-07-16T10:53:11.053744Z",
     "iopub.status.busy": "2024-07-16T10:53:11.052915Z",
     "iopub.status.idle": "2024-07-16T10:53:11.076193Z",
     "shell.execute_reply": "2024-07-16T10:53:11.074726Z"
    },
    "id": "SYIbtyosU2Ow",
    "outputId": "b830b3bb-58cf-4fc5-e1b5-b4565b150fb6",
    "papermill": {
     "duration": 0.048733,
     "end_time": "2024-07-16T10:53:11.079431",
     "exception": false,
     "start_time": "2024-07-16T10:53:11.030698",
     "status": "completed"
    },
    "tags": []
   },
   "outputs": [
    {
     "name": "stdout",
     "output_type": "stream",
     "text": [
      "Total observations: 22146\n",
      "Unique accounts: 5\n",
      "Unique IPs: 133\n",
      "Unique URLs: 1183\n",
      "Unique switchIPs: 133\n"
     ]
    }
   ],
   "source": [
    "print(\"Total observations:\", len(filtered_df))\n",
    "print(\"Unique accounts:\", filtered_df['account'].nunique())\n",
    "print(\"Unique IPs:\", filtered_df['IP'].nunique())\n",
    "print(\"Unique URLs:\", filtered_df['url'].nunique())\n",
    "print(\"Unique switchIPs:\", filtered_df['switchIP'].nunique())\n"
   ]
  },
  {
   "cell_type": "markdown",
   "id": "1a49b719",
   "metadata": {
    "papermill": {
     "duration": 0.014583,
     "end_time": "2024-07-16T10:53:11.108905",
     "exception": false,
     "start_time": "2024-07-16T10:53:11.094322",
     "status": "completed"
    },
    "tags": []
   },
   "source": [
    "**2.1 Filter Data to Select Specific Time Ranges**"
   ]
  },
  {
   "cell_type": "code",
   "execution_count": 8,
   "id": "8d16503c",
   "metadata": {
    "execution": {
     "iopub.execute_input": "2024-07-16T10:53:11.142730Z",
     "iopub.status.busy": "2024-07-16T10:53:11.142208Z",
     "iopub.status.idle": "2024-07-16T10:53:11.154270Z",
     "shell.execute_reply": "2024-07-16T10:53:11.152632Z"
    },
    "id": "Z72tATooIW3A",
    "papermill": {
     "duration": 0.034463,
     "end_time": "2024-07-16T10:53:11.157668",
     "exception": false,
     "start_time": "2024-07-16T10:53:11.123205",
     "status": "completed"
    },
    "tags": []
   },
   "outputs": [],
   "source": [
    "# Define the time range\n",
    "start_date = '2021-06-26'\n",
    "end_date = '2021-06-29'\n",
    "\n",
    "# Filter data within the time range\n",
    "sample_df = filtered_df[filtered_df['time'].between(start_date, end_date)]\n",
    "sample_df.set_index('time', inplace=True, drop=False)"
   ]
  },
  {
   "cell_type": "code",
   "execution_count": 9,
   "id": "fe86165b",
   "metadata": {
    "execution": {
     "iopub.execute_input": "2024-07-16T10:53:11.196489Z",
     "iopub.status.busy": "2024-07-16T10:53:11.195457Z",
     "iopub.status.idle": "2024-07-16T10:53:11.205471Z",
     "shell.execute_reply": "2024-07-16T10:53:11.204088Z"
    },
    "id": "ncrRShAaXdmS",
    "outputId": "e0ff31ec-f29b-43df-fe30-7f526f377074",
    "papermill": {
     "duration": 0.029979,
     "end_time": "2024-07-16T10:53:11.208651",
     "exception": false,
     "start_time": "2024-07-16T10:53:11.178672",
     "status": "completed"
    },
    "tags": []
   },
   "outputs": [
    {
     "name": "stdout",
     "output_type": "stream",
     "text": [
      "Total observations: 1152\n",
      "Unique accounts: 5\n",
      "Unique IPs: 107\n",
      "Unique URLs: 493\n",
      "Unique switchIPs: 107\n"
     ]
    }
   ],
   "source": [
    "print(\"Total observations:\", len(sample_df))\n",
    "print(\"Unique accounts:\", sample_df['account'].nunique())\n",
    "print(\"Unique IPs:\", sample_df['IP'].nunique())\n",
    "print(\"Unique URLs:\", sample_df['url'].nunique())\n",
    "print(\"Unique switchIPs:\", sample_df['switchIP'].nunique())\n"
   ]
  },
  {
   "cell_type": "code",
   "execution_count": 10,
   "id": "3f8125d9",
   "metadata": {
    "execution": {
     "iopub.execute_input": "2024-07-16T10:53:11.242021Z",
     "iopub.status.busy": "2024-07-16T10:53:11.241603Z",
     "iopub.status.idle": "2024-07-16T10:53:11.250483Z",
     "shell.execute_reply": "2024-07-16T10:53:11.249184Z"
    },
    "id": "Qi2IQjGfoSw1",
    "outputId": "dec05f07-69cd-4a1d-9cd5-64928c57226a",
    "papermill": {
     "duration": 0.027641,
     "end_time": "2024-07-16T10:53:11.253121",
     "exception": false,
     "start_time": "2024-07-16T10:53:11.225480",
     "status": "completed"
    },
    "tags": []
   },
   "outputs": [
    {
     "data": {
      "text/plain": [
       "Index(['id', 'account', 'group', 'IP', 'url', 'port', 'vlan', 'switchIP',\n",
       "       'time', 'ret'],\n",
       "      dtype='object')"
      ]
     },
     "execution_count": 10,
     "metadata": {},
     "output_type": "execute_result"
    }
   ],
   "source": [
    "sample_df.columns"
   ]
  },
  {
   "cell_type": "code",
   "execution_count": 11,
   "id": "0cb70151",
   "metadata": {
    "execution": {
     "iopub.execute_input": "2024-07-16T10:53:11.283540Z",
     "iopub.status.busy": "2024-07-16T10:53:11.283128Z",
     "iopub.status.idle": "2024-07-16T10:53:11.291379Z",
     "shell.execute_reply": "2024-07-16T10:53:11.290209Z"
    },
    "id": "cxuGxUgAsKUk",
    "papermill": {
     "duration": 0.026731,
     "end_time": "2024-07-16T10:53:11.294130",
     "exception": false,
     "start_time": "2024-07-16T10:53:11.267399",
     "status": "completed"
    },
    "tags": []
   },
   "outputs": [],
   "source": [
    "sample_df = sample_df.drop(columns=['id', 'group', 'port', 'vlan','ret', 'switchIP'])"
   ]
  },
  {
   "cell_type": "code",
   "execution_count": 12,
   "id": "afb169be",
   "metadata": {
    "execution": {
     "iopub.execute_input": "2024-07-16T10:53:11.324913Z",
     "iopub.status.busy": "2024-07-16T10:53:11.324453Z",
     "iopub.status.idle": "2024-07-16T10:53:11.331760Z",
     "shell.execute_reply": "2024-07-16T10:53:11.330562Z"
    },
    "papermill": {
     "duration": 0.025736,
     "end_time": "2024-07-16T10:53:11.334261",
     "exception": false,
     "start_time": "2024-07-16T10:53:11.308525",
     "status": "completed"
    },
    "tags": []
   },
   "outputs": [
    {
     "data": {
      "text/plain": [
       "(1152, 4)"
      ]
     },
     "execution_count": 12,
     "metadata": {},
     "output_type": "execute_result"
    }
   ],
   "source": [
    "sample_df.shape"
   ]
  },
  {
   "cell_type": "code",
   "execution_count": 13,
   "id": "13b04655",
   "metadata": {
    "execution": {
     "iopub.execute_input": "2024-07-16T10:53:11.365274Z",
     "iopub.status.busy": "2024-07-16T10:53:11.364852Z",
     "iopub.status.idle": "2024-07-16T10:53:11.370331Z",
     "shell.execute_reply": "2024-07-16T10:53:11.369088Z"
    },
    "id": "PDGfQam9brHf",
    "papermill": {
     "duration": 0.024259,
     "end_time": "2024-07-16T10:53:11.373033",
     "exception": false,
     "start_time": "2024-07-16T10:53:11.348774",
     "status": "completed"
    },
    "tags": []
   },
   "outputs": [],
   "source": [
    "# numerical_features = [feature for feature in filtered_df.columns if sample_df[feature].dtypes != 'O' and sample_df[feature].dtype in ['int64', 'float64']]\n",
    "# discrete_features=[feature for feature in numerical_features if len(filtered_df[feature].unique())<15]\n",
    "# continuous_feature=[feature for feature in numerical_features if feature not in discrete_features]\n"
   ]
  },
  {
   "cell_type": "markdown",
   "id": "1ce82036",
   "metadata": {
    "papermill": {
     "duration": 0.014308,
     "end_time": "2024-07-16T10:53:11.401717",
     "exception": false,
     "start_time": "2024-07-16T10:53:11.387409",
     "status": "completed"
    },
    "tags": []
   },
   "source": [
    "**Label Encoding for categorical variables**"
   ]
  },
  {
   "cell_type": "code",
   "execution_count": 14,
   "id": "fb2ce638",
   "metadata": {
    "execution": {
     "iopub.execute_input": "2024-07-16T10:53:11.432661Z",
     "iopub.status.busy": "2024-07-16T10:53:11.432232Z",
     "iopub.status.idle": "2024-07-16T10:53:11.438793Z",
     "shell.execute_reply": "2024-07-16T10:53:11.437625Z"
    },
    "papermill": {
     "duration": 0.02516,
     "end_time": "2024-07-16T10:53:11.441394",
     "exception": false,
     "start_time": "2024-07-16T10:53:11.416234",
     "status": "completed"
    },
    "tags": []
   },
   "outputs": [],
   "source": [
    "categorical_features=[feature for feature in sample_df.columns if sample_df[feature].dtypes=='O']\n"
   ]
  },
  {
   "cell_type": "code",
   "execution_count": 15,
   "id": "9a5f49c4",
   "metadata": {
    "execution": {
     "iopub.execute_input": "2024-07-16T10:53:11.472406Z",
     "iopub.status.busy": "2024-07-16T10:53:11.472005Z",
     "iopub.status.idle": "2024-07-16T10:53:11.479876Z",
     "shell.execute_reply": "2024-07-16T10:53:11.478334Z"
    },
    "papermill": {
     "duration": 0.026773,
     "end_time": "2024-07-16T10:53:11.482754",
     "exception": false,
     "start_time": "2024-07-16T10:53:11.455981",
     "status": "completed"
    },
    "tags": []
   },
   "outputs": [
    {
     "data": {
      "text/plain": [
       "['account', 'IP', 'url']"
      ]
     },
     "execution_count": 15,
     "metadata": {},
     "output_type": "execute_result"
    }
   ],
   "source": [
    "categorical_features"
   ]
  },
  {
   "cell_type": "code",
   "execution_count": 16,
   "id": "df12446a",
   "metadata": {
    "execution": {
     "iopub.execute_input": "2024-07-16T10:53:11.514131Z",
     "iopub.status.busy": "2024-07-16T10:53:11.513691Z",
     "iopub.status.idle": "2024-07-16T10:53:12.884679Z",
     "shell.execute_reply": "2024-07-16T10:53:12.883270Z"
    },
    "papermill": {
     "duration": 1.390588,
     "end_time": "2024-07-16T10:53:12.888121",
     "exception": false,
     "start_time": "2024-07-16T10:53:11.497533",
     "status": "completed"
    },
    "tags": []
   },
   "outputs": [],
   "source": [
    "from sklearn.preprocessing import LabelEncoder\n",
    "\n",
    "# Create a LabelEncoder object\n",
    "le = LabelEncoder()\n",
    "\n",
    "# Apply LabelEncoder to each categorical column\n",
    "for feature in categorical_features:\n",
    "    sample_df[feature + '_encoded'] = le.fit_transform(sample_df[feature])\n",
    "    "
   ]
  },
  {
   "cell_type": "code",
   "execution_count": 17,
   "id": "9b5f7f3f",
   "metadata": {
    "execution": {
     "iopub.execute_input": "2024-07-16T10:53:12.920373Z",
     "iopub.status.busy": "2024-07-16T10:53:12.919911Z",
     "iopub.status.idle": "2024-07-16T10:53:12.938764Z",
     "shell.execute_reply": "2024-07-16T10:53:12.937539Z"
    },
    "papermill": {
     "duration": 0.038687,
     "end_time": "2024-07-16T10:53:12.941461",
     "exception": false,
     "start_time": "2024-07-16T10:53:12.902774",
     "status": "completed"
    },
    "tags": []
   },
   "outputs": [
    {
     "data": {
      "text/html": [
       "<div>\n",
       "<style scoped>\n",
       "    .dataframe tbody tr th:only-of-type {\n",
       "        vertical-align: middle;\n",
       "    }\n",
       "\n",
       "    .dataframe tbody tr th {\n",
       "        vertical-align: top;\n",
       "    }\n",
       "\n",
       "    .dataframe thead th {\n",
       "        text-align: right;\n",
       "    }\n",
       "</style>\n",
       "<table border=\"1\" class=\"dataframe\">\n",
       "  <thead>\n",
       "    <tr style=\"text-align: right;\">\n",
       "      <th></th>\n",
       "      <th>account</th>\n",
       "      <th>IP</th>\n",
       "      <th>url</th>\n",
       "      <th>time</th>\n",
       "      <th>account_encoded</th>\n",
       "      <th>IP_encoded</th>\n",
       "      <th>url_encoded</th>\n",
       "    </tr>\n",
       "    <tr>\n",
       "      <th>time</th>\n",
       "      <th></th>\n",
       "      <th></th>\n",
       "      <th></th>\n",
       "      <th></th>\n",
       "      <th></th>\n",
       "      <th></th>\n",
       "      <th></th>\n",
       "    </tr>\n",
       "  </thead>\n",
       "  <tbody>\n",
       "    <tr>\n",
       "      <th>2021-06-26 00:03:00</th>\n",
       "      <td>wangpengcheng@qq.com</td>\n",
       "      <td>10.59.20.199</td>\n",
       "      <td>http://subca.crl.certum.pl</td>\n",
       "      <td>2021-06-26 00:03:00</td>\n",
       "      <td>3</td>\n",
       "      <td>6</td>\n",
       "      <td>400</td>\n",
       "    </tr>\n",
       "    <tr>\n",
       "      <th>2021-06-26 00:19:00</th>\n",
       "      <td>wangpengcheng@qq.com</td>\n",
       "      <td>192.168.22.121</td>\n",
       "      <td>http://www.11k.cc</td>\n",
       "      <td>2021-06-26 00:19:00</td>\n",
       "      <td>3</td>\n",
       "      <td>68</td>\n",
       "      <td>430</td>\n",
       "    </tr>\n",
       "    <tr>\n",
       "      <th>2021-06-26 00:29:00</th>\n",
       "      <td>gengpengfeng@qq.com</td>\n",
       "      <td>10.52.0.6</td>\n",
       "      <td>http://www.qingdaonews.com</td>\n",
       "      <td>2021-06-26 00:29:00</td>\n",
       "      <td>1</td>\n",
       "      <td>5</td>\n",
       "      <td>463</td>\n",
       "    </tr>\n",
       "  </tbody>\n",
       "</table>\n",
       "</div>"
      ],
      "text/plain": [
       "                                  account              IP  \\\n",
       "time                                                        \n",
       "2021-06-26 00:03:00  wangpengcheng@qq.com    10.59.20.199   \n",
       "2021-06-26 00:19:00  wangpengcheng@qq.com  192.168.22.121   \n",
       "2021-06-26 00:29:00   gengpengfeng@qq.com       10.52.0.6   \n",
       "\n",
       "                                            url                time  \\\n",
       "time                                                                  \n",
       "2021-06-26 00:03:00  http://subca.crl.certum.pl 2021-06-26 00:03:00   \n",
       "2021-06-26 00:19:00           http://www.11k.cc 2021-06-26 00:19:00   \n",
       "2021-06-26 00:29:00  http://www.qingdaonews.com 2021-06-26 00:29:00   \n",
       "\n",
       "                     account_encoded  IP_encoded  url_encoded  \n",
       "time                                                           \n",
       "2021-06-26 00:03:00                3           6          400  \n",
       "2021-06-26 00:19:00                3          68          430  \n",
       "2021-06-26 00:29:00                1           5          463  "
      ]
     },
     "execution_count": 17,
     "metadata": {},
     "output_type": "execute_result"
    }
   ],
   "source": [
    "sample_df.head(3)"
   ]
  },
  {
   "cell_type": "code",
   "execution_count": 18,
   "id": "50d5a3d3",
   "metadata": {
    "execution": {
     "iopub.execute_input": "2024-07-16T10:53:12.973566Z",
     "iopub.status.busy": "2024-07-16T10:53:12.973113Z",
     "iopub.status.idle": "2024-07-16T10:53:12.987956Z",
     "shell.execute_reply": "2024-07-16T10:53:12.986802Z"
    },
    "papermill": {
     "duration": 0.034128,
     "end_time": "2024-07-16T10:53:12.990670",
     "exception": false,
     "start_time": "2024-07-16T10:53:12.956542",
     "status": "completed"
    },
    "tags": []
   },
   "outputs": [
    {
     "data": {
      "text/html": [
       "<div>\n",
       "<style scoped>\n",
       "    .dataframe tbody tr th:only-of-type {\n",
       "        vertical-align: middle;\n",
       "    }\n",
       "\n",
       "    .dataframe tbody tr th {\n",
       "        vertical-align: top;\n",
       "    }\n",
       "\n",
       "    .dataframe thead th {\n",
       "        text-align: right;\n",
       "    }\n",
       "</style>\n",
       "<table border=\"1\" class=\"dataframe\">\n",
       "  <thead>\n",
       "    <tr style=\"text-align: right;\">\n",
       "      <th></th>\n",
       "      <th>time</th>\n",
       "      <th>account_encoded</th>\n",
       "      <th>IP_encoded</th>\n",
       "      <th>url_encoded</th>\n",
       "    </tr>\n",
       "    <tr>\n",
       "      <th>time</th>\n",
       "      <th></th>\n",
       "      <th></th>\n",
       "      <th></th>\n",
       "      <th></th>\n",
       "    </tr>\n",
       "  </thead>\n",
       "  <tbody>\n",
       "    <tr>\n",
       "      <th>2021-06-26 00:03:00</th>\n",
       "      <td>2021-06-26 00:03:00</td>\n",
       "      <td>3</td>\n",
       "      <td>6</td>\n",
       "      <td>400</td>\n",
       "    </tr>\n",
       "    <tr>\n",
       "      <th>2021-06-26 00:19:00</th>\n",
       "      <td>2021-06-26 00:19:00</td>\n",
       "      <td>3</td>\n",
       "      <td>68</td>\n",
       "      <td>430</td>\n",
       "    </tr>\n",
       "    <tr>\n",
       "      <th>2021-06-26 00:29:00</th>\n",
       "      <td>2021-06-26 00:29:00</td>\n",
       "      <td>1</td>\n",
       "      <td>5</td>\n",
       "      <td>463</td>\n",
       "    </tr>\n",
       "    <tr>\n",
       "      <th>2021-06-26 00:30:00</th>\n",
       "      <td>2021-06-26 00:30:00</td>\n",
       "      <td>3</td>\n",
       "      <td>79</td>\n",
       "      <td>13</td>\n",
       "    </tr>\n",
       "    <tr>\n",
       "      <th>2021-06-26 00:32:00</th>\n",
       "      <td>2021-06-26 00:32:00</td>\n",
       "      <td>1</td>\n",
       "      <td>5</td>\n",
       "      <td>201</td>\n",
       "    </tr>\n",
       "  </tbody>\n",
       "</table>\n",
       "</div>"
      ],
      "text/plain": [
       "                                   time  account_encoded  IP_encoded  \\\n",
       "time                                                                   \n",
       "2021-06-26 00:03:00 2021-06-26 00:03:00                3           6   \n",
       "2021-06-26 00:19:00 2021-06-26 00:19:00                3          68   \n",
       "2021-06-26 00:29:00 2021-06-26 00:29:00                1           5   \n",
       "2021-06-26 00:30:00 2021-06-26 00:30:00                3          79   \n",
       "2021-06-26 00:32:00 2021-06-26 00:32:00                1           5   \n",
       "\n",
       "                     url_encoded  \n",
       "time                              \n",
       "2021-06-26 00:03:00          400  \n",
       "2021-06-26 00:19:00          430  \n",
       "2021-06-26 00:29:00          463  \n",
       "2021-06-26 00:30:00           13  \n",
       "2021-06-26 00:32:00          201  "
      ]
     },
     "execution_count": 18,
     "metadata": {},
     "output_type": "execute_result"
    }
   ],
   "source": [
    "# Drop the original categorical columns \n",
    "sample_df = sample_df.drop(columns=categorical_features)\n",
    "sample_df.head(5)"
   ]
  },
  {
   "cell_type": "code",
   "execution_count": 19,
   "id": "d95c1bbb",
   "metadata": {
    "execution": {
     "iopub.execute_input": "2024-07-16T10:53:13.024473Z",
     "iopub.status.busy": "2024-07-16T10:53:13.024064Z",
     "iopub.status.idle": "2024-07-16T10:53:13.030015Z",
     "shell.execute_reply": "2024-07-16T10:53:13.028687Z"
    },
    "id": "GXOKQvLub9PK",
    "papermill": {
     "duration": 0.025887,
     "end_time": "2024-07-16T10:53:13.032771",
     "exception": false,
     "start_time": "2024-07-16T10:53:13.006884",
     "status": "completed"
    },
    "tags": []
   },
   "outputs": [],
   "source": [
    "# **Feature Hashing for categorical variables**\n",
    "\n",
    "# from sklearn.feature_extraction import FeatureHasher\n",
    "\n",
    "# cols = sample_df[[\"account\", \"IP\", \"url\"]]\n",
    "\n",
    "# # Convert each value in the selected columns to a string\n",
    "# cols = cols.map(str)\n",
    "\n",
    "# # Convert selected columns to list of dictionaries\n",
    "# data_dict = cols.to_dict(orient='records')\n",
    "\n",
    "# # Initialize feature hasher\n",
    "# hasher = FeatureHasher(n_features=10, input_type='string')\n",
    "# hashed_features = hasher.fit_transform(data_dict).toarray()\n",
    "\n",
    "# # Convert hashed features to DataFrame\n",
    "# hashed_df = pd.DataFrame(hashed_features, columns=[f'feature_{i}' for i in range(hashed_features.shape[1])])\n",
    "\n",
    "# # Combine the original DataFrame with hashed features\n",
    "# result_df = pd.concat([cols.reset_index(), hashed_df], axis=1)"
   ]
  },
  {
   "cell_type": "markdown",
   "id": "26eaccdb",
   "metadata": {
    "id": "Gu6LoHMX1om-",
    "papermill": {
     "duration": 0.015104,
     "end_time": "2024-07-16T10:53:13.063673",
     "exception": false,
     "start_time": "2024-07-16T10:53:13.048569",
     "status": "completed"
    },
    "tags": []
   },
   "source": [
    "### **Pre-processing of Time column**"
   ]
  },
  {
   "cell_type": "code",
   "execution_count": 20,
   "id": "e7aa174c",
   "metadata": {
    "execution": {
     "iopub.execute_input": "2024-07-16T10:53:13.096624Z",
     "iopub.status.busy": "2024-07-16T10:53:13.096195Z",
     "iopub.status.idle": "2024-07-16T10:53:13.105944Z",
     "shell.execute_reply": "2024-07-16T10:53:13.104591Z"
    },
    "id": "6bKx9-NW1eWD",
    "papermill": {
     "duration": 0.029226,
     "end_time": "2024-07-16T10:53:13.108462",
     "exception": false,
     "start_time": "2024-07-16T10:53:13.079236",
     "status": "completed"
    },
    "tags": []
   },
   "outputs": [],
   "source": [
    "# Extract numerical features\n",
    "\n",
    "sample_df['hour'] = sample_df['time'].dt.hour\n",
    "sample_df['day_of_week'] = sample_df['time'].dt.day_of_week\n",
    "sample_df['month'] = sample_df['time'].dt.month\n"
   ]
  },
  {
   "cell_type": "code",
   "execution_count": 21,
   "id": "46e1078c",
   "metadata": {
    "execution": {
     "iopub.execute_input": "2024-07-16T10:53:13.141952Z",
     "iopub.status.busy": "2024-07-16T10:53:13.141526Z",
     "iopub.status.idle": "2024-07-16T10:53:13.150222Z",
     "shell.execute_reply": "2024-07-16T10:53:13.148945Z"
    },
    "id": "uN_lnOvV1eYX",
    "papermill": {
     "duration": 0.028667,
     "end_time": "2024-07-16T10:53:13.152956",
     "exception": false,
     "start_time": "2024-07-16T10:53:13.124289",
     "status": "completed"
    },
    "tags": []
   },
   "outputs": [],
   "source": [
    "sample_df.drop('time', axis=1, inplace=True)"
   ]
  },
  {
   "cell_type": "code",
   "execution_count": 22,
   "id": "72292d2e",
   "metadata": {
    "execution": {
     "iopub.execute_input": "2024-07-16T10:53:13.185116Z",
     "iopub.status.busy": "2024-07-16T10:53:13.184680Z",
     "iopub.status.idle": "2024-07-16T10:53:13.198685Z",
     "shell.execute_reply": "2024-07-16T10:53:13.197377Z"
    },
    "id": "Thp9NuBp1eak",
    "outputId": "db646553-df33-4ef9-efb0-606933f749c6",
    "papermill": {
     "duration": 0.033449,
     "end_time": "2024-07-16T10:53:13.201606",
     "exception": false,
     "start_time": "2024-07-16T10:53:13.168157",
     "status": "completed"
    },
    "tags": []
   },
   "outputs": [
    {
     "data": {
      "text/html": [
       "<div>\n",
       "<style scoped>\n",
       "    .dataframe tbody tr th:only-of-type {\n",
       "        vertical-align: middle;\n",
       "    }\n",
       "\n",
       "    .dataframe tbody tr th {\n",
       "        vertical-align: top;\n",
       "    }\n",
       "\n",
       "    .dataframe thead th {\n",
       "        text-align: right;\n",
       "    }\n",
       "</style>\n",
       "<table border=\"1\" class=\"dataframe\">\n",
       "  <thead>\n",
       "    <tr style=\"text-align: right;\">\n",
       "      <th></th>\n",
       "      <th>account_encoded</th>\n",
       "      <th>IP_encoded</th>\n",
       "      <th>url_encoded</th>\n",
       "      <th>hour</th>\n",
       "      <th>day_of_week</th>\n",
       "      <th>month</th>\n",
       "    </tr>\n",
       "    <tr>\n",
       "      <th>time</th>\n",
       "      <th></th>\n",
       "      <th></th>\n",
       "      <th></th>\n",
       "      <th></th>\n",
       "      <th></th>\n",
       "      <th></th>\n",
       "    </tr>\n",
       "  </thead>\n",
       "  <tbody>\n",
       "    <tr>\n",
       "      <th>2021-06-26 00:03:00</th>\n",
       "      <td>3</td>\n",
       "      <td>6</td>\n",
       "      <td>400</td>\n",
       "      <td>0</td>\n",
       "      <td>5</td>\n",
       "      <td>6</td>\n",
       "    </tr>\n",
       "    <tr>\n",
       "      <th>2021-06-26 00:19:00</th>\n",
       "      <td>3</td>\n",
       "      <td>68</td>\n",
       "      <td>430</td>\n",
       "      <td>0</td>\n",
       "      <td>5</td>\n",
       "      <td>6</td>\n",
       "    </tr>\n",
       "    <tr>\n",
       "      <th>2021-06-26 00:29:00</th>\n",
       "      <td>1</td>\n",
       "      <td>5</td>\n",
       "      <td>463</td>\n",
       "      <td>0</td>\n",
       "      <td>5</td>\n",
       "      <td>6</td>\n",
       "    </tr>\n",
       "    <tr>\n",
       "      <th>2021-06-26 00:30:00</th>\n",
       "      <td>3</td>\n",
       "      <td>79</td>\n",
       "      <td>13</td>\n",
       "      <td>0</td>\n",
       "      <td>5</td>\n",
       "      <td>6</td>\n",
       "    </tr>\n",
       "  </tbody>\n",
       "</table>\n",
       "</div>"
      ],
      "text/plain": [
       "                     account_encoded  IP_encoded  url_encoded  hour  \\\n",
       "time                                                                  \n",
       "2021-06-26 00:03:00                3           6          400     0   \n",
       "2021-06-26 00:19:00                3          68          430     0   \n",
       "2021-06-26 00:29:00                1           5          463     0   \n",
       "2021-06-26 00:30:00                3          79           13     0   \n",
       "\n",
       "                     day_of_week  month  \n",
       "time                                     \n",
       "2021-06-26 00:03:00            5      6  \n",
       "2021-06-26 00:19:00            5      6  \n",
       "2021-06-26 00:29:00            5      6  \n",
       "2021-06-26 00:30:00            5      6  "
      ]
     },
     "execution_count": 22,
     "metadata": {},
     "output_type": "execute_result"
    }
   ],
   "source": [
    "sample_df.head(4)"
   ]
  },
  {
   "cell_type": "markdown",
   "id": "0941903f",
   "metadata": {
    "id": "aWZF1lyrIjsK",
    "papermill": {
     "duration": 0.015042,
     "end_time": "2024-07-16T10:53:13.232875",
     "exception": false,
     "start_time": "2024-07-16T10:53:13.217833",
     "status": "completed"
    },
    "tags": []
   },
   "source": [
    "**4. Preprocess (Normalize) the Data**"
   ]
  },
  {
   "cell_type": "code",
   "execution_count": 23,
   "id": "b4f4df78",
   "metadata": {
    "execution": {
     "iopub.execute_input": "2024-07-16T10:53:13.266409Z",
     "iopub.status.busy": "2024-07-16T10:53:13.265958Z",
     "iopub.status.idle": "2024-07-16T10:53:13.278989Z",
     "shell.execute_reply": "2024-07-16T10:53:13.277453Z"
    },
    "id": "3nxpzSewIbJo",
    "papermill": {
     "duration": 0.033667,
     "end_time": "2024-07-16T10:53:13.282256",
     "exception": false,
     "start_time": "2024-07-16T10:53:13.248589",
     "status": "completed"
    },
    "tags": []
   },
   "outputs": [],
   "source": [
    "from sklearn.preprocessing import StandardScaler\n",
    "\n",
    "# Normalize data\n",
    "scaler = StandardScaler()\n",
    "scaled_data = scaler.fit_transform(sample_df)\n"
   ]
  },
  {
   "cell_type": "markdown",
   "id": "01dc311e",
   "metadata": {
    "id": "EBOhg_v9YApJ",
    "papermill": {
     "duration": 0.015646,
     "end_time": "2024-07-16T10:53:13.313609",
     "exception": false,
     "start_time": "2024-07-16T10:53:13.297963",
     "status": "completed"
    },
    "tags": []
   },
   "source": [
    "**DBSCAN algorithm**"
   ]
  },
  {
   "cell_type": "code",
   "execution_count": 24,
   "id": "7f3cd44c",
   "metadata": {
    "execution": {
     "iopub.execute_input": "2024-07-16T10:53:13.347225Z",
     "iopub.status.busy": "2024-07-16T10:53:13.346296Z",
     "iopub.status.idle": "2024-07-16T10:53:13.884373Z",
     "shell.execute_reply": "2024-07-16T10:53:13.883025Z"
    },
    "id": "_cMzjUKVX_rA",
    "papermill": {
     "duration": 0.558025,
     "end_time": "2024-07-16T10:53:13.887322",
     "exception": false,
     "start_time": "2024-07-16T10:53:13.329297",
     "status": "completed"
    },
    "tags": []
   },
   "outputs": [],
   "source": [
    "from sklearn.cluster import DBSCAN\n",
    "\n",
    "# Apply DBSCAN\n",
    "epsilon = 0.5\n",
    "min_samples = 5\n",
    "dbscan = DBSCAN(eps=epsilon, min_samples=min_samples)\n",
    "clusters = dbscan.fit_predict(scaled_data)"
   ]
  },
  {
   "cell_type": "code",
   "execution_count": 25,
   "id": "4c6cda5b",
   "metadata": {
    "execution": {
     "iopub.execute_input": "2024-07-16T10:53:13.920628Z",
     "iopub.status.busy": "2024-07-16T10:53:13.920175Z",
     "iopub.status.idle": "2024-07-16T10:53:13.929103Z",
     "shell.execute_reply": "2024-07-16T10:53:13.927755Z"
    },
    "papermill": {
     "duration": 0.028769,
     "end_time": "2024-07-16T10:53:13.931713",
     "exception": false,
     "start_time": "2024-07-16T10:53:13.902944",
     "status": "completed"
    },
    "tags": []
   },
   "outputs": [
    {
     "data": {
      "text/plain": [
       "array([ 2, -1,  0, ..., -1, -1, -1])"
      ]
     },
     "execution_count": 25,
     "metadata": {},
     "output_type": "execute_result"
    }
   ],
   "source": [
    "clusters"
   ]
  },
  {
   "cell_type": "code",
   "execution_count": 26,
   "id": "0bf8fd1f",
   "metadata": {
    "execution": {
     "iopub.execute_input": "2024-07-16T10:53:13.965326Z",
     "iopub.status.busy": "2024-07-16T10:53:13.964554Z",
     "iopub.status.idle": "2024-07-16T10:53:13.974207Z",
     "shell.execute_reply": "2024-07-16T10:53:13.972908Z"
    },
    "papermill": {
     "duration": 0.029559,
     "end_time": "2024-07-16T10:53:13.977014",
     "exception": false,
     "start_time": "2024-07-16T10:53:13.947455",
     "status": "completed"
    },
    "tags": []
   },
   "outputs": [
    {
     "data": {
      "text/plain": [
       "(array([   1,    3,    6,    7,   24,   25,   44,   47,   73,   77,   79,\n",
       "         107,  109,  113,  117,  120,  126,  128,  129,  133,  141,  145,\n",
       "         152,  157,  162,  165,  170,  172,  173,  176,  183,  185,  187,\n",
       "         191,  206,  218,  225,  236,  252,  287,  296,  299,  308,  312,\n",
       "         316,  317,  318,  319,  320,  321,  322,  323,  324,  325,  326,\n",
       "         327,  328,  329,  330,  331,  332,  333,  334,  335,  336,  337,\n",
       "         338,  339,  340,  341,  342,  343,  344,  345,  346,  347,  348,\n",
       "         349,  350,  351,  352,  353,  354,  355,  356,  357,  358,  359,\n",
       "         360,  361,  362,  363,  364,  365,  366,  367,  368,  369,  370,\n",
       "         371,  372,  373,  374,  375,  376,  377,  378,  379,  380,  381,\n",
       "         382,  383,  384,  385,  386,  387,  388,  389,  390,  391,  392,\n",
       "         393,  396,  399,  402,  407,  411,  412,  413,  418,  424,  445,\n",
       "         450,  460,  466,  469,  492,  502,  511,  515,  520,  521,  524,\n",
       "         526,  538,  571,  597,  604,  610,  612,  623,  660,  672,  687,\n",
       "         700,  710,  711,  713,  715,  716,  717,  718,  719,  720,  721,\n",
       "         722,  723,  724,  725,  726,  727,  728,  729,  730,  731,  732,\n",
       "         733,  734,  735,  736,  737,  738,  739,  740,  741,  742,  743,\n",
       "         744,  745,  746,  747,  748,  749,  750,  751,  752,  753,  754,\n",
       "         755,  756,  757,  758,  760,  762,  764,  765,  770,  771,  776,\n",
       "         777,  778,  787,  802,  804,  811,  827,  829,  838,  842,  846,\n",
       "         847,  851,  856,  858,  859,  861,  869,  870,  875,  877,  878,\n",
       "         880,  881,  882,  883,  884,  887,  892,  893,  897,  901,  905,\n",
       "         909,  913,  958,  962,  966,  977,  979,  986,  993,  995,  998,\n",
       "        1000, 1006, 1007, 1009, 1015, 1033, 1035, 1048, 1063, 1064, 1067,\n",
       "        1072, 1080, 1081, 1084, 1094, 1097, 1098, 1099, 1100, 1101, 1102,\n",
       "        1103, 1104, 1105, 1106, 1107, 1108, 1109, 1110, 1111, 1112, 1113,\n",
       "        1114, 1115, 1116, 1117, 1118, 1119, 1120, 1121, 1122, 1123, 1124,\n",
       "        1125, 1126, 1127, 1128, 1129, 1130, 1131, 1132, 1133, 1134, 1135,\n",
       "        1136, 1137, 1138, 1139, 1140, 1141, 1142, 1143, 1144, 1145, 1146,\n",
       "        1147, 1148, 1149, 1150, 1151]),)"
      ]
     },
     "execution_count": 26,
     "metadata": {},
     "output_type": "execute_result"
    }
   ],
   "source": [
    "index = np.where(clusters<0)\n",
    "index"
   ]
  },
  {
   "cell_type": "markdown",
   "id": "deece442",
   "metadata": {
    "id": "islo4-NEYNAd",
    "papermill": {
     "duration": 0.015917,
     "end_time": "2024-07-16T10:53:14.074536",
     "exception": false,
     "start_time": "2024-07-16T10:53:14.058619",
     "status": "completed"
    },
    "tags": []
   },
   "source": [
    "#### Identify the core and the outliers\n"
   ]
  },
  {
   "cell_type": "code",
   "execution_count": 27,
   "id": "accc422a",
   "metadata": {
    "execution": {
     "iopub.execute_input": "2024-07-16T10:53:14.108686Z",
     "iopub.status.busy": "2024-07-16T10:53:14.108167Z",
     "iopub.status.idle": "2024-07-16T10:53:14.115681Z",
     "shell.execute_reply": "2024-07-16T10:53:14.114278Z"
    },
    "id": "XC1qQJ5xYRoQ",
    "papermill": {
     "duration": 0.027629,
     "end_time": "2024-07-16T10:53:14.118247",
     "exception": false,
     "start_time": "2024-07-16T10:53:14.090618",
     "status": "completed"
    },
    "tags": []
   },
   "outputs": [],
   "source": [
    "# Identify the core and the outliers\n",
    "import numpy as np\n",
    "\n",
    "core_samples = np.zeros_like(dbscan.labels_, dtype=bool)\n",
    "core_samples[dbscan.core_sample_indices_] = True\n",
    "labels = dbscan.labels_"
   ]
  },
  {
   "cell_type": "code",
   "execution_count": 28,
   "id": "d94de30f",
   "metadata": {
    "execution": {
     "iopub.execute_input": "2024-07-16T10:53:14.153151Z",
     "iopub.status.busy": "2024-07-16T10:53:14.152736Z",
     "iopub.status.idle": "2024-07-16T10:53:14.160450Z",
     "shell.execute_reply": "2024-07-16T10:53:14.159270Z"
    },
    "papermill": {
     "duration": 0.028735,
     "end_time": "2024-07-16T10:53:14.163076",
     "exception": false,
     "start_time": "2024-07-16T10:53:14.134341",
     "status": "completed"
    },
    "tags": []
   },
   "outputs": [
    {
     "data": {
      "text/plain": [
       "array([ 2, -1,  0, ..., -1, -1, -1])"
      ]
     },
     "execution_count": 28,
     "metadata": {},
     "output_type": "execute_result"
    }
   ],
   "source": [
    "labels"
   ]
  },
  {
   "cell_type": "code",
   "execution_count": 29,
   "id": "f2460713",
   "metadata": {
    "execution": {
     "iopub.execute_input": "2024-07-16T10:53:14.197861Z",
     "iopub.status.busy": "2024-07-16T10:53:14.197423Z",
     "iopub.status.idle": "2024-07-16T10:53:14.205810Z",
     "shell.execute_reply": "2024-07-16T10:53:14.204441Z"
    },
    "id": "OpDl3uA0YVdc",
    "outputId": "802675e9-5648-448c-c973-9db7c6efaee0",
    "papermill": {
     "duration": 0.028641,
     "end_time": "2024-07-16T10:53:14.208334",
     "exception": false,
     "start_time": "2024-07-16T10:53:14.179693",
     "status": "completed"
    },
    "tags": []
   },
   "outputs": [
    {
     "name": "stdout",
     "output_type": "stream",
     "text": [
      "Estimated number of clusters: 39\n",
      "Estimated number of noise points: 324\n"
     ]
    }
   ],
   "source": [
    "# Check the number of clusters after DBSCAN algorithm (ignoring noise if present)\n",
    "\n",
    "n_clusters_ = len(set(clusters)) - (1 if -1 in clusters else 0)\n",
    "n_noise_ = list(clusters).count(-1)\n",
    "\n",
    "print(f'Estimated number of clusters: {n_clusters_}')\n",
    "print(f'Estimated number of noise points: {n_noise_}')\n"
   ]
  },
  {
   "cell_type": "code",
   "execution_count": 30,
   "id": "1c37bf8e",
   "metadata": {
    "execution": {
     "iopub.execute_input": "2024-07-16T10:53:14.242796Z",
     "iopub.status.busy": "2024-07-16T10:53:14.242354Z",
     "iopub.status.idle": "2024-07-16T10:53:14.675695Z",
     "shell.execute_reply": "2024-07-16T10:53:14.674517Z"
    },
    "id": "m3bKOWJsIn8r",
    "papermill": {
     "duration": 0.454017,
     "end_time": "2024-07-16T10:53:14.678579",
     "exception": false,
     "start_time": "2024-07-16T10:53:14.224562",
     "status": "completed"
    },
    "tags": []
   },
   "outputs": [],
   "source": [
    "from sklearn.ensemble import IsolationForest\n",
    "\n",
    "# Apply Isolation Forest\n",
    "iso_forest = IsolationForest(contamination='auto', random_state=42)\n",
    "iso_labels = iso_forest.fit_predict(scaled_data)\n"
   ]
  },
  {
   "cell_type": "code",
   "execution_count": 31,
   "id": "9fc8b172",
   "metadata": {
    "execution": {
     "iopub.execute_input": "2024-07-16T10:53:14.714232Z",
     "iopub.status.busy": "2024-07-16T10:53:14.713787Z",
     "iopub.status.idle": "2024-07-16T10:53:14.721916Z",
     "shell.execute_reply": "2024-07-16T10:53:14.720780Z"
    },
    "papermill": {
     "duration": 0.02912,
     "end_time": "2024-07-16T10:53:14.724611",
     "exception": false,
     "start_time": "2024-07-16T10:53:14.695491",
     "status": "completed"
    },
    "tags": []
   },
   "outputs": [
    {
     "name": "stdout",
     "output_type": "stream",
     "text": [
      "Estimated number of clusters: 1\n",
      "Estimated number of noise points: 787\n"
     ]
    }
   ],
   "source": [
    "# Check the number of outliers after applying IForest algorithm (ignoring noise if present)\n",
    "\n",
    "n_clusters_ = len(set(iso_labels)) - (1 if -1 in iso_labels else 0)\n",
    "n_noise_ = list(iso_labels).count(-1)\n",
    "\n",
    "print(f'Estimated number of clusters: {n_clusters_}')\n",
    "print(f'Estimated number of noise points: {n_noise_}')\n"
   ]
  },
  {
   "cell_type": "markdown",
   "id": "90673bbc",
   "metadata": {
    "id": "0nolZKSBJg0V",
    "papermill": {
     "duration": 0.016044,
     "end_time": "2024-07-16T10:53:14.757065",
     "exception": false,
     "start_time": "2024-07-16T10:53:14.741021",
     "status": "completed"
    },
    "tags": []
   },
   "source": [
    "**7. Evaluate and Visualize Results**"
   ]
  },
  {
   "cell_type": "code",
   "execution_count": 32,
   "id": "702a82c5",
   "metadata": {
    "execution": {
     "iopub.execute_input": "2024-07-16T10:53:14.791486Z",
     "iopub.status.busy": "2024-07-16T10:53:14.791083Z",
     "iopub.status.idle": "2024-07-16T10:53:15.736880Z",
     "shell.execute_reply": "2024-07-16T10:53:15.735537Z"
    },
    "papermill": {
     "duration": 0.967345,
     "end_time": "2024-07-16T10:53:15.740606",
     "exception": false,
     "start_time": "2024-07-16T10:53:14.773261",
     "status": "completed"
    },
    "tags": []
   },
   "outputs": [
    {
     "data": {
      "image/png": "[encoded data removed]",
      "text/plain": [
       "<Figure size 1200x800 with 2 Axes>"
      ]
     },
     "metadata": {},
     "output_type": "display_data"
    }
   ],
   "source": [
    "import matplotlib.pyplot as plt\n",
    "\n",
    "# Create a figure with a specified size\n",
    "plt.figure(figsize=(12, 8))\n",
    "\n",
    "# Plot DBSCAN labels\n",
    "plt.subplot(2, 1, 1)\n",
    "plt.plot(sample_df.index, clusters, marker='o', linestyle='-', color='b', markersize=5)\n",
    "plt.title('DBSCAN Anomaly Detection', fontsize=16)\n",
    "plt.xlabel('Index', fontsize=14)\n",
    "plt.ylabel('Cluster Label', fontsize=14)\n",
    "plt.grid(True)\n",
    "plt.xticks(fontsize=12)\n",
    "plt.yticks(fontsize=12)\n",
    "\n",
    "# Plot Isolation Forest labels\n",
    "plt.subplot(2, 1, 2)\n",
    "plt.plot(sample_df.index, iso_labels, marker='o', linestyle='-', color='g', markersize=5)\n",
    "plt.title('Isolation Forest Anomaly Detection', fontsize=16)\n",
    "plt.xlabel('Index', fontsize=14)\n",
    "plt.ylabel('Anomaly Label', fontsize=14)\n",
    "plt.grid(True)\n",
    "plt.xticks(fontsize=12)\n",
    "plt.yticks(fontsize=12)\n",
    "\n",
    "# Adjust layout to prevent overlap\n",
    "plt.tight_layout()\n",
    "\n",
    "# Display the plots\n",
    "plt.show()\n"
   ]
  },
  {
   "cell_type": "code",
   "execution_count": 33,
   "id": "cf3e23d2",
   "metadata": {
    "execution": {
     "iopub.execute_input": "2024-07-16T10:53:15.779458Z",
     "iopub.status.busy": "2024-07-16T10:53:15.779060Z",
     "iopub.status.idle": "2024-07-16T10:53:15.833432Z",
     "shell.execute_reply": "2024-07-16T10:53:15.831876Z"
    },
    "id": "wdI3fuYhb6Y7",
    "outputId": "93114fd9-0096-4341-ec62-db2012659569",
    "papermill": {
     "duration": 0.078833,
     "end_time": "2024-07-16T10:53:15.837850",
     "exception": false,
     "start_time": "2024-07-16T10:53:15.759017",
     "status": "completed"
    },
    "tags": []
   },
   "outputs": [
    {
     "name": "stdout",
     "output_type": "stream",
     "text": [
      "Silhouette Coefficient: -0.028355530117917225\n"
     ]
    }
   ],
   "source": [
    "from sklearn.metrics import silhouette_score\n",
    "\n",
    "# Calculate Silhouette Coefficient\n",
    "silhouette_avg = silhouette_score(scaled_data, clusters)\n",
    "print(f\"Silhouette Coefficient: {silhouette_avg}\")"
   ]
  },
  {
   "cell_type": "code",
   "execution_count": 34,
   "id": "d63db632",
   "metadata": {
    "execution": {
     "iopub.execute_input": "2024-07-16T10:53:15.914801Z",
     "iopub.status.busy": "2024-07-16T10:53:15.914302Z",
     "iopub.status.idle": "2024-07-16T10:53:15.964395Z",
     "shell.execute_reply": "2024-07-16T10:53:15.962852Z"
    },
    "id": "Bu5IDG6QzehI",
    "outputId": "51e3db6f-ff60-4569-95aa-6aec6d2058fc",
    "papermill": {
     "duration": 0.091911,
     "end_time": "2024-07-16T10:53:15.968706",
     "exception": false,
     "start_time": "2024-07-16T10:53:15.876795",
     "status": "completed"
    },
    "tags": []
   },
   "outputs": [
    {
     "name": "stdout",
     "output_type": "stream",
     "text": [
      "Silhouette Coefficient: 0.0030179222615072535\n"
     ]
    }
   ],
   "source": [
    "from sklearn.metrics import silhouette_score\n",
    "\n",
    "# Calculate Silhouette Coefficient\n",
    "silhouette_isolation_f = silhouette_score(scaled_data, iso_labels)\n",
    "print(f\"Silhouette Coefficient: {silhouette_isolation_f}\")"
   ]
  },
  {
   "cell_type": "code",
   "execution_count": null,
   "id": "96beb2c2",
   "metadata": {
    "papermill": {
     "duration": 0.036875,
     "end_time": "2024-07-16T10:53:16.044154",
     "exception": false,
     "start_time": "2024-07-16T10:53:16.007279",
     "status": "completed"
    },
    "tags": []
   },
   "outputs": [],
   "source": []
  }
 ],
 "metadata": {
  "colab": {
   "provenance": [],
   "toc_visible": true
  },
  "kaggle": {
   "accelerator": "none",
   "dataSources": [
    {
     "datasetId": 5391588,
     "sourceId": 8958193,
     "sourceType": "datasetVersion"
    }
   ],
   "dockerImageVersionId": 30746,
   "isGpuEnabled": false,
   "isInternetEnabled": false,
   "language": "python",
   "sourceType": "notebook"
  },
  "kernelspec": {
   "display_name": "Python 3",
   "language": "python",
   "name": "python3"
  },
  "language_info": {
   "codemirror_mode": {
    "name": "ipython",
    "version": 3
   },
   "file_extension": ".py",
   "mimetype": "text/x-python",
   "name": "python",
   "nbconvert_exporter": "python",
   "pygments_lexer": "ipython3",
   "version": "3.10.13"
  },
  "papermill": {
   "default_parameters": {},
   "duration": 14.060839,
   "end_time": "2024-07-16T10:53:16.788004",
   "environment_variables": {},
   "exception": null,
   "input_path": "__notebook__.ipynb",
   "output_path": "__notebook__.ipynb",
   "parameters": {},
   "start_time": "2024-07-16T10:53:02.727165",
   "version": "2.5.0"
  }
 },
 "nbformat": 4,
 "nbformat_minor": 5
}
