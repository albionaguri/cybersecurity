{
 "cells": [
  {
   "cell_type": "markdown",
   "id": "d436a7ce",
   "metadata": {
    "id": "bzQjj0ebHm-h",
    "papermill": {
     "duration": 0.014737,
     "end_time": "2024-07-16T08:22:08.884141",
     "exception": false,
     "start_time": "2024-07-16T08:22:08.869404",
     "status": "completed"
    },
    "tags": []
   },
   "source": [
    "**1. Load and Inspect Data**\n",
    "\n",
    "\n"
   ]
  },
  {
   "cell_type": "code",
   "execution_count": 1,
   "id": "87f5e8f7",
   "metadata": {
    "execution": {
     "iopub.execute_input": "2024-07-16T08:22:08.914316Z",
     "iopub.status.busy": "2024-07-16T08:22:08.913907Z",
     "iopub.status.idle": "2024-07-16T08:22:12.322406Z",
     "shell.execute_reply": "2024-07-16T08:22:12.321062Z"
    },
    "id": "1I5zdHRnHjYZ",
    "outputId": "eeaca585-5aa7-4f9f-f0cd-f2aa18b4b787",
    "papermill": {
     "duration": 3.427138,
     "end_time": "2024-07-16T08:22:12.325269",
     "exception": false,
     "start_time": "2024-07-16T08:22:08.898131",
     "status": "completed"
    },
    "tags": []
   },
   "outputs": [
    {
     "name": "stdout",
     "output_type": "stream",
     "text": [
      "Train Data Shape: (528690, 10)\n",
      "   id            account         group              IP  \\\n",
      "0   1  xiaojiawei@qq.com  ÈËÊÂÐÐÕþÖÐÐÄ    192.168.1.50   \n",
      "1   2  xiaojiawei@qq.com  ÈËÊÂÐÐÕþÖÐÐÄ   192.168.31.46   \n",
      "2   3  xiaojiawei@qq.com  ÈËÊÂÐÐÕþÖÐÐÄ     192.168.2.3   \n",
      "3   4  xiaojiawei@qq.com  ÈËÊÂÐÐÕþÖÐÐÄ  192.168.145.30   \n",
      "4   5  xiaojiawei@qq.com  ÈËÊÂÐÐÕþÖÐÐÄ  192.168.178.92   \n",
      "\n",
      "                               url   port  vlan      switchIP            time  \\\n",
      "0                http://123.6.4.41  15788   700  129.30.06.37  2021/6/16 7:56   \n",
      "1           http://104.192.108.154  12665   700  152.91.89.45  2021/6/28 7:58   \n",
      "2              http://42.236.37.80  25551   700  129.30.06.37   2021/6/1 6:37   \n",
      "3  http://uf-api6-client.ksord.com  18274   700    162.6.8.29   2021/5/5 8:18   \n",
      "4           http://101.199.128.170  34572   700    162.0.1.84  2021/6/20 6:52   \n",
      "\n",
      "      ret  \n",
      "0  0.1149  \n",
      "1  0.1801  \n",
      "2  0.3690  \n",
      "3  0.1532  \n",
      "4  0.1449  \n"
     ]
    }
   ],
   "source": [
    "import pandas as pd\n",
    "import numpy as np\n",
    "\n",
    "train_data = pd.read_csv('/kaggle/input/ueba-dbscan-iforest/train_data.csv', encoding='latin1')\n",
    "\n",
    "print(\"Train Data Shape:\", train_data.shape)\n",
    "\n",
    "print(train_data.head())\n"
   ]
  },
  {
   "cell_type": "code",
   "execution_count": 2,
   "id": "391e3a88",
   "metadata": {
    "execution": {
     "iopub.execute_input": "2024-07-16T08:22:12.356144Z",
     "iopub.status.busy": "2024-07-16T08:22:12.355729Z",
     "iopub.status.idle": "2024-07-16T08:22:12.583092Z",
     "shell.execute_reply": "2024-07-16T08:22:12.581788Z"
    },
    "id": "3e3lziKeSIIW",
    "outputId": "c83fb447-1812-44d8-8f3f-2a2b371dba79",
    "papermill": {
     "duration": 0.246392,
     "end_time": "2024-07-16T08:22:12.586512",
     "exception": false,
     "start_time": "2024-07-16T08:22:12.340120",
     "status": "completed"
    },
    "tags": []
   },
   "outputs": [
    {
     "name": "stdout",
     "output_type": "stream",
     "text": [
      "Total observations: 528690\n",
      "Unique accounts: 151\n",
      "Unique IPs: 133\n",
      "Unique URLs: 1319\n",
      "Unique switchIPs: 133\n"
     ]
    }
   ],
   "source": [
    "print(\"Total observations:\", len(train_data))\n",
    "print(\"Unique accounts:\", train_data['account'].nunique())\n",
    "print(\"Unique IPs:\", train_data['IP'].nunique())\n",
    "print(\"Unique URLs:\", train_data['url'].nunique())\n",
    "print(\"Unique switchIPs:\", train_data['switchIP'].nunique())"
   ]
  },
  {
   "cell_type": "code",
   "execution_count": 3,
   "id": "bc17ed5f",
   "metadata": {
    "execution": {
     "iopub.execute_input": "2024-07-16T08:22:12.617628Z",
     "iopub.status.busy": "2024-07-16T08:22:12.617231Z",
     "iopub.status.idle": "2024-07-16T08:22:13.192199Z",
     "shell.execute_reply": "2024-07-16T08:22:13.190963Z"
    },
    "id": "4ZMCoAwbUhB2",
    "papermill": {
     "duration": 0.593624,
     "end_time": "2024-07-16T08:22:13.195266",
     "exception": false,
     "start_time": "2024-07-16T08:22:12.601642",
     "status": "completed"
    },
    "tags": []
   },
   "outputs": [],
   "source": [
    "# Convert 'time' column to datetime and sort by time\n",
    "train_data['time'] = pd.to_datetime(train_data['time'],format='%Y/%m/%d %H:%M')\n",
    "train_data = train_data.sort_values(by='time')\n"
   ]
  },
  {
   "cell_type": "code",
   "execution_count": 4,
   "id": "7d9e82ab",
   "metadata": {
    "execution": {
     "iopub.execute_input": "2024-07-16T08:22:13.227790Z",
     "iopub.status.busy": "2024-07-16T08:22:13.227307Z",
     "iopub.status.idle": "2024-07-16T08:22:13.239085Z",
     "shell.execute_reply": "2024-07-16T08:22:13.237859Z"
    },
    "id": "lDsB6SkAUkfd",
    "papermill": {
     "duration": 0.030854,
     "end_time": "2024-07-16T08:22:13.241960",
     "exception": false,
     "start_time": "2024-07-16T08:22:13.211106",
     "status": "completed"
    },
    "tags": []
   },
   "outputs": [],
   "source": [
    "# Temporal range of the dataset\n",
    "start_time = train_data['time'].min()\n",
    "end_time = train_data['time'].max()\n"
   ]
  },
  {
   "cell_type": "code",
   "execution_count": 5,
   "id": "3e08f9a5",
   "metadata": {
    "execution": {
     "iopub.execute_input": "2024-07-16T08:22:13.272676Z",
     "iopub.status.busy": "2024-07-16T08:22:13.271686Z",
     "iopub.status.idle": "2024-07-16T08:22:13.499252Z",
     "shell.execute_reply": "2024-07-16T08:22:13.497818Z"
    },
    "id": "zOayGyosIFdi",
    "outputId": "e3a7d621-bbc6-4aa4-dd56-161cfcb3977a",
    "papermill": {
     "duration": 0.245541,
     "end_time": "2024-07-16T08:22:13.501772",
     "exception": false,
     "start_time": "2024-07-16T08:22:13.256231",
     "status": "completed"
    },
    "tags": []
   },
   "outputs": [
    {
     "name": "stdout",
     "output_type": "stream",
     "text": [
      "First observation: 2021-04-30 18:05:00\n",
      "Latest observation: 2021-06-29 15:58:00\n",
      "Total observations: 528690\n",
      "Unique accounts: 151\n",
      "Unique IPs: 133\n",
      "Unique URLs: 1319\n",
      "Unique switchIPs: 133\n"
     ]
    }
   ],
   "source": [
    "print(f\"First observation: {start_time}\\nLatest observation: {end_time}\")\n",
    "print(\"Total observations:\", len(train_data))\n",
    "print(\"Unique accounts:\", train_data['account'].nunique())\n",
    "print(\"Unique IPs:\", train_data['IP'].nunique())\n",
    "print(\"Unique URLs:\", train_data['url'].nunique())\n",
    "print(\"Unique switchIPs:\", train_data['switchIP'].nunique())"
   ]
  },
  {
   "cell_type": "markdown",
   "id": "7252add0",
   "metadata": {
    "id": "d2wdNZV6INxh",
    "papermill": {
     "duration": 0.013981,
     "end_time": "2024-07-16T08:22:13.530013",
     "exception": false,
     "start_time": "2024-07-16T08:22:13.516032",
     "status": "completed"
    },
    "tags": []
   },
   "source": [
    "**2. Filter Data to Select Specific Users**"
   ]
  },
  {
   "cell_type": "code",
   "execution_count": 6,
   "id": "bf07bd10",
   "metadata": {
    "execution": {
     "iopub.execute_input": "2024-07-16T08:22:13.560221Z",
     "iopub.status.busy": "2024-07-16T08:22:13.559820Z",
     "iopub.status.idle": "2024-07-16T08:22:13.671735Z",
     "shell.execute_reply": "2024-07-16T08:22:13.670729Z"
    },
    "id": "U9sjR8xUHjcw",
    "papermill": {
     "duration": 0.130435,
     "end_time": "2024-07-16T08:22:13.674482",
     "exception": false,
     "start_time": "2024-07-16T08:22:13.544047",
     "status": "completed"
    },
    "tags": []
   },
   "outputs": [],
   "source": [
    "# Select a subset of users\n",
    "unique_users = train_data['account'].unique()\n",
    "selected_users = np.random.choice(unique_users, 5, replace=False)\n",
    "filtered_df = train_data[train_data['account'].isin(selected_users)]\n"
   ]
  },
  {
   "cell_type": "code",
   "execution_count": 7,
   "id": "234059b2",
   "metadata": {
    "execution": {
     "iopub.execute_input": "2024-07-16T08:22:13.704709Z",
     "iopub.status.busy": "2024-07-16T08:22:13.704305Z",
     "iopub.status.idle": "2024-07-16T08:22:13.721728Z",
     "shell.execute_reply": "2024-07-16T08:22:13.720362Z"
    },
    "id": "SYIbtyosU2Ow",
    "outputId": "b830b3bb-58cf-4fc5-e1b5-b4565b150fb6",
    "papermill": {
     "duration": 0.035578,
     "end_time": "2024-07-16T08:22:13.724292",
     "exception": false,
     "start_time": "2024-07-16T08:22:13.688714",
     "status": "completed"
    },
    "tags": []
   },
   "outputs": [
    {
     "name": "stdout",
     "output_type": "stream",
     "text": [
      "Total observations: 19915\n",
      "Unique accounts: 5\n",
      "Unique IPs: 121\n",
      "Unique URLs: 983\n",
      "Unique switchIPs: 119\n"
     ]
    }
   ],
   "source": [
    "print(\"Total observations:\", len(filtered_df))\n",
    "print(\"Unique accounts:\", filtered_df['account'].nunique())\n",
    "print(\"Unique IPs:\", filtered_df['IP'].nunique())\n",
    "print(\"Unique URLs:\", filtered_df['url'].nunique())\n",
    "print(\"Unique switchIPs:\", filtered_df['switchIP'].nunique())\n"
   ]
  },
  {
   "cell_type": "markdown",
   "id": "2b07b43b",
   "metadata": {
    "papermill": {
     "duration": 0.014432,
     "end_time": "2024-07-16T08:22:13.753313",
     "exception": false,
     "start_time": "2024-07-16T08:22:13.738881",
     "status": "completed"
    },
    "tags": []
   },
   "source": [
    "**2.1 Filter Data to Select Specific Time Ranges**"
   ]
  },
  {
   "cell_type": "code",
   "execution_count": 8,
   "id": "f0ff997e",
   "metadata": {
    "execution": {
     "iopub.execute_input": "2024-07-16T08:22:13.785881Z",
     "iopub.status.busy": "2024-07-16T08:22:13.785023Z",
     "iopub.status.idle": "2024-07-16T08:22:13.796743Z",
     "shell.execute_reply": "2024-07-16T08:22:13.794986Z"
    },
    "id": "Z72tATooIW3A",
    "papermill": {
     "duration": 0.031931,
     "end_time": "2024-07-16T08:22:13.799719",
     "exception": false,
     "start_time": "2024-07-16T08:22:13.767788",
     "status": "completed"
    },
    "tags": []
   },
   "outputs": [],
   "source": [
    "# Define the time range\n",
    "start_date = '2021-06-26'\n",
    "end_date = '2021-06-29'\n",
    "\n",
    "# Filter data within the time range\n",
    "sample_df = filtered_df[filtered_df['time'].between(start_date, end_date)]\n",
    "sample_df.set_index('time', inplace=True, drop=False)"
   ]
  },
  {
   "cell_type": "code",
   "execution_count": 9,
   "id": "dce508af",
   "metadata": {
    "execution": {
     "iopub.execute_input": "2024-07-16T08:22:13.841922Z",
     "iopub.status.busy": "2024-07-16T08:22:13.841232Z",
     "iopub.status.idle": "2024-07-16T08:22:13.851441Z",
     "shell.execute_reply": "2024-07-16T08:22:13.850342Z"
    },
    "id": "ncrRShAaXdmS",
    "outputId": "e0ff31ec-f29b-43df-fe30-7f526f377074",
    "papermill": {
     "duration": 0.033586,
     "end_time": "2024-07-16T08:22:13.854406",
     "exception": false,
     "start_time": "2024-07-16T08:22:13.820820",
     "status": "completed"
    },
    "tags": []
   },
   "outputs": [
    {
     "name": "stdout",
     "output_type": "stream",
     "text": [
      "Total observations: 999\n",
      "Unique accounts: 5\n",
      "Unique IPs: 86\n",
      "Unique URLs: 472\n",
      "Unique switchIPs: 89\n"
     ]
    }
   ],
   "source": [
    "print(\"Total observations:\", len(sample_df))\n",
    "print(\"Unique accounts:\", sample_df['account'].nunique())\n",
    "print(\"Unique IPs:\", sample_df['IP'].nunique())\n",
    "print(\"Unique URLs:\", sample_df['url'].nunique())\n",
    "print(\"Unique switchIPs:\", sample_df['switchIP'].nunique())\n"
   ]
  },
  {
   "cell_type": "code",
   "execution_count": 10,
   "id": "fdf3a799",
   "metadata": {
    "execution": {
     "iopub.execute_input": "2024-07-16T08:22:13.885961Z",
     "iopub.status.busy": "2024-07-16T08:22:13.885528Z",
     "iopub.status.idle": "2024-07-16T08:22:13.894340Z",
     "shell.execute_reply": "2024-07-16T08:22:13.893214Z"
    },
    "id": "Qi2IQjGfoSw1",
    "outputId": "dec05f07-69cd-4a1d-9cd5-64928c57226a",
    "papermill": {
     "duration": 0.027443,
     "end_time": "2024-07-16T08:22:13.896827",
     "exception": false,
     "start_time": "2024-07-16T08:22:13.869384",
     "status": "completed"
    },
    "tags": []
   },
   "outputs": [
    {
     "data": {
      "text/plain": [
       "Index(['id', 'account', 'group', 'IP', 'url', 'port', 'vlan', 'switchIP',\n",
       "       'time', 'ret'],\n",
       "      dtype='object')"
      ]
     },
     "execution_count": 10,
     "metadata": {},
     "output_type": "execute_result"
    }
   ],
   "source": [
    "sample_df.columns"
   ]
  },
  {
   "cell_type": "code",
   "execution_count": 11,
   "id": "7ed6970a",
   "metadata": {
    "execution": {
     "iopub.execute_input": "2024-07-16T08:22:13.929419Z",
     "iopub.status.busy": "2024-07-16T08:22:13.928009Z",
     "iopub.status.idle": "2024-07-16T08:22:13.938902Z",
     "shell.execute_reply": "2024-07-16T08:22:13.937435Z"
    },
    "id": "cxuGxUgAsKUk",
    "papermill": {
     "duration": 0.031291,
     "end_time": "2024-07-16T08:22:13.942638",
     "exception": false,
     "start_time": "2024-07-16T08:22:13.911347",
     "status": "completed"
    },
    "tags": []
   },
   "outputs": [],
   "source": [
    "sample_df = sample_df.drop(columns=['id', 'group', 'port', 'vlan','ret', 'switchIP'])"
   ]
  },
  {
   "cell_type": "code",
   "execution_count": 12,
   "id": "0fdfd96c",
   "metadata": {
    "execution": {
     "iopub.execute_input": "2024-07-16T08:22:13.985529Z",
     "iopub.status.busy": "2024-07-16T08:22:13.985153Z",
     "iopub.status.idle": "2024-07-16T08:22:13.994474Z",
     "shell.execute_reply": "2024-07-16T08:22:13.991407Z"
    },
    "papermill": {
     "duration": 0.03531,
     "end_time": "2024-07-16T08:22:13.998862",
     "exception": false,
     "start_time": "2024-07-16T08:22:13.963552",
     "status": "completed"
    },
    "tags": []
   },
   "outputs": [
    {
     "data": {
      "text/plain": [
       "(999, 4)"
      ]
     },
     "execution_count": 12,
     "metadata": {},
     "output_type": "execute_result"
    }
   ],
   "source": [
    "sample_df.shape"
   ]
  },
  {
   "cell_type": "code",
   "execution_count": 13,
   "id": "0867f1fa",
   "metadata": {
    "execution": {
     "iopub.execute_input": "2024-07-16T08:22:14.037841Z",
     "iopub.status.busy": "2024-07-16T08:22:14.037250Z",
     "iopub.status.idle": "2024-07-16T08:22:14.043415Z",
     "shell.execute_reply": "2024-07-16T08:22:14.041537Z"
    },
    "id": "PDGfQam9brHf",
    "papermill": {
     "duration": 0.030773,
     "end_time": "2024-07-16T08:22:14.047039",
     "exception": false,
     "start_time": "2024-07-16T08:22:14.016266",
     "status": "completed"
    },
    "tags": []
   },
   "outputs": [],
   "source": [
    "# numerical_features = [feature for feature in filtered_df.columns if sample_df[feature].dtypes != 'O' and sample_df[feature].dtype in ['int64', 'float64']]\n",
    "# discrete_features=[feature for feature in numerical_features if len(filtered_df[feature].unique())<15]\n",
    "# continuous_feature=[feature for feature in numerical_features if feature not in discrete_features]\n",
    "# categorical_features=[feature for feature in filtered_df.columns if filtered_df[feature].dtypes=='O' and feature not in ['id']]\n",
    "\n"
   ]
  },
  {
   "cell_type": "code",
   "execution_count": 14,
   "id": "57abf30d",
   "metadata": {
    "execution": {
     "iopub.execute_input": "2024-07-16T08:22:14.081756Z",
     "iopub.status.busy": "2024-07-16T08:22:14.080935Z",
     "iopub.status.idle": "2024-07-16T08:22:15.455534Z",
     "shell.execute_reply": "2024-07-16T08:22:15.454332Z"
    },
    "id": "GXOKQvLub9PK",
    "papermill": {
     "duration": 1.394272,
     "end_time": "2024-07-16T08:22:15.458816",
     "exception": false,
     "start_time": "2024-07-16T08:22:14.064544",
     "status": "completed"
    },
    "tags": []
   },
   "outputs": [],
   "source": [
    "from sklearn.feature_extraction import FeatureHasher\n",
    "\n",
    "cols = sample_df[[\"account\", \"IP\", \"url\"]]\n",
    "\n",
    "# Convert each value in the selected columns to a string\n",
    "cols = cols.map(str)\n",
    "\n",
    "# Convert selected columns to list of dictionaries\n",
    "data_dict = cols.to_dict(orient='records')\n",
    "\n",
    "# Initialize feature hasher\n",
    "hasher = FeatureHasher(n_features=10, input_type='string')\n",
    "hashed_features = hasher.fit_transform(data_dict).toarray()\n",
    "\n",
    "# Convert hashed features to DataFrame\n",
    "hashed_df = pd.DataFrame(hashed_features, columns=[f'feature_{i}' for i in range(hashed_features.shape[1])])\n",
    "\n",
    "# Combine the original DataFrame with hashed features\n",
    "result_df = pd.concat([cols.reset_index(), hashed_df], axis=1)"
   ]
  },
  {
   "cell_type": "code",
   "execution_count": 15,
   "id": "8104b7ce",
   "metadata": {
    "execution": {
     "iopub.execute_input": "2024-07-16T08:22:15.490405Z",
     "iopub.status.busy": "2024-07-16T08:22:15.489967Z",
     "iopub.status.idle": "2024-07-16T08:22:15.518471Z",
     "shell.execute_reply": "2024-07-16T08:22:15.517271Z"
    },
    "id": "Bn5xN0sHb9RQ",
    "outputId": "b5a3127f-9015-4e78-c3c2-1deacefcf1ad",
    "papermill": {
     "duration": 0.047474,
     "end_time": "2024-07-16T08:22:15.521176",
     "exception": false,
     "start_time": "2024-07-16T08:22:15.473702",
     "status": "completed"
    },
    "tags": []
   },
   "outputs": [
    {
     "data": {
      "text/html": [
       "<div>\n",
       "<style scoped>\n",
       "    .dataframe tbody tr th:only-of-type {\n",
       "        vertical-align: middle;\n",
       "    }\n",
       "\n",
       "    .dataframe tbody tr th {\n",
       "        vertical-align: top;\n",
       "    }\n",
       "\n",
       "    .dataframe thead th {\n",
       "        text-align: right;\n",
       "    }\n",
       "</style>\n",
       "<table border=\"1\" class=\"dataframe\">\n",
       "  <thead>\n",
       "    <tr style=\"text-align: right;\">\n",
       "      <th></th>\n",
       "      <th>time</th>\n",
       "      <th>account</th>\n",
       "      <th>IP</th>\n",
       "      <th>url</th>\n",
       "      <th>feature_0</th>\n",
       "      <th>feature_1</th>\n",
       "      <th>feature_2</th>\n",
       "      <th>feature_3</th>\n",
       "      <th>feature_4</th>\n",
       "      <th>feature_5</th>\n",
       "      <th>feature_6</th>\n",
       "      <th>feature_7</th>\n",
       "      <th>feature_8</th>\n",
       "      <th>feature_9</th>\n",
       "    </tr>\n",
       "  </thead>\n",
       "  <tbody>\n",
       "    <tr>\n",
       "      <th>0</th>\n",
       "      <td>2021-06-26 00:25:00</td>\n",
       "      <td>chenge@qq.com</td>\n",
       "      <td>192.168.1.7</td>\n",
       "      <td>http://42.236.43.111</td>\n",
       "      <td>-1.0</td>\n",
       "      <td>1.0</td>\n",
       "      <td>0.0</td>\n",
       "      <td>0.0</td>\n",
       "      <td>0.0</td>\n",
       "      <td>0.0</td>\n",
       "      <td>-1.0</td>\n",
       "      <td>0.0</td>\n",
       "      <td>0.0</td>\n",
       "      <td>0.0</td>\n",
       "    </tr>\n",
       "    <tr>\n",
       "      <th>1</th>\n",
       "      <td>2021-06-26 00:25:00</td>\n",
       "      <td>chenge@qq.com</td>\n",
       "      <td>192.168.43.56</td>\n",
       "      <td>http://112.64.234.137</td>\n",
       "      <td>-1.0</td>\n",
       "      <td>1.0</td>\n",
       "      <td>0.0</td>\n",
       "      <td>0.0</td>\n",
       "      <td>0.0</td>\n",
       "      <td>0.0</td>\n",
       "      <td>-1.0</td>\n",
       "      <td>0.0</td>\n",
       "      <td>0.0</td>\n",
       "      <td>0.0</td>\n",
       "    </tr>\n",
       "    <tr>\n",
       "      <th>2</th>\n",
       "      <td>2021-06-26 00:40:00</td>\n",
       "      <td>chenge@qq.com</td>\n",
       "      <td>10.59.20.199</td>\n",
       "      <td>http://119.6.229.143</td>\n",
       "      <td>-1.0</td>\n",
       "      <td>1.0</td>\n",
       "      <td>0.0</td>\n",
       "      <td>0.0</td>\n",
       "      <td>0.0</td>\n",
       "      <td>0.0</td>\n",
       "      <td>-1.0</td>\n",
       "      <td>0.0</td>\n",
       "      <td>0.0</td>\n",
       "      <td>0.0</td>\n",
       "    </tr>\n",
       "    <tr>\n",
       "      <th>3</th>\n",
       "      <td>2021-06-26 00:46:00</td>\n",
       "      <td>chenge@qq.com</td>\n",
       "      <td>192.168.1.140</td>\n",
       "      <td>http://sv.symcd.com</td>\n",
       "      <td>-1.0</td>\n",
       "      <td>1.0</td>\n",
       "      <td>0.0</td>\n",
       "      <td>0.0</td>\n",
       "      <td>0.0</td>\n",
       "      <td>0.0</td>\n",
       "      <td>-1.0</td>\n",
       "      <td>0.0</td>\n",
       "      <td>0.0</td>\n",
       "      <td>0.0</td>\n",
       "    </tr>\n",
       "    <tr>\n",
       "      <th>4</th>\n",
       "      <td>2021-06-26 00:52:00</td>\n",
       "      <td>chenge@qq.com</td>\n",
       "      <td>192.168.145.54</td>\n",
       "      <td>http://180.163.235.122</td>\n",
       "      <td>-1.0</td>\n",
       "      <td>1.0</td>\n",
       "      <td>0.0</td>\n",
       "      <td>0.0</td>\n",
       "      <td>0.0</td>\n",
       "      <td>0.0</td>\n",
       "      <td>-1.0</td>\n",
       "      <td>0.0</td>\n",
       "      <td>0.0</td>\n",
       "      <td>0.0</td>\n",
       "    </tr>\n",
       "  </tbody>\n",
       "</table>\n",
       "</div>"
      ],
      "text/plain": [
       "                 time        account              IP                     url  \\\n",
       "0 2021-06-26 00:25:00  chenge@qq.com     192.168.1.7    http://42.236.43.111   \n",
       "1 2021-06-26 00:25:00  chenge@qq.com   192.168.43.56   http://112.64.234.137   \n",
       "2 2021-06-26 00:40:00  chenge@qq.com    10.59.20.199    http://119.6.229.143   \n",
       "3 2021-06-26 00:46:00  chenge@qq.com   192.168.1.140     http://sv.symcd.com   \n",
       "4 2021-06-26 00:52:00  chenge@qq.com  192.168.145.54  http://180.163.235.122   \n",
       "\n",
       "   feature_0  feature_1  feature_2  feature_3  feature_4  feature_5  \\\n",
       "0       -1.0        1.0        0.0        0.0        0.0        0.0   \n",
       "1       -1.0        1.0        0.0        0.0        0.0        0.0   \n",
       "2       -1.0        1.0        0.0        0.0        0.0        0.0   \n",
       "3       -1.0        1.0        0.0        0.0        0.0        0.0   \n",
       "4       -1.0        1.0        0.0        0.0        0.0        0.0   \n",
       "\n",
       "   feature_6  feature_7  feature_8  feature_9  \n",
       "0       -1.0        0.0        0.0        0.0  \n",
       "1       -1.0        0.0        0.0        0.0  \n",
       "2       -1.0        0.0        0.0        0.0  \n",
       "3       -1.0        0.0        0.0        0.0  \n",
       "4       -1.0        0.0        0.0        0.0  "
      ]
     },
     "execution_count": 15,
     "metadata": {},
     "output_type": "execute_result"
    }
   ],
   "source": [
    "result_df.head()"
   ]
  },
  {
   "cell_type": "markdown",
   "id": "c10b6d3c",
   "metadata": {
    "id": "Gu6LoHMX1om-",
    "papermill": {
     "duration": 0.014711,
     "end_time": "2024-07-16T08:22:15.551137",
     "exception": false,
     "start_time": "2024-07-16T08:22:15.536426",
     "status": "completed"
    },
    "tags": []
   },
   "source": [
    "### **Pre-processing of Time column**"
   ]
  },
  {
   "cell_type": "code",
   "execution_count": 16,
   "id": "cf5230a7",
   "metadata": {
    "execution": {
     "iopub.execute_input": "2024-07-16T08:22:15.583781Z",
     "iopub.status.busy": "2024-07-16T08:22:15.582720Z",
     "iopub.status.idle": "2024-07-16T08:22:15.592394Z",
     "shell.execute_reply": "2024-07-16T08:22:15.591166Z"
    },
    "id": "6bKx9-NW1eWD",
    "papermill": {
     "duration": 0.028883,
     "end_time": "2024-07-16T08:22:15.595051",
     "exception": false,
     "start_time": "2024-07-16T08:22:15.566168",
     "status": "completed"
    },
    "tags": []
   },
   "outputs": [],
   "source": [
    "# Extract numerical features\n",
    "result_df['hour'] = result_df['time'].dt.hour\n",
    "result_df['day_of_week'] = result_df['time'].dt.day_of_week\n",
    "result_df['month'] = result_df['time'].dt.month\n"
   ]
  },
  {
   "cell_type": "code",
   "execution_count": 17,
   "id": "603cf67e",
   "metadata": {
    "execution": {
     "iopub.execute_input": "2024-07-16T08:22:15.627639Z",
     "iopub.status.busy": "2024-07-16T08:22:15.626628Z",
     "iopub.status.idle": "2024-07-16T08:22:15.635413Z",
     "shell.execute_reply": "2024-07-16T08:22:15.634016Z"
    },
    "id": "uN_lnOvV1eYX",
    "papermill": {
     "duration": 0.02751,
     "end_time": "2024-07-16T08:22:15.637795",
     "exception": false,
     "start_time": "2024-07-16T08:22:15.610285",
     "status": "completed"
    },
    "tags": []
   },
   "outputs": [],
   "source": [
    "result_df.drop('time', axis=1, inplace=True)"
   ]
  },
  {
   "cell_type": "code",
   "execution_count": 18,
   "id": "4bd013aa",
   "metadata": {
    "execution": {
     "iopub.execute_input": "2024-07-16T08:22:15.669886Z",
     "iopub.status.busy": "2024-07-16T08:22:15.669477Z",
     "iopub.status.idle": "2024-07-16T08:22:15.694095Z",
     "shell.execute_reply": "2024-07-16T08:22:15.692862Z"
    },
    "id": "Thp9NuBp1eak",
    "outputId": "db646553-df33-4ef9-efb0-606933f749c6",
    "papermill": {
     "duration": 0.04367,
     "end_time": "2024-07-16T08:22:15.696700",
     "exception": false,
     "start_time": "2024-07-16T08:22:15.653030",
     "status": "completed"
    },
    "tags": []
   },
   "outputs": [
    {
     "data": {
      "text/html": [
       "<div>\n",
       "<style scoped>\n",
       "    .dataframe tbody tr th:only-of-type {\n",
       "        vertical-align: middle;\n",
       "    }\n",
       "\n",
       "    .dataframe tbody tr th {\n",
       "        vertical-align: top;\n",
       "    }\n",
       "\n",
       "    .dataframe thead th {\n",
       "        text-align: right;\n",
       "    }\n",
       "</style>\n",
       "<table border=\"1\" class=\"dataframe\">\n",
       "  <thead>\n",
       "    <tr style=\"text-align: right;\">\n",
       "      <th></th>\n",
       "      <th>account</th>\n",
       "      <th>IP</th>\n",
       "      <th>url</th>\n",
       "      <th>feature_0</th>\n",
       "      <th>feature_1</th>\n",
       "      <th>feature_2</th>\n",
       "      <th>feature_3</th>\n",
       "      <th>feature_4</th>\n",
       "      <th>feature_5</th>\n",
       "      <th>feature_6</th>\n",
       "      <th>feature_7</th>\n",
       "      <th>feature_8</th>\n",
       "      <th>feature_9</th>\n",
       "      <th>hour</th>\n",
       "      <th>day_of_week</th>\n",
       "      <th>month</th>\n",
       "    </tr>\n",
       "  </thead>\n",
       "  <tbody>\n",
       "    <tr>\n",
       "      <th>0</th>\n",
       "      <td>chenge@qq.com</td>\n",
       "      <td>192.168.1.7</td>\n",
       "      <td>http://42.236.43.111</td>\n",
       "      <td>-1.0</td>\n",
       "      <td>1.0</td>\n",
       "      <td>0.0</td>\n",
       "      <td>0.0</td>\n",
       "      <td>0.0</td>\n",
       "      <td>0.0</td>\n",
       "      <td>-1.0</td>\n",
       "      <td>0.0</td>\n",
       "      <td>0.0</td>\n",
       "      <td>0.0</td>\n",
       "      <td>0</td>\n",
       "      <td>5</td>\n",
       "      <td>6</td>\n",
       "    </tr>\n",
       "    <tr>\n",
       "      <th>1</th>\n",
       "      <td>chenge@qq.com</td>\n",
       "      <td>192.168.43.56</td>\n",
       "      <td>http://112.64.234.137</td>\n",
       "      <td>-1.0</td>\n",
       "      <td>1.0</td>\n",
       "      <td>0.0</td>\n",
       "      <td>0.0</td>\n",
       "      <td>0.0</td>\n",
       "      <td>0.0</td>\n",
       "      <td>-1.0</td>\n",
       "      <td>0.0</td>\n",
       "      <td>0.0</td>\n",
       "      <td>0.0</td>\n",
       "      <td>0</td>\n",
       "      <td>5</td>\n",
       "      <td>6</td>\n",
       "    </tr>\n",
       "    <tr>\n",
       "      <th>2</th>\n",
       "      <td>chenge@qq.com</td>\n",
       "      <td>10.59.20.199</td>\n",
       "      <td>http://119.6.229.143</td>\n",
       "      <td>-1.0</td>\n",
       "      <td>1.0</td>\n",
       "      <td>0.0</td>\n",
       "      <td>0.0</td>\n",
       "      <td>0.0</td>\n",
       "      <td>0.0</td>\n",
       "      <td>-1.0</td>\n",
       "      <td>0.0</td>\n",
       "      <td>0.0</td>\n",
       "      <td>0.0</td>\n",
       "      <td>0</td>\n",
       "      <td>5</td>\n",
       "      <td>6</td>\n",
       "    </tr>\n",
       "    <tr>\n",
       "      <th>3</th>\n",
       "      <td>chenge@qq.com</td>\n",
       "      <td>192.168.1.140</td>\n",
       "      <td>http://sv.symcd.com</td>\n",
       "      <td>-1.0</td>\n",
       "      <td>1.0</td>\n",
       "      <td>0.0</td>\n",
       "      <td>0.0</td>\n",
       "      <td>0.0</td>\n",
       "      <td>0.0</td>\n",
       "      <td>-1.0</td>\n",
       "      <td>0.0</td>\n",
       "      <td>0.0</td>\n",
       "      <td>0.0</td>\n",
       "      <td>0</td>\n",
       "      <td>5</td>\n",
       "      <td>6</td>\n",
       "    </tr>\n",
       "  </tbody>\n",
       "</table>\n",
       "</div>"
      ],
      "text/plain": [
       "         account             IP                    url  feature_0  feature_1  \\\n",
       "0  chenge@qq.com    192.168.1.7   http://42.236.43.111       -1.0        1.0   \n",
       "1  chenge@qq.com  192.168.43.56  http://112.64.234.137       -1.0        1.0   \n",
       "2  chenge@qq.com   10.59.20.199   http://119.6.229.143       -1.0        1.0   \n",
       "3  chenge@qq.com  192.168.1.140    http://sv.symcd.com       -1.0        1.0   \n",
       "\n",
       "   feature_2  feature_3  feature_4  feature_5  feature_6  feature_7  \\\n",
       "0        0.0        0.0        0.0        0.0       -1.0        0.0   \n",
       "1        0.0        0.0        0.0        0.0       -1.0        0.0   \n",
       "2        0.0        0.0        0.0        0.0       -1.0        0.0   \n",
       "3        0.0        0.0        0.0        0.0       -1.0        0.0   \n",
       "\n",
       "   feature_8  feature_9  hour  day_of_week  month  \n",
       "0        0.0        0.0     0            5      6  \n",
       "1        0.0        0.0     0            5      6  \n",
       "2        0.0        0.0     0            5      6  \n",
       "3        0.0        0.0     0            5      6  "
      ]
     },
     "execution_count": 18,
     "metadata": {},
     "output_type": "execute_result"
    }
   ],
   "source": [
    "result_df.head(4)"
   ]
  },
  {
   "cell_type": "markdown",
   "id": "34d5d346",
   "metadata": {
    "id": "j9zxXu6d4KIC",
    "papermill": {
     "duration": 0.014974,
     "end_time": "2024-07-16T08:22:15.727277",
     "exception": false,
     "start_time": "2024-07-16T08:22:15.712303",
     "status": "completed"
    },
    "tags": []
   },
   "source": [
    "**Extracting the hashed features**"
   ]
  },
  {
   "cell_type": "code",
   "execution_count": 19,
   "id": "3b416dc4",
   "metadata": {
    "execution": {
     "iopub.execute_input": "2024-07-16T08:22:15.759963Z",
     "iopub.status.busy": "2024-07-16T08:22:15.759530Z",
     "iopub.status.idle": "2024-07-16T08:22:15.777376Z",
     "shell.execute_reply": "2024-07-16T08:22:15.776022Z"
    },
    "id": "AVJsxSKR1eeB",
    "outputId": "f75c036e-c19d-4141-d9a6-926666771410",
    "papermill": {
     "duration": 0.037775,
     "end_time": "2024-07-16T08:22:15.780481",
     "exception": false,
     "start_time": "2024-07-16T08:22:15.742706",
     "status": "completed"
    },
    "tags": []
   },
   "outputs": [
    {
     "name": "stdout",
     "output_type": "stream",
     "text": [
      "   feature_0  feature_1  feature_2  feature_3  feature_4  feature_5  \\\n",
      "0       -1.0        1.0        0.0        0.0        0.0        0.0   \n",
      "1       -1.0        1.0        0.0        0.0        0.0        0.0   \n",
      "2       -1.0        1.0        0.0        0.0        0.0        0.0   \n",
      "3       -1.0        1.0        0.0        0.0        0.0        0.0   \n",
      "4       -1.0        1.0        0.0        0.0        0.0        0.0   \n",
      "\n",
      "   feature_6  feature_7  feature_8  feature_9  hour  day_of_week  month  \n",
      "0       -1.0        0.0        0.0        0.0     0            5      6  \n",
      "1       -1.0        0.0        0.0        0.0     0            5      6  \n",
      "2       -1.0        0.0        0.0        0.0     0            5      6  \n",
      "3       -1.0        0.0        0.0        0.0     0            5      6  \n",
      "4       -1.0        0.0        0.0        0.0     0            5      6  \n"
     ]
    }
   ],
   "source": [
    "import pandas as pd\n",
    "\n",
    "selected_columns = ['feature_' + str(i) for i in range(10)] + ['hour', 'day_of_week', 'month']\n",
    "\n",
    "# Create a new DataFrame with the selected columns\n",
    "df_selected = result_df[selected_columns]\n",
    "\n",
    "# Now df_selected contains only the columns you want to use\n",
    "print(df_selected.head())"
   ]
  },
  {
   "cell_type": "code",
   "execution_count": 20,
   "id": "af053b19",
   "metadata": {
    "execution": {
     "iopub.execute_input": "2024-07-16T08:22:15.815351Z",
     "iopub.status.busy": "2024-07-16T08:22:15.814379Z",
     "iopub.status.idle": "2024-07-16T08:22:15.821739Z",
     "shell.execute_reply": "2024-07-16T08:22:15.820502Z"
    },
    "papermill": {
     "duration": 0.027047,
     "end_time": "2024-07-16T08:22:15.824427",
     "exception": false,
     "start_time": "2024-07-16T08:22:15.797380",
     "status": "completed"
    },
    "tags": []
   },
   "outputs": [
    {
     "data": {
      "text/plain": [
       "(999, 13)"
      ]
     },
     "execution_count": 20,
     "metadata": {},
     "output_type": "execute_result"
    }
   ],
   "source": [
    "df_selected.shape"
   ]
  },
  {
   "cell_type": "markdown",
   "id": "4ad8aafa",
   "metadata": {
    "id": "aWZF1lyrIjsK",
    "papermill": {
     "duration": 0.015553,
     "end_time": "2024-07-16T08:22:15.857659",
     "exception": false,
     "start_time": "2024-07-16T08:22:15.842106",
     "status": "completed"
    },
    "tags": []
   },
   "source": [
    "**4. Preprocess (Normalize) the Data**"
   ]
  },
  {
   "cell_type": "code",
   "execution_count": 21,
   "id": "8eface42",
   "metadata": {
    "execution": {
     "iopub.execute_input": "2024-07-16T08:22:15.891109Z",
     "iopub.status.busy": "2024-07-16T08:22:15.890688Z",
     "iopub.status.idle": "2024-07-16T08:22:15.903550Z",
     "shell.execute_reply": "2024-07-16T08:22:15.902123Z"
    },
    "id": "3nxpzSewIbJo",
    "papermill": {
     "duration": 0.033105,
     "end_time": "2024-07-16T08:22:15.906462",
     "exception": false,
     "start_time": "2024-07-16T08:22:15.873357",
     "status": "completed"
    },
    "tags": []
   },
   "outputs": [],
   "source": [
    "from sklearn.preprocessing import StandardScaler\n",
    "\n",
    "# Normalize data\n",
    "scaler = StandardScaler()\n",
    "scaled_data = scaler.fit_transform(df_selected)\n"
   ]
  },
  {
   "cell_type": "markdown",
   "id": "8e354545",
   "metadata": {
    "id": "EBOhg_v9YApJ",
    "papermill": {
     "duration": 0.015368,
     "end_time": "2024-07-16T08:22:15.937741",
     "exception": false,
     "start_time": "2024-07-16T08:22:15.922373",
     "status": "completed"
    },
    "tags": []
   },
   "source": [
    "**DBSCAN algorithm**"
   ]
  },
  {
   "cell_type": "code",
   "execution_count": 22,
   "id": "87cb7880",
   "metadata": {
    "execution": {
     "iopub.execute_input": "2024-07-16T08:22:15.971281Z",
     "iopub.status.busy": "2024-07-16T08:22:15.970346Z",
     "iopub.status.idle": "2024-07-16T08:22:16.506372Z",
     "shell.execute_reply": "2024-07-16T08:22:16.505204Z"
    },
    "id": "_cMzjUKVX_rA",
    "papermill": {
     "duration": 0.556021,
     "end_time": "2024-07-16T08:22:16.509395",
     "exception": false,
     "start_time": "2024-07-16T08:22:15.953374",
     "status": "completed"
    },
    "tags": []
   },
   "outputs": [],
   "source": [
    "from sklearn.cluster import DBSCAN\n",
    "\n",
    "# Apply DBSCAN\n",
    "epsilon = 0.5\n",
    "min_samples = 5\n",
    "dbscan = DBSCAN(eps=epsilon, min_samples=min_samples)\n",
    "clusters = dbscan.fit_predict(scaled_data)"
   ]
  },
  {
   "cell_type": "code",
   "execution_count": 23,
   "id": "b5c23cf4",
   "metadata": {
    "execution": {
     "iopub.execute_input": "2024-07-16T08:22:16.543435Z",
     "iopub.status.busy": "2024-07-16T08:22:16.542428Z",
     "iopub.status.idle": "2024-07-16T08:22:16.554595Z",
     "shell.execute_reply": "2024-07-16T08:22:16.553336Z"
    },
    "papermill": {
     "duration": 0.032168,
     "end_time": "2024-07-16T08:22:16.557298",
     "exception": false,
     "start_time": "2024-07-16T08:22:16.525130",
     "status": "completed"
    },
    "tags": []
   },
   "outputs": [
    {
     "data": {
      "text/plain": [
       "array([ 0,  0,  0,  0,  0,  0,  0,  0,  0,  0,  0,  0,  0,  0,  0,  0,  0,\n",
       "        0,  0,  0,  0,  0,  0,  0,  0,  0,  0,  0,  0,  0,  0,  0,  0,  0,\n",
       "        0,  0,  0,  0,  0,  0,  0,  0,  0,  0,  0,  0,  0,  0,  0,  0,  0,\n",
       "        0,  0,  0,  0,  0,  0,  0,  0,  0,  0,  0,  0,  0,  0,  0,  0,  0,\n",
       "        0,  0,  0,  0,  0,  0,  0,  0,  0,  0,  0,  0,  0,  0,  0,  0,  0,\n",
       "        0,  0,  0,  0,  0,  0,  0,  0,  0,  0,  0,  0,  0,  0,  0,  0,  0,\n",
       "        0,  0,  0,  0,  0,  0,  0,  0,  0,  0,  0,  0,  0,  0,  0,  0,  0,\n",
       "        0,  0,  0,  0,  0,  0,  0,  0,  0,  0,  0,  0,  0,  0,  0,  0,  0,\n",
       "        0,  0,  0,  0,  0,  0,  0,  0,  0,  0,  0,  0,  0,  0,  0,  0,  0,\n",
       "        0,  0,  0,  0,  0,  0,  0,  0,  0,  0,  0,  0,  0,  0,  0,  0,  0,\n",
       "        0,  0,  0,  0,  0,  0,  0,  0,  0,  0,  0,  0,  0,  0,  0,  0,  0,\n",
       "        0,  0,  0,  0,  0,  0,  0,  0,  0,  0,  0,  0,  0,  0,  0,  0,  0,\n",
       "        0,  0,  0,  0,  0,  0,  0,  0,  0,  0,  0,  0,  0,  0,  0,  0,  0,\n",
       "        0,  0,  0,  0,  0,  0,  0,  0,  0,  0,  0,  0,  0,  0,  0,  0,  0,\n",
       "        0,  0,  0,  0,  0,  0,  0,  0,  0,  0,  0,  0,  0,  0,  0,  0,  0,\n",
       "        0,  0,  0,  0,  0,  0,  0,  0,  0,  0,  0,  0,  0,  0,  0,  0,  0,\n",
       "        0,  0,  0,  0,  0,  0,  0,  0,  0,  0,  0,  0,  0,  0,  0,  0,  0,\n",
       "        0,  0,  0,  0,  0,  0,  0,  0,  0,  0,  0,  0,  0,  0,  0,  0,  0,\n",
       "        0,  0,  0,  0,  0,  0,  0,  0,  0,  0,  0,  0,  0,  0,  0,  0,  0,\n",
       "        0,  0,  0,  0,  0,  0,  0,  0,  0,  0,  0,  0,  0,  0,  0,  0,  0,\n",
       "        0,  0,  0,  0,  0,  0,  0,  0,  0,  0,  0,  0,  0,  0,  0,  0,  0,\n",
       "        0,  0,  0,  0,  0,  0,  0,  0,  0,  0,  0,  0,  0,  0,  0,  0,  0,\n",
       "        0,  0,  0,  0,  0,  0,  0,  0,  0,  0,  0,  0,  0,  0,  0,  0,  0,\n",
       "        0,  0,  0,  0,  0,  0,  0,  0,  0,  0,  0,  0,  0,  0,  0,  0,  0,\n",
       "        0,  0,  0,  0,  0,  0,  0,  0,  0,  0,  0,  0,  0,  0,  0,  0,  0,\n",
       "        0,  0,  0,  0,  0,  0,  0,  0,  0,  0,  0,  0,  0,  0,  0,  0,  0,\n",
       "        0,  0,  0,  0,  0,  0,  0,  0,  0,  0,  0,  0,  0,  0,  0,  0,  0,\n",
       "        0,  0,  0,  0,  0,  0,  0,  0,  0,  0,  0,  0,  0,  0,  0,  0,  0,\n",
       "        0,  0,  0,  0,  0,  0,  0,  0,  0,  0,  0,  0,  0,  0,  0,  0,  0,\n",
       "        0,  0,  0,  0,  0,  0,  0,  0,  0,  0,  0,  0,  0,  0,  0,  0,  0,\n",
       "        0,  0,  0,  0,  0,  0,  0,  0,  0,  0,  0,  0,  0,  0,  0,  0,  0,\n",
       "        0,  0,  0,  0,  0,  0,  0,  0,  0,  0,  0,  0,  0,  0,  0,  0,  0,\n",
       "        0,  0,  0,  0,  0,  0,  0,  0,  0,  0,  0,  0,  0,  0,  0,  0,  0,\n",
       "        0,  0,  0,  0,  0,  0,  0,  0,  0,  0,  0,  0,  0,  0,  0,  0,  0,\n",
       "        0,  0,  0,  0,  0,  0,  0,  0,  0,  0,  0,  0,  0,  0,  0,  0,  0,\n",
       "        0,  0,  0,  0,  0,  0,  0,  0,  0,  0,  0,  0,  0,  0,  0,  0,  0,\n",
       "        0,  0,  0,  0,  0,  0,  0,  0,  0,  0,  0,  0,  0,  0,  0,  0,  0,\n",
       "        0,  0,  0,  0,  0,  0,  0,  0,  0,  0,  0,  0,  0,  0,  0,  0,  0,\n",
       "        0,  0,  0,  0,  0,  0,  0,  0,  0,  0,  0,  0,  0,  0,  0,  0,  0,\n",
       "        0,  0,  0,  0,  0,  0,  0,  0,  0,  0,  0,  0,  0,  0,  0,  0,  0,\n",
       "       -1,  1,  1,  1,  1,  1,  1,  1,  1,  1,  1,  1,  1,  1,  1,  1,  1,\n",
       "        1,  1,  1,  1,  1,  1,  1,  1,  1,  1,  1,  1,  1,  1,  1,  1,  1,\n",
       "        1,  1,  1,  1,  1,  1,  1,  1,  1,  1,  1,  1,  1,  1,  1,  1,  1,\n",
       "        1,  1,  1,  1,  1,  1,  1,  1,  1,  1,  1,  1,  1,  1,  1,  1,  1,\n",
       "        1,  1,  1,  1,  1,  1,  1,  1,  1,  1,  1,  1,  1,  1,  1,  1,  1,\n",
       "        1,  1,  1,  1,  1,  1,  1,  1,  1,  1,  1,  1,  1,  1,  1,  1,  1,\n",
       "        1,  1,  1,  1,  1,  1,  1,  1,  1,  1,  1,  1,  1,  1,  1,  1,  1,\n",
       "        1,  1,  1,  1,  1,  1,  1,  1,  1,  1,  1,  1,  1,  1,  1,  1,  1,\n",
       "        1,  1,  1,  1,  1,  1,  1,  1,  1,  1,  1,  1,  1,  1,  1,  1,  1,\n",
       "        1,  1,  1,  1,  1,  1,  1,  1,  1,  1,  1,  1,  1,  1,  1,  1,  1,\n",
       "        1,  1,  1,  1,  1,  1,  1,  1,  1,  1,  1,  1,  1,  1,  1,  1,  1,\n",
       "        1,  1,  1,  1,  1,  1,  1,  1,  1,  1,  1,  1,  1,  1,  1,  1,  1,\n",
       "        1,  1,  1,  1,  1,  1,  1,  1,  1,  1,  1,  1,  1,  1,  1,  1,  1,\n",
       "        1,  1,  1,  1,  1,  1,  1,  1,  1,  1,  1,  1,  1,  1,  1,  1,  1,\n",
       "        1,  1,  1,  1,  1,  1,  1,  1,  1,  1,  1,  1,  1,  1,  1,  1,  1,\n",
       "        1,  1,  1,  1,  1,  1,  1,  1,  1,  1,  1,  1,  1,  1,  1,  1,  1,\n",
       "        1,  1,  1,  1,  1,  1,  1,  1,  1,  1,  1,  1,  1,  1,  1,  1,  1,\n",
       "        1,  1,  1,  1,  1,  1,  1,  1,  1,  1,  1,  1,  1,  1,  1,  1,  1,\n",
       "        1,  1,  1,  1,  1,  1,  1,  1,  1,  1,  1,  1, -1])"
      ]
     },
     "execution_count": 23,
     "metadata": {},
     "output_type": "execute_result"
    }
   ],
   "source": [
    "clusters"
   ]
  },
  {
   "cell_type": "code",
   "execution_count": 24,
   "id": "e40cdd75",
   "metadata": {
    "execution": {
     "iopub.execute_input": "2024-07-16T08:22:16.657711Z",
     "iopub.status.busy": "2024-07-16T08:22:16.657249Z",
     "iopub.status.idle": "2024-07-16T08:22:16.665362Z",
     "shell.execute_reply": "2024-07-16T08:22:16.664225Z"
    },
    "papermill": {
     "duration": 0.094333,
     "end_time": "2024-07-16T08:22:16.667995",
     "exception": false,
     "start_time": "2024-07-16T08:22:16.573662",
     "status": "completed"
    },
    "tags": []
   },
   "outputs": [
    {
     "data": {
      "text/plain": [
       "(array([680, 998]),)"
      ]
     },
     "execution_count": 24,
     "metadata": {},
     "output_type": "execute_result"
    }
   ],
   "source": [
    "index = np.where(clusters<0)\n",
    "index"
   ]
  },
  {
   "cell_type": "markdown",
   "id": "2660ed88",
   "metadata": {
    "id": "islo4-NEYNAd",
    "papermill": {
     "duration": 0.016041,
     "end_time": "2024-07-16T08:22:16.700364",
     "exception": false,
     "start_time": "2024-07-16T08:22:16.684323",
     "status": "completed"
    },
    "tags": []
   },
   "source": [
    "#### Identify the core and the outliers\n"
   ]
  },
  {
   "cell_type": "code",
   "execution_count": 25,
   "id": "3044444a",
   "metadata": {
    "execution": {
     "iopub.execute_input": "2024-07-16T08:22:16.734608Z",
     "iopub.status.busy": "2024-07-16T08:22:16.734161Z",
     "iopub.status.idle": "2024-07-16T08:22:16.740751Z",
     "shell.execute_reply": "2024-07-16T08:22:16.739331Z"
    },
    "id": "XC1qQJ5xYRoQ",
    "papermill": {
     "duration": 0.026793,
     "end_time": "2024-07-16T08:22:16.743323",
     "exception": false,
     "start_time": "2024-07-16T08:22:16.716530",
     "status": "completed"
    },
    "tags": []
   },
   "outputs": [],
   "source": [
    "# Identify the core and the outliers\n",
    "import numpy as np\n",
    "\n",
    "core_samples = np.zeros_like(dbscan.labels_, dtype=bool)\n",
    "core_samples[dbscan.core_sample_indices_] = True\n",
    "labels = dbscan.labels_"
   ]
  },
  {
   "cell_type": "code",
   "execution_count": 26,
   "id": "b0935d9b",
   "metadata": {
    "execution": {
     "iopub.execute_input": "2024-07-16T08:22:16.778317Z",
     "iopub.status.busy": "2024-07-16T08:22:16.777251Z",
     "iopub.status.idle": "2024-07-16T08:22:16.788873Z",
     "shell.execute_reply": "2024-07-16T08:22:16.787597Z"
    },
    "papermill": {
     "duration": 0.031905,
     "end_time": "2024-07-16T08:22:16.791529",
     "exception": false,
     "start_time": "2024-07-16T08:22:16.759624",
     "status": "completed"
    },
    "tags": []
   },
   "outputs": [
    {
     "data": {
      "text/plain": [
       "array([ 0,  0,  0,  0,  0,  0,  0,  0,  0,  0,  0,  0,  0,  0,  0,  0,  0,\n",
       "        0,  0,  0,  0,  0,  0,  0,  0,  0,  0,  0,  0,  0,  0,  0,  0,  0,\n",
       "        0,  0,  0,  0,  0,  0,  0,  0,  0,  0,  0,  0,  0,  0,  0,  0,  0,\n",
       "        0,  0,  0,  0,  0,  0,  0,  0,  0,  0,  0,  0,  0,  0,  0,  0,  0,\n",
       "        0,  0,  0,  0,  0,  0,  0,  0,  0,  0,  0,  0,  0,  0,  0,  0,  0,\n",
       "        0,  0,  0,  0,  0,  0,  0,  0,  0,  0,  0,  0,  0,  0,  0,  0,  0,\n",
       "        0,  0,  0,  0,  0,  0,  0,  0,  0,  0,  0,  0,  0,  0,  0,  0,  0,\n",
       "        0,  0,  0,  0,  0,  0,  0,  0,  0,  0,  0,  0,  0,  0,  0,  0,  0,\n",
       "        0,  0,  0,  0,  0,  0,  0,  0,  0,  0,  0,  0,  0,  0,  0,  0,  0,\n",
       "        0,  0,  0,  0,  0,  0,  0,  0,  0,  0,  0,  0,  0,  0,  0,  0,  0,\n",
       "        0,  0,  0,  0,  0,  0,  0,  0,  0,  0,  0,  0,  0,  0,  0,  0,  0,\n",
       "        0,  0,  0,  0,  0,  0,  0,  0,  0,  0,  0,  0,  0,  0,  0,  0,  0,\n",
       "        0,  0,  0,  0,  0,  0,  0,  0,  0,  0,  0,  0,  0,  0,  0,  0,  0,\n",
       "        0,  0,  0,  0,  0,  0,  0,  0,  0,  0,  0,  0,  0,  0,  0,  0,  0,\n",
       "        0,  0,  0,  0,  0,  0,  0,  0,  0,  0,  0,  0,  0,  0,  0,  0,  0,\n",
       "        0,  0,  0,  0,  0,  0,  0,  0,  0,  0,  0,  0,  0,  0,  0,  0,  0,\n",
       "        0,  0,  0,  0,  0,  0,  0,  0,  0,  0,  0,  0,  0,  0,  0,  0,  0,\n",
       "        0,  0,  0,  0,  0,  0,  0,  0,  0,  0,  0,  0,  0,  0,  0,  0,  0,\n",
       "        0,  0,  0,  0,  0,  0,  0,  0,  0,  0,  0,  0,  0,  0,  0,  0,  0,\n",
       "        0,  0,  0,  0,  0,  0,  0,  0,  0,  0,  0,  0,  0,  0,  0,  0,  0,\n",
       "        0,  0,  0,  0,  0,  0,  0,  0,  0,  0,  0,  0,  0,  0,  0,  0,  0,\n",
       "        0,  0,  0,  0,  0,  0,  0,  0,  0,  0,  0,  0,  0,  0,  0,  0,  0,\n",
       "        0,  0,  0,  0,  0,  0,  0,  0,  0,  0,  0,  0,  0,  0,  0,  0,  0,\n",
       "        0,  0,  0,  0,  0,  0,  0,  0,  0,  0,  0,  0,  0,  0,  0,  0,  0,\n",
       "        0,  0,  0,  0,  0,  0,  0,  0,  0,  0,  0,  0,  0,  0,  0,  0,  0,\n",
       "        0,  0,  0,  0,  0,  0,  0,  0,  0,  0,  0,  0,  0,  0,  0,  0,  0,\n",
       "        0,  0,  0,  0,  0,  0,  0,  0,  0,  0,  0,  0,  0,  0,  0,  0,  0,\n",
       "        0,  0,  0,  0,  0,  0,  0,  0,  0,  0,  0,  0,  0,  0,  0,  0,  0,\n",
       "        0,  0,  0,  0,  0,  0,  0,  0,  0,  0,  0,  0,  0,  0,  0,  0,  0,\n",
       "        0,  0,  0,  0,  0,  0,  0,  0,  0,  0,  0,  0,  0,  0,  0,  0,  0,\n",
       "        0,  0,  0,  0,  0,  0,  0,  0,  0,  0,  0,  0,  0,  0,  0,  0,  0,\n",
       "        0,  0,  0,  0,  0,  0,  0,  0,  0,  0,  0,  0,  0,  0,  0,  0,  0,\n",
       "        0,  0,  0,  0,  0,  0,  0,  0,  0,  0,  0,  0,  0,  0,  0,  0,  0,\n",
       "        0,  0,  0,  0,  0,  0,  0,  0,  0,  0,  0,  0,  0,  0,  0,  0,  0,\n",
       "        0,  0,  0,  0,  0,  0,  0,  0,  0,  0,  0,  0,  0,  0,  0,  0,  0,\n",
       "        0,  0,  0,  0,  0,  0,  0,  0,  0,  0,  0,  0,  0,  0,  0,  0,  0,\n",
       "        0,  0,  0,  0,  0,  0,  0,  0,  0,  0,  0,  0,  0,  0,  0,  0,  0,\n",
       "        0,  0,  0,  0,  0,  0,  0,  0,  0,  0,  0,  0,  0,  0,  0,  0,  0,\n",
       "        0,  0,  0,  0,  0,  0,  0,  0,  0,  0,  0,  0,  0,  0,  0,  0,  0,\n",
       "        0,  0,  0,  0,  0,  0,  0,  0,  0,  0,  0,  0,  0,  0,  0,  0,  0,\n",
       "       -1,  1,  1,  1,  1,  1,  1,  1,  1,  1,  1,  1,  1,  1,  1,  1,  1,\n",
       "        1,  1,  1,  1,  1,  1,  1,  1,  1,  1,  1,  1,  1,  1,  1,  1,  1,\n",
       "        1,  1,  1,  1,  1,  1,  1,  1,  1,  1,  1,  1,  1,  1,  1,  1,  1,\n",
       "        1,  1,  1,  1,  1,  1,  1,  1,  1,  1,  1,  1,  1,  1,  1,  1,  1,\n",
       "        1,  1,  1,  1,  1,  1,  1,  1,  1,  1,  1,  1,  1,  1,  1,  1,  1,\n",
       "        1,  1,  1,  1,  1,  1,  1,  1,  1,  1,  1,  1,  1,  1,  1,  1,  1,\n",
       "        1,  1,  1,  1,  1,  1,  1,  1,  1,  1,  1,  1,  1,  1,  1,  1,  1,\n",
       "        1,  1,  1,  1,  1,  1,  1,  1,  1,  1,  1,  1,  1,  1,  1,  1,  1,\n",
       "        1,  1,  1,  1,  1,  1,  1,  1,  1,  1,  1,  1,  1,  1,  1,  1,  1,\n",
       "        1,  1,  1,  1,  1,  1,  1,  1,  1,  1,  1,  1,  1,  1,  1,  1,  1,\n",
       "        1,  1,  1,  1,  1,  1,  1,  1,  1,  1,  1,  1,  1,  1,  1,  1,  1,\n",
       "        1,  1,  1,  1,  1,  1,  1,  1,  1,  1,  1,  1,  1,  1,  1,  1,  1,\n",
       "        1,  1,  1,  1,  1,  1,  1,  1,  1,  1,  1,  1,  1,  1,  1,  1,  1,\n",
       "        1,  1,  1,  1,  1,  1,  1,  1,  1,  1,  1,  1,  1,  1,  1,  1,  1,\n",
       "        1,  1,  1,  1,  1,  1,  1,  1,  1,  1,  1,  1,  1,  1,  1,  1,  1,\n",
       "        1,  1,  1,  1,  1,  1,  1,  1,  1,  1,  1,  1,  1,  1,  1,  1,  1,\n",
       "        1,  1,  1,  1,  1,  1,  1,  1,  1,  1,  1,  1,  1,  1,  1,  1,  1,\n",
       "        1,  1,  1,  1,  1,  1,  1,  1,  1,  1,  1,  1,  1,  1,  1,  1,  1,\n",
       "        1,  1,  1,  1,  1,  1,  1,  1,  1,  1,  1,  1, -1])"
      ]
     },
     "execution_count": 26,
     "metadata": {},
     "output_type": "execute_result"
    }
   ],
   "source": [
    "labels"
   ]
  },
  {
   "cell_type": "code",
   "execution_count": 27,
   "id": "848f4f30",
   "metadata": {
    "execution": {
     "iopub.execute_input": "2024-07-16T08:22:16.827432Z",
     "iopub.status.busy": "2024-07-16T08:22:16.826625Z",
     "iopub.status.idle": "2024-07-16T08:22:16.834220Z",
     "shell.execute_reply": "2024-07-16T08:22:16.833111Z"
    },
    "id": "OpDl3uA0YVdc",
    "outputId": "802675e9-5648-448c-c973-9db7c6efaee0",
    "papermill": {
     "duration": 0.02841,
     "end_time": "2024-07-16T08:22:16.837260",
     "exception": false,
     "start_time": "2024-07-16T08:22:16.808850",
     "status": "completed"
    },
    "tags": []
   },
   "outputs": [
    {
     "name": "stdout",
     "output_type": "stream",
     "text": [
      "Estimated number of clusters: 2\n",
      "Estimated number of noise points: 2\n"
     ]
    }
   ],
   "source": [
    "# Check the number of clusters after DBSCAN algorithm (ignoring noise if present)\n",
    "\n",
    "n_clusters_ = len(set(clusters)) - (1 if -1 in clusters else 0)\n",
    "n_noise_ = list(clusters).count(-1)\n",
    "\n",
    "print(f'Estimated number of clusters: {n_clusters_}')\n",
    "print(f'Estimated number of noise points: {n_noise_}')\n"
   ]
  },
  {
   "cell_type": "code",
   "execution_count": 28,
   "id": "716bf213",
   "metadata": {
    "execution": {
     "iopub.execute_input": "2024-07-16T08:22:16.873507Z",
     "iopub.status.busy": "2024-07-16T08:22:16.872794Z",
     "iopub.status.idle": "2024-07-16T08:22:17.270515Z",
     "shell.execute_reply": "2024-07-16T08:22:17.269432Z"
    },
    "id": "m3bKOWJsIn8r",
    "papermill": {
     "duration": 0.41915,
     "end_time": "2024-07-16T08:22:17.273893",
     "exception": false,
     "start_time": "2024-07-16T08:22:16.854743",
     "status": "completed"
    },
    "tags": []
   },
   "outputs": [],
   "source": [
    "from sklearn.ensemble import IsolationForest\n",
    "\n",
    "# Apply Isolation Forest\n",
    "iso_forest = IsolationForest(contamination='auto', random_state=42)\n",
    "iso_labels = iso_forest.fit_predict(scaled_data)\n"
   ]
  },
  {
   "cell_type": "code",
   "execution_count": 29,
   "id": "aee25d61",
   "metadata": {
    "execution": {
     "iopub.execute_input": "2024-07-16T08:22:17.309933Z",
     "iopub.status.busy": "2024-07-16T08:22:17.309489Z",
     "iopub.status.idle": "2024-07-16T08:22:17.317652Z",
     "shell.execute_reply": "2024-07-16T08:22:17.316235Z"
    },
    "papermill": {
     "duration": 0.029091,
     "end_time": "2024-07-16T08:22:17.320225",
     "exception": false,
     "start_time": "2024-07-16T08:22:17.291134",
     "status": "completed"
    },
    "tags": []
   },
   "outputs": [
    {
     "name": "stdout",
     "output_type": "stream",
     "text": [
      "Estimated number of clusters: 1\n",
      "Estimated number of noise points: 457\n"
     ]
    }
   ],
   "source": [
    "# Check the number of outliers after applying IForest algorithm (ignoring noise if present)\n",
    "\n",
    "n_clusters_ = len(set(iso_labels)) - (1 if -1 in iso_labels else 0)\n",
    "n_noise_ = list(iso_labels).count(-1)\n",
    "\n",
    "print(f'Estimated number of clusters: {n_clusters_}')\n",
    "print(f'Estimated number of noise points: {n_noise_}')\n"
   ]
  },
  {
   "cell_type": "code",
   "execution_count": 30,
   "id": "1926090b",
   "metadata": {
    "execution": {
     "iopub.execute_input": "2024-07-16T08:22:17.356972Z",
     "iopub.status.busy": "2024-07-16T08:22:17.356548Z",
     "iopub.status.idle": "2024-07-16T08:22:17.362939Z",
     "shell.execute_reply": "2024-07-16T08:22:17.361740Z"
    },
    "papermill": {
     "duration": 0.027694,
     "end_time": "2024-07-16T08:22:17.365606",
     "exception": false,
     "start_time": "2024-07-16T08:22:17.337912",
     "status": "completed"
    },
    "tags": []
   },
   "outputs": [],
   "source": [
    "# Convert labels to binary (1 for inliers, -1 for outliers)\n",
    "dbscan_anomalies = np.where(clusters == -1, 1, 0)\n",
    "iso_forest_anomalies = np.where(iso_labels == -1, 1, 0)"
   ]
  },
  {
   "cell_type": "code",
   "execution_count": 31,
   "id": "36d7ab67",
   "metadata": {
    "execution": {
     "iopub.execute_input": "2024-07-16T08:22:17.400571Z",
     "iopub.status.busy": "2024-07-16T08:22:17.400167Z",
     "iopub.status.idle": "2024-07-16T08:22:17.407354Z",
     "shell.execute_reply": "2024-07-16T08:22:17.406323Z"
    },
    "papermill": {
     "duration": 0.028224,
     "end_time": "2024-07-16T08:22:17.410523",
     "exception": false,
     "start_time": "2024-07-16T08:22:17.382299",
     "status": "completed"
    },
    "tags": []
   },
   "outputs": [
    {
     "name": "stderr",
     "output_type": "stream",
     "text": [
      "/tmp/ipykernel_19/2413917912.py:1: SettingWithCopyWarning: \n",
      "A value is trying to be set on a copy of a slice from a DataFrame.\n",
      "Try using .loc[row_indexer,col_indexer] = value instead\n",
      "\n",
      "See the caveats in the documentation: https://pandas.pydata.org/pandas-docs/stable/user_guide/indexing.html#returning-a-view-versus-a-copy\n",
      "  df_selected['dbscan_anomaly'] = dbscan_anomalies\n",
      "/tmp/ipykernel_19/2413917912.py:2: SettingWithCopyWarning: \n",
      "A value is trying to be set on a copy of a slice from a DataFrame.\n",
      "Try using .loc[row_indexer,col_indexer] = value instead\n",
      "\n",
      "See the caveats in the documentation: https://pandas.pydata.org/pandas-docs/stable/user_guide/indexing.html#returning-a-view-versus-a-copy\n",
      "  df_selected['iso_forest_anomaly'] = iso_forest_anomalies\n"
     ]
    }
   ],
   "source": [
    "df_selected['dbscan_anomaly'] = dbscan_anomalies\n",
    "df_selected['iso_forest_anomaly'] = iso_forest_anomalies"
   ]
  },
  {
   "cell_type": "code",
   "execution_count": 32,
   "id": "39461015",
   "metadata": {
    "execution": {
     "iopub.execute_input": "2024-07-16T08:22:17.446309Z",
     "iopub.status.busy": "2024-07-16T08:22:17.445545Z",
     "iopub.status.idle": "2024-07-16T08:22:17.453470Z",
     "shell.execute_reply": "2024-07-16T08:22:17.452383Z"
    },
    "papermill": {
     "duration": 0.028885,
     "end_time": "2024-07-16T08:22:17.456245",
     "exception": false,
     "start_time": "2024-07-16T08:22:17.427360",
     "status": "completed"
    },
    "tags": []
   },
   "outputs": [
    {
     "data": {
      "text/plain": [
       "Index(['feature_0', 'feature_1', 'feature_2', 'feature_3', 'feature_4',\n",
       "       'feature_5', 'feature_6', 'feature_7', 'feature_8', 'feature_9', 'hour',\n",
       "       'day_of_week', 'month', 'dbscan_anomaly', 'iso_forest_anomaly'],\n",
       "      dtype='object')"
      ]
     },
     "execution_count": 32,
     "metadata": {},
     "output_type": "execute_result"
    }
   ],
   "source": [
    "df_selected.columns"
   ]
  },
  {
   "cell_type": "markdown",
   "id": "9828237c",
   "metadata": {
    "id": "0nolZKSBJg0V",
    "papermill": {
     "duration": 0.016834,
     "end_time": "2024-07-16T08:22:17.490474",
     "exception": false,
     "start_time": "2024-07-16T08:22:17.473640",
     "status": "completed"
    },
    "tags": []
   },
   "source": [
    "**7. Evaluate and Visualize Results**"
   ]
  },
  {
   "cell_type": "code",
   "execution_count": 33,
   "id": "00e63556",
   "metadata": {
    "execution": {
     "iopub.execute_input": "2024-07-16T08:22:17.528442Z",
     "iopub.status.busy": "2024-07-16T08:22:17.528035Z",
     "iopub.status.idle": "2024-07-16T08:22:18.325802Z",
     "shell.execute_reply": "2024-07-16T08:22:18.324583Z"
    },
    "papermill": {
     "duration": 0.821161,
     "end_time": "2024-07-16T08:22:18.329372",
     "exception": false,
     "start_time": "2024-07-16T08:22:17.508211",
     "status": "completed"
    },
    "tags": []
   },
   "outputs": [
    {
     "data": {
      "image/png": "[encoded data removed]",
      "text/plain": [
       "<Figure size 1200x800 with 2 Axes>"
      ]
     },
     "metadata": {},
     "output_type": "display_data"
    }
   ],
   "source": [
    "import matplotlib.pyplot as plt\n",
    "\n",
    "# Create a figure with a specified size\n",
    "plt.figure(figsize=(12, 8))\n",
    "\n",
    "# Plot DBSCAN labels\n",
    "plt.subplot(2, 1, 1)\n",
    "plt.plot(df_selected.index, clusters, marker='o', linestyle='-', color='b', markersize=5)\n",
    "plt.title('DBSCAN Anomaly Detection', fontsize=16)\n",
    "plt.xlabel('Index', fontsize=14)\n",
    "plt.ylabel('Cluster Label', fontsize=14)\n",
    "plt.grid(True)\n",
    "plt.xticks(fontsize=12)\n",
    "plt.yticks(fontsize=12)\n",
    "\n",
    "# Plot Isolation Forest labels\n",
    "plt.subplot(2, 1, 2)\n",
    "plt.plot(df_selected.index, iso_labels, marker='o', linestyle='-', color='g', markersize=5)\n",
    "plt.title('Isolation Forest Anomaly Detection', fontsize=16)\n",
    "plt.xlabel('Index', fontsize=14)\n",
    "plt.ylabel('Anomaly Label', fontsize=14)\n",
    "plt.grid(True)\n",
    "plt.xticks(fontsize=12)\n",
    "plt.yticks(fontsize=12)\n",
    "\n",
    "# Adjust layout to prevent overlap\n",
    "plt.tight_layout()\n",
    "\n",
    "# Display the plots\n",
    "plt.show()\n"
   ]
  },
  {
   "cell_type": "code",
   "execution_count": 34,
   "id": "a474cd15",
   "metadata": {
    "execution": {
     "iopub.execute_input": "2024-07-16T08:22:18.367977Z",
     "iopub.status.busy": "2024-07-16T08:22:18.367540Z",
     "iopub.status.idle": "2024-07-16T08:22:18.414368Z",
     "shell.execute_reply": "2024-07-16T08:22:18.412984Z"
    },
    "id": "wdI3fuYhb6Y7",
    "outputId": "93114fd9-0096-4341-ec62-db2012659569",
    "papermill": {
     "duration": 0.070845,
     "end_time": "2024-07-16T08:22:18.418649",
     "exception": false,
     "start_time": "2024-07-16T08:22:18.347804",
     "status": "completed"
    },
    "tags": []
   },
   "outputs": [
    {
     "name": "stdout",
     "output_type": "stream",
     "text": [
      "Silhouette Coefficient: 0.5528079675181001\n"
     ]
    }
   ],
   "source": [
    "from sklearn.metrics import silhouette_score\n",
    "\n",
    "# Calculate Silhouette Coefficient\n",
    "silhouette_avg = silhouette_score(scaled_data, clusters)\n",
    "print(f\"Silhouette Coefficient: {silhouette_avg}\")"
   ]
  },
  {
   "cell_type": "code",
   "execution_count": 35,
   "id": "702800af",
   "metadata": {
    "execution": {
     "iopub.execute_input": "2024-07-16T08:22:18.498200Z",
     "iopub.status.busy": "2024-07-16T08:22:18.497456Z",
     "iopub.status.idle": "2024-07-16T08:22:18.541842Z",
     "shell.execute_reply": "2024-07-16T08:22:18.540248Z"
    },
    "id": "Bu5IDG6QzehI",
    "outputId": "51e3db6f-ff60-4569-95aa-6aec6d2058fc",
    "papermill": {
     "duration": 0.088845,
     "end_time": "2024-07-16T08:22:18.546195",
     "exception": false,
     "start_time": "2024-07-16T08:22:18.457350",
     "status": "completed"
    },
    "tags": []
   },
   "outputs": [
    {
     "name": "stdout",
     "output_type": "stream",
     "text": [
      "Silhouette Coefficient: 0.24034106964581498\n"
     ]
    }
   ],
   "source": [
    "from sklearn.metrics import silhouette_score\n",
    "\n",
    "# Calculate Silhouette Coefficient\n",
    "silhouette_isolation_f = silhouette_score(scaled_data, iso_labels)\n",
    "print(f\"Silhouette Coefficient: {silhouette_isolation_f}\")"
   ]
  },
  {
   "cell_type": "markdown",
   "id": "af37eb9c",
   "metadata": {
    "id": "XLpfpv6GJqAh",
    "papermill": {
     "duration": 0.03869,
     "end_time": "2024-07-16T08:22:18.623607",
     "exception": false,
     "start_time": "2024-07-16T08:22:18.584917",
     "status": "completed"
    },
    "tags": []
   },
   "source": [
    "### **Conclusioni:**\n",
    "\n",
    "1. Isolation Forest ha identificato ulteriori punti come anomalie che DBSCAN non ha segnalato. Ciò potrebbe indicare che IForest è più sensibile e potrebbe rilevare anomalie più sottili. Tuttavia, ciò potrebbe anche comportare più falsi positivi."
   ]
  }
 ],
 "metadata": {
  "colab": {
   "provenance": [],
   "toc_visible": true
  },
  "kaggle": {
   "accelerator": "none",
   "dataSources": [
    {
     "datasetId": 5391588,
     "sourceId": 8958193,
     "sourceType": "datasetVersion"
    }
   ],
   "dockerImageVersionId": 30746,
   "isGpuEnabled": false,
   "isInternetEnabled": false,
   "language": "python",
   "sourceType": "notebook"
  },
  "kernelspec": {
   "display_name": "Python 3",
   "language": "python",
   "name": "python3"
  },
  "language_info": {
   "codemirror_mode": {
    "name": "ipython",
    "version": 3
   },
   "file_extension": ".py",
   "mimetype": "text/x-python",
   "name": "python",
   "nbconvert_exporter": "python",
   "pygments_lexer": "ipython3",
   "version": "3.10.13"
  },
  "papermill": {
   "default_parameters": {},
   "duration": 13.794568,
   "end_time": "2024-07-16T08:22:19.367996",
   "environment_variables": {},
   "exception": null,
   "input_path": "__notebook__.ipynb",
   "output_path": "__notebook__.ipynb",
   "parameters": {},
   "start_time": "2024-07-16T08:22:05.573428",
   "version": "2.5.0"
  }
 },
 "nbformat": 4,
 "nbformat_minor": 5
}
