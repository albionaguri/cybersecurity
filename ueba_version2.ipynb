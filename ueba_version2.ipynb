{
 "cells": [
  {
   "cell_type": "markdown",
   "id": "39472ff8",
   "metadata": {
    "id": "bzQjj0ebHm-h",
    "papermill": {
     "duration": 0.00949,
     "end_time": "2024-07-16T11:09:28.647505",
     "exception": false,
     "start_time": "2024-07-16T11:09:28.638015",
     "status": "completed"
    },
    "tags": []
   },
   "source": [
    "**1. Load and Inspect Data**\n",
    "\n",
    "\n"
   ]
  },
  {
   "cell_type": "code",
   "execution_count": 1,
   "id": "6cc1151d",
   "metadata": {
    "execution": {
     "iopub.execute_input": "2024-07-16T11:09:28.667259Z",
     "iopub.status.busy": "2024-07-16T11:09:28.666885Z",
     "iopub.status.idle": "2024-07-16T11:09:31.392147Z",
     "shell.execute_reply": "2024-07-16T11:09:31.391108Z"
    },
    "id": "1I5zdHRnHjYZ",
    "outputId": "eeaca585-5aa7-4f9f-f0cd-f2aa18b4b787",
    "papermill": {
     "duration": 2.737831,
     "end_time": "2024-07-16T11:09:31.394503",
     "exception": false,
     "start_time": "2024-07-16T11:09:28.656672",
     "status": "completed"
    },
    "tags": []
   },
   "outputs": [
    {
     "name": "stdout",
     "output_type": "stream",
     "text": [
      "Train Data Shape: (528690, 10)\n",
      "   id            account         group              IP  \\\n",
      "0   1  xiaojiawei@qq.com  ÈËÊÂÐÐÕþÖÐÐÄ    192.168.1.50   \n",
      "1   2  xiaojiawei@qq.com  ÈËÊÂÐÐÕþÖÐÐÄ   192.168.31.46   \n",
      "2   3  xiaojiawei@qq.com  ÈËÊÂÐÐÕþÖÐÐÄ     192.168.2.3   \n",
      "3   4  xiaojiawei@qq.com  ÈËÊÂÐÐÕþÖÐÐÄ  192.168.145.30   \n",
      "4   5  xiaojiawei@qq.com  ÈËÊÂÐÐÕþÖÐÐÄ  192.168.178.92   \n",
      "\n",
      "                               url   port  vlan      switchIP            time  \\\n",
      "0                http://123.6.4.41  15788   700  129.30.06.37  2021/6/16 7:56   \n",
      "1           http://104.192.108.154  12665   700  152.91.89.45  2021/6/28 7:58   \n",
      "2              http://42.236.37.80  25551   700  129.30.06.37   2021/6/1 6:37   \n",
      "3  http://uf-api6-client.ksord.com  18274   700    162.6.8.29   2021/5/5 8:18   \n",
      "4           http://101.199.128.170  34572   700    162.0.1.84  2021/6/20 6:52   \n",
      "\n",
      "      ret  \n",
      "0  0.1149  \n",
      "1  0.1801  \n",
      "2  0.3690  \n",
      "3  0.1532  \n",
      "4  0.1449  \n"
     ]
    }
   ],
   "source": [
    "import pandas as pd\n",
    "import numpy as np\n",
    "\n",
    "train_data = pd.read_csv('/kaggle/input/ueba-dbscan-iforest/train_data.csv', encoding='latin1')\n",
    "\n",
    "print(\"Train Data Shape:\", train_data.shape)\n",
    "\n",
    "print(train_data.head())\n"
   ]
  },
  {
   "cell_type": "code",
   "execution_count": 2,
   "id": "48164ccf",
   "metadata": {
    "execution": {
     "iopub.execute_input": "2024-07-16T11:09:31.415172Z",
     "iopub.status.busy": "2024-07-16T11:09:31.414469Z",
     "iopub.status.idle": "2024-07-16T11:09:31.582274Z",
     "shell.execute_reply": "2024-07-16T11:09:31.581204Z"
    },
    "id": "3e3lziKeSIIW",
    "outputId": "c83fb447-1812-44d8-8f3f-2a2b371dba79",
    "papermill": {
     "duration": 0.18055,
     "end_time": "2024-07-16T11:09:31.584478",
     "exception": false,
     "start_time": "2024-07-16T11:09:31.403928",
     "status": "completed"
    },
    "tags": []
   },
   "outputs": [
    {
     "name": "stdout",
     "output_type": "stream",
     "text": [
      "Total observations: 528690\n",
      "Unique accounts: 151\n",
      "Unique IPs: 133\n",
      "Unique URLs: 1319\n",
      "Unique switchIPs: 133\n"
     ]
    }
   ],
   "source": [
    "print(\"Total observations:\", len(train_data))\n",
    "print(\"Unique accounts:\", train_data['account'].nunique())\n",
    "print(\"Unique IPs:\", train_data['IP'].nunique())\n",
    "print(\"Unique URLs:\", train_data['url'].nunique())\n",
    "print(\"Unique switchIPs:\", train_data['switchIP'].nunique())"
   ]
  },
  {
   "cell_type": "code",
   "execution_count": 3,
   "id": "f9e287a5",
   "metadata": {
    "execution": {
     "iopub.execute_input": "2024-07-16T11:09:31.604569Z",
     "iopub.status.busy": "2024-07-16T11:09:31.604230Z",
     "iopub.status.idle": "2024-07-16T11:09:32.004259Z",
     "shell.execute_reply": "2024-07-16T11:09:32.003353Z"
    },
    "id": "4ZMCoAwbUhB2",
    "papermill": {
     "duration": 0.413056,
     "end_time": "2024-07-16T11:09:32.006999",
     "exception": false,
     "start_time": "2024-07-16T11:09:31.593943",
     "status": "completed"
    },
    "tags": []
   },
   "outputs": [],
   "source": [
    "# Convert 'time' column to datetime and sort by time\n",
    "train_data['time'] = pd.to_datetime(train_data['time'],format='%Y/%m/%d %H:%M')\n",
    "train_data = train_data.sort_values(by='time')\n"
   ]
  },
  {
   "cell_type": "code",
   "execution_count": 4,
   "id": "1da42427",
   "metadata": {
    "execution": {
     "iopub.execute_input": "2024-07-16T11:09:32.027638Z",
     "iopub.status.busy": "2024-07-16T11:09:32.027274Z",
     "iopub.status.idle": "2024-07-16T11:09:32.035431Z",
     "shell.execute_reply": "2024-07-16T11:09:32.034591Z"
    },
    "id": "lDsB6SkAUkfd",
    "papermill": {
     "duration": 0.02033,
     "end_time": "2024-07-16T11:09:32.037492",
     "exception": false,
     "start_time": "2024-07-16T11:09:32.017162",
     "status": "completed"
    },
    "tags": []
   },
   "outputs": [],
   "source": [
    "# Temporal range of the dataset\n",
    "start_time = train_data['time'].min()\n",
    "end_time = train_data['time'].max()\n"
   ]
  },
  {
   "cell_type": "code",
   "execution_count": 5,
   "id": "e954e02f",
   "metadata": {
    "execution": {
     "iopub.execute_input": "2024-07-16T11:09:32.057566Z",
     "iopub.status.busy": "2024-07-16T11:09:32.056923Z",
     "iopub.status.idle": "2024-07-16T11:09:32.232207Z",
     "shell.execute_reply": "2024-07-16T11:09:32.230877Z"
    },
    "id": "zOayGyosIFdi",
    "outputId": "e3a7d621-bbc6-4aa4-dd56-161cfcb3977a",
    "papermill": {
     "duration": 0.187598,
     "end_time": "2024-07-16T11:09:32.234338",
     "exception": false,
     "start_time": "2024-07-16T11:09:32.046740",
     "status": "completed"
    },
    "tags": []
   },
   "outputs": [
    {
     "name": "stdout",
     "output_type": "stream",
     "text": [
      "First observation: 2021-04-30 18:05:00\n",
      "Latest observation: 2021-06-29 15:58:00\n",
      "Total observations: 528690\n",
      "Unique accounts: 151\n",
      "Unique IPs: 133\n",
      "Unique URLs: 1319\n",
      "Unique switchIPs: 133\n"
     ]
    }
   ],
   "source": [
    "print(f\"First observation: {start_time}\\nLatest observation: {end_time}\")\n",
    "print(\"Total observations:\", len(train_data))\n",
    "print(\"Unique accounts:\", train_data['account'].nunique())\n",
    "print(\"Unique IPs:\", train_data['IP'].nunique())\n",
    "print(\"Unique URLs:\", train_data['url'].nunique())\n",
    "print(\"Unique switchIPs:\", train_data['switchIP'].nunique())"
   ]
  },
  {
   "cell_type": "markdown",
   "id": "d91359e0",
   "metadata": {
    "id": "d2wdNZV6INxh",
    "papermill": {
     "duration": 0.009024,
     "end_time": "2024-07-16T11:09:32.252796",
     "exception": false,
     "start_time": "2024-07-16T11:09:32.243772",
     "status": "completed"
    },
    "tags": []
   },
   "source": [
    "**2. Filter Data to Select Specific Users**"
   ]
  },
  {
   "cell_type": "code",
   "execution_count": 6,
   "id": "8b508fd2",
   "metadata": {
    "execution": {
     "iopub.execute_input": "2024-07-16T11:09:32.272950Z",
     "iopub.status.busy": "2024-07-16T11:09:32.272103Z",
     "iopub.status.idle": "2024-07-16T11:09:32.356363Z",
     "shell.execute_reply": "2024-07-16T11:09:32.355347Z"
    },
    "id": "U9sjR8xUHjcw",
    "papermill": {
     "duration": 0.096977,
     "end_time": "2024-07-16T11:09:32.358845",
     "exception": false,
     "start_time": "2024-07-16T11:09:32.261868",
     "status": "completed"
    },
    "tags": []
   },
   "outputs": [],
   "source": [
    "# Select a subset of users\n",
    "unique_users = train_data['account'].unique()\n",
    "selected_users = np.random.choice(unique_users, 5, replace=False)\n",
    "filtered_df = train_data[train_data['account'].isin(selected_users)]\n"
   ]
  },
  {
   "cell_type": "code",
   "execution_count": 7,
   "id": "6dd9cca5",
   "metadata": {
    "execution": {
     "iopub.execute_input": "2024-07-16T11:09:32.379254Z",
     "iopub.status.busy": "2024-07-16T11:09:32.378423Z",
     "iopub.status.idle": "2024-07-16T11:09:32.392153Z",
     "shell.execute_reply": "2024-07-16T11:09:32.391073Z"
    },
    "id": "SYIbtyosU2Ow",
    "outputId": "b830b3bb-58cf-4fc5-e1b5-b4565b150fb6",
    "papermill": {
     "duration": 0.026083,
     "end_time": "2024-07-16T11:09:32.394307",
     "exception": false,
     "start_time": "2024-07-16T11:09:32.368224",
     "status": "completed"
    },
    "tags": []
   },
   "outputs": [
    {
     "name": "stdout",
     "output_type": "stream",
     "text": [
      "Total observations: 19728\n",
      "Unique accounts: 5\n",
      "Unique IPs: 119\n",
      "Unique URLs: 985\n",
      "Unique switchIPs: 121\n"
     ]
    }
   ],
   "source": [
    "print(\"Total observations:\", len(filtered_df))\n",
    "print(\"Unique accounts:\", filtered_df['account'].nunique())\n",
    "print(\"Unique IPs:\", filtered_df['IP'].nunique())\n",
    "print(\"Unique URLs:\", filtered_df['url'].nunique())\n",
    "print(\"Unique switchIPs:\", filtered_df['switchIP'].nunique())\n"
   ]
  },
  {
   "cell_type": "markdown",
   "id": "633b4717",
   "metadata": {
    "papermill": {
     "duration": 0.009111,
     "end_time": "2024-07-16T11:09:32.413191",
     "exception": false,
     "start_time": "2024-07-16T11:09:32.404080",
     "status": "completed"
    },
    "tags": []
   },
   "source": [
    "**2.1 Filter Data to Select Specific Time Ranges**"
   ]
  },
  {
   "cell_type": "code",
   "execution_count": 8,
   "id": "42b5c8f0",
   "metadata": {
    "execution": {
     "iopub.execute_input": "2024-07-16T11:09:32.433187Z",
     "iopub.status.busy": "2024-07-16T11:09:32.432831Z",
     "iopub.status.idle": "2024-07-16T11:09:32.440997Z",
     "shell.execute_reply": "2024-07-16T11:09:32.439960Z"
    },
    "id": "Z72tATooIW3A",
    "papermill": {
     "duration": 0.020753,
     "end_time": "2024-07-16T11:09:32.443129",
     "exception": false,
     "start_time": "2024-07-16T11:09:32.422376",
     "status": "completed"
    },
    "tags": []
   },
   "outputs": [],
   "source": [
    "# Define the time range\n",
    "start_date = '2021-06-26'\n",
    "end_date = '2021-06-29'\n",
    "\n",
    "# Filter data within the time range\n",
    "sample_df = filtered_df[filtered_df['time'].between(start_date, end_date)]\n",
    "sample_df.set_index('time', inplace=True, drop=False)"
   ]
  },
  {
   "cell_type": "code",
   "execution_count": 9,
   "id": "07944c9c",
   "metadata": {
    "execution": {
     "iopub.execute_input": "2024-07-16T11:09:32.463697Z",
     "iopub.status.busy": "2024-07-16T11:09:32.462905Z",
     "iopub.status.idle": "2024-07-16T11:09:32.470528Z",
     "shell.execute_reply": "2024-07-16T11:09:32.469534Z"
    },
    "id": "ncrRShAaXdmS",
    "outputId": "e0ff31ec-f29b-43df-fe30-7f526f377074",
    "papermill": {
     "duration": 0.020142,
     "end_time": "2024-07-16T11:09:32.472518",
     "exception": false,
     "start_time": "2024-07-16T11:09:32.452376",
     "status": "completed"
    },
    "tags": []
   },
   "outputs": [
    {
     "name": "stdout",
     "output_type": "stream",
     "text": [
      "Total observations: 1065\n",
      "Unique accounts: 5\n",
      "Unique IPs: 94\n",
      "Unique URLs: 406\n",
      "Unique switchIPs: 89\n"
     ]
    }
   ],
   "source": [
    "print(\"Total observations:\", len(sample_df))\n",
    "print(\"Unique accounts:\", sample_df['account'].nunique())\n",
    "print(\"Unique IPs:\", sample_df['IP'].nunique())\n",
    "print(\"Unique URLs:\", sample_df['url'].nunique())\n",
    "print(\"Unique switchIPs:\", sample_df['switchIP'].nunique())\n"
   ]
  },
  {
   "cell_type": "code",
   "execution_count": 10,
   "id": "d99d760c",
   "metadata": {
    "execution": {
     "iopub.execute_input": "2024-07-16T11:09:32.492894Z",
     "iopub.status.busy": "2024-07-16T11:09:32.492092Z",
     "iopub.status.idle": "2024-07-16T11:09:32.499104Z",
     "shell.execute_reply": "2024-07-16T11:09:32.498229Z"
    },
    "id": "Qi2IQjGfoSw1",
    "outputId": "dec05f07-69cd-4a1d-9cd5-64928c57226a",
    "papermill": {
     "duration": 0.019592,
     "end_time": "2024-07-16T11:09:32.501328",
     "exception": false,
     "start_time": "2024-07-16T11:09:32.481736",
     "status": "completed"
    },
    "tags": []
   },
   "outputs": [
    {
     "data": {
      "text/plain": [
       "Index(['id', 'account', 'group', 'IP', 'url', 'port', 'vlan', 'switchIP',\n",
       "       'time', 'ret'],\n",
       "      dtype='object')"
      ]
     },
     "execution_count": 10,
     "metadata": {},
     "output_type": "execute_result"
    }
   ],
   "source": [
    "sample_df.columns"
   ]
  },
  {
   "cell_type": "code",
   "execution_count": 11,
   "id": "ed053709",
   "metadata": {
    "execution": {
     "iopub.execute_input": "2024-07-16T11:09:32.522458Z",
     "iopub.status.busy": "2024-07-16T11:09:32.521671Z",
     "iopub.status.idle": "2024-07-16T11:09:32.529282Z",
     "shell.execute_reply": "2024-07-16T11:09:32.528224Z"
    },
    "id": "cxuGxUgAsKUk",
    "papermill": {
     "duration": 0.020374,
     "end_time": "2024-07-16T11:09:32.531503",
     "exception": false,
     "start_time": "2024-07-16T11:09:32.511129",
     "status": "completed"
    },
    "tags": []
   },
   "outputs": [],
   "source": [
    "sample_df = sample_df.drop(columns=['id', 'group', 'port', 'vlan','ret', 'switchIP'])"
   ]
  },
  {
   "cell_type": "code",
   "execution_count": 12,
   "id": "71b33911",
   "metadata": {
    "execution": {
     "iopub.execute_input": "2024-07-16T11:09:32.551468Z",
     "iopub.status.busy": "2024-07-16T11:09:32.550893Z",
     "iopub.status.idle": "2024-07-16T11:09:32.556722Z",
     "shell.execute_reply": "2024-07-16T11:09:32.555765Z"
    },
    "papermill": {
     "duration": 0.01784,
     "end_time": "2024-07-16T11:09:32.558561",
     "exception": false,
     "start_time": "2024-07-16T11:09:32.540721",
     "status": "completed"
    },
    "tags": []
   },
   "outputs": [
    {
     "data": {
      "text/plain": [
       "(1065, 4)"
      ]
     },
     "execution_count": 12,
     "metadata": {},
     "output_type": "execute_result"
    }
   ],
   "source": [
    "sample_df.shape"
   ]
  },
  {
   "cell_type": "code",
   "execution_count": 13,
   "id": "23ce1196",
   "metadata": {
    "execution": {
     "iopub.execute_input": "2024-07-16T11:09:32.578573Z",
     "iopub.status.busy": "2024-07-16T11:09:32.578238Z",
     "iopub.status.idle": "2024-07-16T11:09:32.582363Z",
     "shell.execute_reply": "2024-07-16T11:09:32.581440Z"
    },
    "id": "PDGfQam9brHf",
    "papermill": {
     "duration": 0.016732,
     "end_time": "2024-07-16T11:09:32.584562",
     "exception": false,
     "start_time": "2024-07-16T11:09:32.567830",
     "status": "completed"
    },
    "tags": []
   },
   "outputs": [],
   "source": [
    "# numerical_features = [feature for feature in filtered_df.columns if sample_df[feature].dtypes != 'O' and sample_df[feature].dtype in ['int64', 'float64']]\n",
    "# discrete_features=[feature for feature in numerical_features if len(filtered_df[feature].unique())<15]\n",
    "# continuous_feature=[feature for feature in numerical_features if feature not in discrete_features]\n"
   ]
  },
  {
   "cell_type": "markdown",
   "id": "4ef543f3",
   "metadata": {
    "papermill": {
     "duration": 0.009238,
     "end_time": "2024-07-16T11:09:32.603166",
     "exception": false,
     "start_time": "2024-07-16T11:09:32.593928",
     "status": "completed"
    },
    "tags": []
   },
   "source": [
    "**Label Encoding for categorical variables**"
   ]
  },
  {
   "cell_type": "code",
   "execution_count": 14,
   "id": "87babfb1",
   "metadata": {
    "execution": {
     "iopub.execute_input": "2024-07-16T11:09:32.623545Z",
     "iopub.status.busy": "2024-07-16T11:09:32.623178Z",
     "iopub.status.idle": "2024-07-16T11:09:32.628523Z",
     "shell.execute_reply": "2024-07-16T11:09:32.627575Z"
    },
    "papermill": {
     "duration": 0.017866,
     "end_time": "2024-07-16T11:09:32.630544",
     "exception": false,
     "start_time": "2024-07-16T11:09:32.612678",
     "status": "completed"
    },
    "tags": []
   },
   "outputs": [],
   "source": [
    "categorical_features=[feature for feature in sample_df.columns if sample_df[feature].dtypes=='O']\n"
   ]
  },
  {
   "cell_type": "code",
   "execution_count": 15,
   "id": "abc00185",
   "metadata": {
    "execution": {
     "iopub.execute_input": "2024-07-16T11:09:32.651726Z",
     "iopub.status.busy": "2024-07-16T11:09:32.651403Z",
     "iopub.status.idle": "2024-07-16T11:09:32.657350Z",
     "shell.execute_reply": "2024-07-16T11:09:32.656461Z"
    },
    "papermill": {
     "duration": 0.019194,
     "end_time": "2024-07-16T11:09:32.659445",
     "exception": false,
     "start_time": "2024-07-16T11:09:32.640251",
     "status": "completed"
    },
    "tags": []
   },
   "outputs": [
    {
     "data": {
      "text/plain": [
       "['account', 'IP', 'url']"
      ]
     },
     "execution_count": 15,
     "metadata": {},
     "output_type": "execute_result"
    }
   ],
   "source": [
    "categorical_features"
   ]
  },
  {
   "cell_type": "code",
   "execution_count": 16,
   "id": "163dd937",
   "metadata": {
    "execution": {
     "iopub.execute_input": "2024-07-16T11:09:32.680140Z",
     "iopub.status.busy": "2024-07-16T11:09:32.679846Z",
     "iopub.status.idle": "2024-07-16T11:09:33.745530Z",
     "shell.execute_reply": "2024-07-16T11:09:33.744570Z"
    },
    "papermill": {
     "duration": 1.079116,
     "end_time": "2024-07-16T11:09:33.748271",
     "exception": false,
     "start_time": "2024-07-16T11:09:32.669155",
     "status": "completed"
    },
    "tags": []
   },
   "outputs": [],
   "source": [
    "from sklearn.preprocessing import LabelEncoder\n",
    "\n",
    "# Create a LabelEncoder object\n",
    "le = LabelEncoder()\n",
    "\n",
    "# Apply LabelEncoder to each categorical column\n",
    "for feature in categorical_features:\n",
    "    sample_df[feature + '_encoded'] = le.fit_transform(sample_df[feature])\n",
    "    "
   ]
  },
  {
   "cell_type": "code",
   "execution_count": 17,
   "id": "b3817673",
   "metadata": {
    "execution": {
     "iopub.execute_input": "2024-07-16T11:09:33.769759Z",
     "iopub.status.busy": "2024-07-16T11:09:33.769396Z",
     "iopub.status.idle": "2024-07-16T11:09:33.783346Z",
     "shell.execute_reply": "2024-07-16T11:09:33.782336Z"
    },
    "papermill": {
     "duration": 0.027111,
     "end_time": "2024-07-16T11:09:33.785559",
     "exception": false,
     "start_time": "2024-07-16T11:09:33.758448",
     "status": "completed"
    },
    "tags": []
   },
   "outputs": [
    {
     "data": {
      "text/html": [
       "<div>\n",
       "<style scoped>\n",
       "    .dataframe tbody tr th:only-of-type {\n",
       "        vertical-align: middle;\n",
       "    }\n",
       "\n",
       "    .dataframe tbody tr th {\n",
       "        vertical-align: top;\n",
       "    }\n",
       "\n",
       "    .dataframe thead th {\n",
       "        text-align: right;\n",
       "    }\n",
       "</style>\n",
       "<table border=\"1\" class=\"dataframe\">\n",
       "  <thead>\n",
       "    <tr style=\"text-align: right;\">\n",
       "      <th></th>\n",
       "      <th>account</th>\n",
       "      <th>IP</th>\n",
       "      <th>url</th>\n",
       "      <th>time</th>\n",
       "      <th>account_encoded</th>\n",
       "      <th>IP_encoded</th>\n",
       "      <th>url_encoded</th>\n",
       "    </tr>\n",
       "    <tr>\n",
       "      <th>time</th>\n",
       "      <th></th>\n",
       "      <th></th>\n",
       "      <th></th>\n",
       "      <th></th>\n",
       "      <th></th>\n",
       "      <th></th>\n",
       "      <th></th>\n",
       "    </tr>\n",
       "  </thead>\n",
       "  <tbody>\n",
       "    <tr>\n",
       "      <th>2021-06-26 00:47:00</th>\n",
       "      <td>wenlichao@qq.com</td>\n",
       "      <td>192.168.10.115</td>\n",
       "      <td>http://bj.dh978.com</td>\n",
       "      <td>2021-06-26 00:47:00</td>\n",
       "      <td>3</td>\n",
       "      <td>15</td>\n",
       "      <td>151</td>\n",
       "    </tr>\n",
       "    <tr>\n",
       "      <th>2021-06-26 01:27:00</th>\n",
       "      <td>wenlichao@qq.com</td>\n",
       "      <td>192.168.31.152</td>\n",
       "      <td>http://only-853333-154-16-166-210.nstool.netea...</td>\n",
       "      <td>2021-06-26 01:27:00</td>\n",
       "      <td>3</td>\n",
       "      <td>69</td>\n",
       "      <td>274</td>\n",
       "    </tr>\n",
       "    <tr>\n",
       "      <th>2021-06-26 01:45:00</th>\n",
       "      <td>wenlichao@qq.com</td>\n",
       "      <td>192.168.145.54</td>\n",
       "      <td>http://p15.qhimg.com</td>\n",
       "      <td>2021-06-26 01:45:00</td>\n",
       "      <td>3</td>\n",
       "      <td>28</td>\n",
       "      <td>282</td>\n",
       "    </tr>\n",
       "  </tbody>\n",
       "</table>\n",
       "</div>"
      ],
      "text/plain": [
       "                              account              IP  \\\n",
       "time                                                    \n",
       "2021-06-26 00:47:00  wenlichao@qq.com  192.168.10.115   \n",
       "2021-06-26 01:27:00  wenlichao@qq.com  192.168.31.152   \n",
       "2021-06-26 01:45:00  wenlichao@qq.com  192.168.145.54   \n",
       "\n",
       "                                                                   url  \\\n",
       "time                                                                     \n",
       "2021-06-26 00:47:00                                http://bj.dh978.com   \n",
       "2021-06-26 01:27:00  http://only-853333-154-16-166-210.nstool.netea...   \n",
       "2021-06-26 01:45:00                               http://p15.qhimg.com   \n",
       "\n",
       "                                   time  account_encoded  IP_encoded  \\\n",
       "time                                                                   \n",
       "2021-06-26 00:47:00 2021-06-26 00:47:00                3          15   \n",
       "2021-06-26 01:27:00 2021-06-26 01:27:00                3          69   \n",
       "2021-06-26 01:45:00 2021-06-26 01:45:00                3          28   \n",
       "\n",
       "                     url_encoded  \n",
       "time                              \n",
       "2021-06-26 00:47:00          151  \n",
       "2021-06-26 01:27:00          274  \n",
       "2021-06-26 01:45:00          282  "
      ]
     },
     "execution_count": 17,
     "metadata": {},
     "output_type": "execute_result"
    }
   ],
   "source": [
    "sample_df.head(3)"
   ]
  },
  {
   "cell_type": "code",
   "execution_count": 18,
   "id": "8cd42341",
   "metadata": {
    "execution": {
     "iopub.execute_input": "2024-07-16T11:09:33.807013Z",
     "iopub.status.busy": "2024-07-16T11:09:33.806682Z",
     "iopub.status.idle": "2024-07-16T11:09:33.817598Z",
     "shell.execute_reply": "2024-07-16T11:09:33.816604Z"
    },
    "papermill": {
     "duration": 0.023854,
     "end_time": "2024-07-16T11:09:33.819612",
     "exception": false,
     "start_time": "2024-07-16T11:09:33.795758",
     "status": "completed"
    },
    "tags": []
   },
   "outputs": [
    {
     "data": {
      "text/html": [
       "<div>\n",
       "<style scoped>\n",
       "    .dataframe tbody tr th:only-of-type {\n",
       "        vertical-align: middle;\n",
       "    }\n",
       "\n",
       "    .dataframe tbody tr th {\n",
       "        vertical-align: top;\n",
       "    }\n",
       "\n",
       "    .dataframe thead th {\n",
       "        text-align: right;\n",
       "    }\n",
       "</style>\n",
       "<table border=\"1\" class=\"dataframe\">\n",
       "  <thead>\n",
       "    <tr style=\"text-align: right;\">\n",
       "      <th></th>\n",
       "      <th>time</th>\n",
       "      <th>account_encoded</th>\n",
       "      <th>IP_encoded</th>\n",
       "      <th>url_encoded</th>\n",
       "    </tr>\n",
       "    <tr>\n",
       "      <th>time</th>\n",
       "      <th></th>\n",
       "      <th></th>\n",
       "      <th></th>\n",
       "      <th></th>\n",
       "    </tr>\n",
       "  </thead>\n",
       "  <tbody>\n",
       "    <tr>\n",
       "      <th>2021-06-26 00:47:00</th>\n",
       "      <td>2021-06-26 00:47:00</td>\n",
       "      <td>3</td>\n",
       "      <td>15</td>\n",
       "      <td>151</td>\n",
       "    </tr>\n",
       "    <tr>\n",
       "      <th>2021-06-26 01:27:00</th>\n",
       "      <td>2021-06-26 01:27:00</td>\n",
       "      <td>3</td>\n",
       "      <td>69</td>\n",
       "      <td>274</td>\n",
       "    </tr>\n",
       "    <tr>\n",
       "      <th>2021-06-26 01:45:00</th>\n",
       "      <td>2021-06-26 01:45:00</td>\n",
       "      <td>3</td>\n",
       "      <td>28</td>\n",
       "      <td>282</td>\n",
       "    </tr>\n",
       "    <tr>\n",
       "      <th>2021-06-26 01:59:00</th>\n",
       "      <td>2021-06-26 01:59:00</td>\n",
       "      <td>3</td>\n",
       "      <td>6</td>\n",
       "      <td>89</td>\n",
       "    </tr>\n",
       "    <tr>\n",
       "      <th>2021-06-26 02:00:00</th>\n",
       "      <td>2021-06-26 02:00:00</td>\n",
       "      <td>3</td>\n",
       "      <td>46</td>\n",
       "      <td>200</td>\n",
       "    </tr>\n",
       "  </tbody>\n",
       "</table>\n",
       "</div>"
      ],
      "text/plain": [
       "                                   time  account_encoded  IP_encoded  \\\n",
       "time                                                                   \n",
       "2021-06-26 00:47:00 2021-06-26 00:47:00                3          15   \n",
       "2021-06-26 01:27:00 2021-06-26 01:27:00                3          69   \n",
       "2021-06-26 01:45:00 2021-06-26 01:45:00                3          28   \n",
       "2021-06-26 01:59:00 2021-06-26 01:59:00                3           6   \n",
       "2021-06-26 02:00:00 2021-06-26 02:00:00                3          46   \n",
       "\n",
       "                     url_encoded  \n",
       "time                              \n",
       "2021-06-26 00:47:00          151  \n",
       "2021-06-26 01:27:00          274  \n",
       "2021-06-26 01:45:00          282  \n",
       "2021-06-26 01:59:00           89  \n",
       "2021-06-26 02:00:00          200  "
      ]
     },
     "execution_count": 18,
     "metadata": {},
     "output_type": "execute_result"
    }
   ],
   "source": [
    "# Drop the original categorical columns \n",
    "sample_df = sample_df.drop(columns=categorical_features)\n",
    "sample_df.head(5)"
   ]
  },
  {
   "cell_type": "code",
   "execution_count": 19,
   "id": "7300dbb2",
   "metadata": {
    "execution": {
     "iopub.execute_input": "2024-07-16T11:09:33.841223Z",
     "iopub.status.busy": "2024-07-16T11:09:33.840548Z",
     "iopub.status.idle": "2024-07-16T11:09:33.845052Z",
     "shell.execute_reply": "2024-07-16T11:09:33.844141Z"
    },
    "id": "GXOKQvLub9PK",
    "papermill": {
     "duration": 0.017297,
     "end_time": "2024-07-16T11:09:33.846999",
     "exception": false,
     "start_time": "2024-07-16T11:09:33.829702",
     "status": "completed"
    },
    "tags": []
   },
   "outputs": [],
   "source": [
    "# **Feature Hashing for categorical variables**\n",
    "\n",
    "# from sklearn.feature_extraction import FeatureHasher\n",
    "\n",
    "# cols = sample_df[[\"account\", \"IP\", \"url\"]]\n",
    "\n",
    "# # Convert each value in the selected columns to a string\n",
    "# cols = cols.map(str)\n",
    "\n",
    "# # Convert selected columns to list of dictionaries\n",
    "# data_dict = cols.to_dict(orient='records')\n",
    "\n",
    "# # Initialize feature hasher\n",
    "# hasher = FeatureHasher(n_features=10, input_type='string')\n",
    "# hashed_features = hasher.fit_transform(data_dict).toarray()\n",
    "\n",
    "# # Convert hashed features to DataFrame\n",
    "# hashed_df = pd.DataFrame(hashed_features, columns=[f'feature_{i}' for i in range(hashed_features.shape[1])])\n",
    "\n",
    "# # Combine the original DataFrame with hashed features\n",
    "# result_df = pd.concat([cols.reset_index(), hashed_df], axis=1)"
   ]
  },
  {
   "cell_type": "markdown",
   "id": "ea1c3b46",
   "metadata": {
    "id": "Gu6LoHMX1om-",
    "papermill": {
     "duration": 0.009587,
     "end_time": "2024-07-16T11:09:33.866449",
     "exception": false,
     "start_time": "2024-07-16T11:09:33.856862",
     "status": "completed"
    },
    "tags": []
   },
   "source": [
    "### **Pre-processing of Time column**"
   ]
  },
  {
   "cell_type": "code",
   "execution_count": 20,
   "id": "eff0ae4a",
   "metadata": {
    "execution": {
     "iopub.execute_input": "2024-07-16T11:09:33.887743Z",
     "iopub.status.busy": "2024-07-16T11:09:33.887413Z",
     "iopub.status.idle": "2024-07-16T11:09:33.895516Z",
     "shell.execute_reply": "2024-07-16T11:09:33.894527Z"
    },
    "id": "6bKx9-NW1eWD",
    "papermill": {
     "duration": 0.021202,
     "end_time": "2024-07-16T11:09:33.897619",
     "exception": false,
     "start_time": "2024-07-16T11:09:33.876417",
     "status": "completed"
    },
    "tags": []
   },
   "outputs": [],
   "source": [
    "# Extract numerical features\n",
    "\n",
    "sample_df['hour'] = sample_df['time'].dt.hour\n",
    "sample_df['day_of_week'] = sample_df['time'].dt.day_of_week\n",
    "sample_df['month'] = sample_df['time'].dt.month\n"
   ]
  },
  {
   "cell_type": "code",
   "execution_count": 21,
   "id": "a58021e8",
   "metadata": {
    "execution": {
     "iopub.execute_input": "2024-07-16T11:09:33.918715Z",
     "iopub.status.busy": "2024-07-16T11:09:33.918410Z",
     "iopub.status.idle": "2024-07-16T11:09:33.925127Z",
     "shell.execute_reply": "2024-07-16T11:09:33.924092Z"
    },
    "id": "uN_lnOvV1eYX",
    "papermill": {
     "duration": 0.019964,
     "end_time": "2024-07-16T11:09:33.927590",
     "exception": false,
     "start_time": "2024-07-16T11:09:33.907626",
     "status": "completed"
    },
    "tags": []
   },
   "outputs": [],
   "source": [
    "sample_df.drop('time', axis=1, inplace=True)"
   ]
  },
  {
   "cell_type": "code",
   "execution_count": 22,
   "id": "d5481f06",
   "metadata": {
    "execution": {
     "iopub.execute_input": "2024-07-16T11:09:33.949598Z",
     "iopub.status.busy": "2024-07-16T11:09:33.949232Z",
     "iopub.status.idle": "2024-07-16T11:09:33.959657Z",
     "shell.execute_reply": "2024-07-16T11:09:33.958674Z"
    },
    "id": "Thp9NuBp1eak",
    "outputId": "db646553-df33-4ef9-efb0-606933f749c6",
    "papermill": {
     "duration": 0.023423,
     "end_time": "2024-07-16T11:09:33.961683",
     "exception": false,
     "start_time": "2024-07-16T11:09:33.938260",
     "status": "completed"
    },
    "tags": []
   },
   "outputs": [
    {
     "data": {
      "text/html": [
       "<div>\n",
       "<style scoped>\n",
       "    .dataframe tbody tr th:only-of-type {\n",
       "        vertical-align: middle;\n",
       "    }\n",
       "\n",
       "    .dataframe tbody tr th {\n",
       "        vertical-align: top;\n",
       "    }\n",
       "\n",
       "    .dataframe thead th {\n",
       "        text-align: right;\n",
       "    }\n",
       "</style>\n",
       "<table border=\"1\" class=\"dataframe\">\n",
       "  <thead>\n",
       "    <tr style=\"text-align: right;\">\n",
       "      <th></th>\n",
       "      <th>account_encoded</th>\n",
       "      <th>IP_encoded</th>\n",
       "      <th>url_encoded</th>\n",
       "      <th>hour</th>\n",
       "      <th>day_of_week</th>\n",
       "      <th>month</th>\n",
       "    </tr>\n",
       "    <tr>\n",
       "      <th>time</th>\n",
       "      <th></th>\n",
       "      <th></th>\n",
       "      <th></th>\n",
       "      <th></th>\n",
       "      <th></th>\n",
       "      <th></th>\n",
       "    </tr>\n",
       "  </thead>\n",
       "  <tbody>\n",
       "    <tr>\n",
       "      <th>2021-06-26 00:47:00</th>\n",
       "      <td>3</td>\n",
       "      <td>15</td>\n",
       "      <td>151</td>\n",
       "      <td>0</td>\n",
       "      <td>5</td>\n",
       "      <td>6</td>\n",
       "    </tr>\n",
       "    <tr>\n",
       "      <th>2021-06-26 01:27:00</th>\n",
       "      <td>3</td>\n",
       "      <td>69</td>\n",
       "      <td>274</td>\n",
       "      <td>1</td>\n",
       "      <td>5</td>\n",
       "      <td>6</td>\n",
       "    </tr>\n",
       "    <tr>\n",
       "      <th>2021-06-26 01:45:00</th>\n",
       "      <td>3</td>\n",
       "      <td>28</td>\n",
       "      <td>282</td>\n",
       "      <td>1</td>\n",
       "      <td>5</td>\n",
       "      <td>6</td>\n",
       "    </tr>\n",
       "    <tr>\n",
       "      <th>2021-06-26 01:59:00</th>\n",
       "      <td>3</td>\n",
       "      <td>6</td>\n",
       "      <td>89</td>\n",
       "      <td>1</td>\n",
       "      <td>5</td>\n",
       "      <td>6</td>\n",
       "    </tr>\n",
       "  </tbody>\n",
       "</table>\n",
       "</div>"
      ],
      "text/plain": [
       "                     account_encoded  IP_encoded  url_encoded  hour  \\\n",
       "time                                                                  \n",
       "2021-06-26 00:47:00                3          15          151     0   \n",
       "2021-06-26 01:27:00                3          69          274     1   \n",
       "2021-06-26 01:45:00                3          28          282     1   \n",
       "2021-06-26 01:59:00                3           6           89     1   \n",
       "\n",
       "                     day_of_week  month  \n",
       "time                                     \n",
       "2021-06-26 00:47:00            5      6  \n",
       "2021-06-26 01:27:00            5      6  \n",
       "2021-06-26 01:45:00            5      6  \n",
       "2021-06-26 01:59:00            5      6  "
      ]
     },
     "execution_count": 22,
     "metadata": {},
     "output_type": "execute_result"
    }
   ],
   "source": [
    "sample_df.head(4)"
   ]
  },
  {
   "cell_type": "markdown",
   "id": "bd075e8d",
   "metadata": {
    "id": "aWZF1lyrIjsK",
    "papermill": {
     "duration": 0.009995,
     "end_time": "2024-07-16T11:09:33.981946",
     "exception": false,
     "start_time": "2024-07-16T11:09:33.971951",
     "status": "completed"
    },
    "tags": []
   },
   "source": [
    "**4. Preprocess (Normalize) the Data**"
   ]
  },
  {
   "cell_type": "code",
   "execution_count": 23,
   "id": "56429828",
   "metadata": {
    "execution": {
     "iopub.execute_input": "2024-07-16T11:09:34.003727Z",
     "iopub.status.busy": "2024-07-16T11:09:34.003355Z",
     "iopub.status.idle": "2024-07-16T11:09:34.012627Z",
     "shell.execute_reply": "2024-07-16T11:09:34.011828Z"
    },
    "id": "3nxpzSewIbJo",
    "papermill": {
     "duration": 0.022654,
     "end_time": "2024-07-16T11:09:34.014753",
     "exception": false,
     "start_time": "2024-07-16T11:09:33.992099",
     "status": "completed"
    },
    "tags": []
   },
   "outputs": [],
   "source": [
    "from sklearn.preprocessing import StandardScaler\n",
    "\n",
    "# Normalize data\n",
    "scaler = StandardScaler()\n",
    "scaled_data = scaler.fit_transform(sample_df)\n"
   ]
  },
  {
   "cell_type": "markdown",
   "id": "e5abc822",
   "metadata": {
    "id": "EBOhg_v9YApJ",
    "papermill": {
     "duration": 0.009942,
     "end_time": "2024-07-16T11:09:34.035470",
     "exception": false,
     "start_time": "2024-07-16T11:09:34.025528",
     "status": "completed"
    },
    "tags": []
   },
   "source": [
    "**DBSCAN algorithm**"
   ]
  },
  {
   "cell_type": "code",
   "execution_count": 24,
   "id": "5711d8aa",
   "metadata": {
    "execution": {
     "iopub.execute_input": "2024-07-16T11:09:34.057194Z",
     "iopub.status.busy": "2024-07-16T11:09:34.056815Z",
     "iopub.status.idle": "2024-07-16T11:09:34.474109Z",
     "shell.execute_reply": "2024-07-16T11:09:34.473266Z"
    },
    "id": "_cMzjUKVX_rA",
    "papermill": {
     "duration": 0.431021,
     "end_time": "2024-07-16T11:09:34.476622",
     "exception": false,
     "start_time": "2024-07-16T11:09:34.045601",
     "status": "completed"
    },
    "tags": []
   },
   "outputs": [],
   "source": [
    "from sklearn.cluster import DBSCAN\n",
    "\n",
    "# Apply DBSCAN\n",
    "epsilon = 0.5\n",
    "min_samples = 5\n",
    "dbscan = DBSCAN(eps=epsilon, min_samples=min_samples)\n",
    "clusters = dbscan.fit_predict(scaled_data)"
   ]
  },
  {
   "cell_type": "code",
   "execution_count": 25,
   "id": "8765fe5b",
   "metadata": {
    "execution": {
     "iopub.execute_input": "2024-07-16T11:09:34.500030Z",
     "iopub.status.busy": "2024-07-16T11:09:34.499653Z",
     "iopub.status.idle": "2024-07-16T11:09:34.506161Z",
     "shell.execute_reply": "2024-07-16T11:09:34.505164Z"
    },
    "papermill": {
     "duration": 0.02059,
     "end_time": "2024-07-16T11:09:34.508201",
     "exception": false,
     "start_time": "2024-07-16T11:09:34.487611",
     "status": "completed"
    },
    "tags": []
   },
   "outputs": [
    {
     "data": {
      "text/plain": [
       "array([-1, -1, -1, ..., -1, -1, -1])"
      ]
     },
     "execution_count": 25,
     "metadata": {},
     "output_type": "execute_result"
    }
   ],
   "source": [
    "clusters"
   ]
  },
  {
   "cell_type": "code",
   "execution_count": 26,
   "id": "7988ce26",
   "metadata": {
    "execution": {
     "iopub.execute_input": "2024-07-16T11:09:34.530441Z",
     "iopub.status.busy": "2024-07-16T11:09:34.530072Z",
     "iopub.status.idle": "2024-07-16T11:09:34.538277Z",
     "shell.execute_reply": "2024-07-16T11:09:34.537322Z"
    },
    "papermill": {
     "duration": 0.021837,
     "end_time": "2024-07-16T11:09:34.540434",
     "exception": false,
     "start_time": "2024-07-16T11:09:34.518597",
     "status": "completed"
    },
    "tags": []
   },
   "outputs": [
    {
     "data": {
      "text/plain": [
       "(array([   0,    1,    2,    3,    4,    5,    6,    7,    8,    9,   10,\n",
       "          11,   12,   13,   14,   15,   16,   17,   18,   19,   20,   21,\n",
       "          22,   23,   24,   25,   26,   27,   29,   30,   33,   35,   36,\n",
       "          37,   38,   39,   42,   43,   45,   46,   47,   48,   50,   51,\n",
       "          53,   55,   60,   62,   67,   69,   72,   73,   76,   81,   88,\n",
       "          89,   92,   96,  100,  104,  109,  116,  120,  122,  125,  129,\n",
       "         136,  140,  143,  148,  158,  164,  166,  167,  168,  173,  183,\n",
       "         185,  187,  204,  206,  207,  208,  215,  217,  220,  223,  224,\n",
       "         228,  231,  233,  235,  236,  238,  239,  241,  242,  243,  244,\n",
       "         245,  247,  248,  249,  250,  252,  253,  255,  256,  257,  258,\n",
       "         259,  260,  261,  262,  264,  265,  266,  267,  269,  270,  271,\n",
       "         272,  275,  276,  277,  278,  279,  282,  284,  286,  287,  288,\n",
       "         289,  291,  292,  293,  294,  295,  296,  297,  298,  299,  301,\n",
       "         302,  303,  304,  305,  307,  308,  310,  311,  312,  313,  314,\n",
       "         315,  316,  317,  318,  319,  320,  321,  322,  323,  324,  325,\n",
       "         326,  327,  328,  329,  330,  331,  332,  333,  334,  335,  336,\n",
       "         337,  338,  339,  340,  341,  342,  343,  344,  345,  346,  347,\n",
       "         348,  349,  350,  351,  352,  353,  354,  355,  356,  357,  358,\n",
       "         359,  360,  361,  362,  363,  364,  365,  366,  367,  368,  369,\n",
       "         370,  372,  373,  374,  375,  376,  377,  378,  379,  380,  381,\n",
       "         382,  383,  384,  385,  386,  387,  389,  391,  392,  394,  395,\n",
       "         396,  399,  400,  404,  405,  407,  410,  411,  413,  417,  420,\n",
       "         425,  426,  428,  431,  443,  450,  458,  463,  466,  475,  476,\n",
       "         478,  483,  485,  494,  499,  502,  507,  509,  513,  521,  525,\n",
       "         526,  533,  541,  543,  549,  564,  565,  566,  568,  573,  578,\n",
       "         580,  589,  590,  592,  595,  596,  597,  598,  600,  603,  605,\n",
       "         608,  609,  612,  613,  615,  617,  620,  621,  623,  624,  625,\n",
       "         626,  628,  629,  631,  632,  634,  635,  636,  637,  642,  644,\n",
       "         645,  646,  647,  648,  649,  650,  651,  652,  655,  656,  657,\n",
       "         658,  659,  660,  661,  662,  663,  664,  665,  666,  667,  668,\n",
       "         669,  670,  671,  672,  673,  674,  675,  676,  677,  678,  679,\n",
       "         680,  681,  682,  683,  684,  685,  686,  687,  688,  689,  690,\n",
       "         691,  692,  693,  694,  695,  696,  697,  698,  699,  700,  701,\n",
       "         702,  703,  704,  705,  706,  707,  708,  709,  710,  711,  712,\n",
       "         713,  714,  715,  716,  717,  718,  719,  720,  721,  722,  723,\n",
       "         724,  725,  726,  727,  728,  729,  730,  731,  733,  734,  735,\n",
       "         736,  737,  738,  739,  740,  742,  743,  744,  745,  747,  750,\n",
       "         751,  753,  754,  756,  757,  760,  763,  765,  768,  769,  776,\n",
       "         778,  779,  780,  781,  782,  783,  785,  792,  794,  796,  799,\n",
       "         807,  811,  813,  816,  820,  821,  824,  826,  827,  830,  833,\n",
       "         835,  839,  842,  845,  848,  850,  856,  857,  859,  860,  861,\n",
       "         862,  869,  870,  874,  877,  882,  885,  892,  893,  896,  899,\n",
       "         907,  909,  910,  915,  919,  926,  934,  935,  938,  941,  945,\n",
       "         946,  947,  948,  949,  956,  957,  961,  962,  963,  964,  965,\n",
       "         966,  967,  968,  970,  971,  972,  973,  974,  975,  977,  978,\n",
       "         979,  980,  981,  982,  983,  984,  985,  986,  988,  990,  991,\n",
       "         993,  996,  997,  998, 1004, 1005, 1006, 1009, 1010, 1012, 1013,\n",
       "        1014, 1015, 1016, 1017, 1018, 1019, 1020, 1021, 1023, 1024, 1025,\n",
       "        1026, 1027, 1029, 1030, 1031, 1032, 1033, 1034, 1035, 1036, 1037,\n",
       "        1038, 1039, 1041, 1042, 1044, 1045, 1046, 1047, 1048, 1049, 1050,\n",
       "        1051, 1052, 1053, 1054, 1055, 1056, 1057, 1058, 1059, 1060, 1061,\n",
       "        1062, 1063, 1064]),)"
      ]
     },
     "execution_count": 26,
     "metadata": {},
     "output_type": "execute_result"
    }
   ],
   "source": [
    "index = np.where(clusters<0)\n",
    "index"
   ]
  },
  {
   "cell_type": "markdown",
   "id": "211ae550",
   "metadata": {
    "id": "islo4-NEYNAd",
    "papermill": {
     "duration": 0.010548,
     "end_time": "2024-07-16T11:09:34.609538",
     "exception": false,
     "start_time": "2024-07-16T11:09:34.598990",
     "status": "completed"
    },
    "tags": []
   },
   "source": [
    "#### Identify the core and the outliers\n"
   ]
  },
  {
   "cell_type": "code",
   "execution_count": 27,
   "id": "bd64b179",
   "metadata": {
    "execution": {
     "iopub.execute_input": "2024-07-16T11:09:34.633194Z",
     "iopub.status.busy": "2024-07-16T11:09:34.632197Z",
     "iopub.status.idle": "2024-07-16T11:09:34.637636Z",
     "shell.execute_reply": "2024-07-16T11:09:34.636624Z"
    },
    "id": "XC1qQJ5xYRoQ",
    "papermill": {
     "duration": 0.019498,
     "end_time": "2024-07-16T11:09:34.639693",
     "exception": false,
     "start_time": "2024-07-16T11:09:34.620195",
     "status": "completed"
    },
    "tags": []
   },
   "outputs": [],
   "source": [
    "# Identify the core and the outliers\n",
    "import numpy as np\n",
    "\n",
    "core_samples = np.zeros_like(dbscan.labels_, dtype=bool)\n",
    "core_samples[dbscan.core_sample_indices_] = True\n",
    "labels = dbscan.labels_"
   ]
  },
  {
   "cell_type": "code",
   "execution_count": 28,
   "id": "ea8cf847",
   "metadata": {
    "execution": {
     "iopub.execute_input": "2024-07-16T11:09:34.662920Z",
     "iopub.status.busy": "2024-07-16T11:09:34.662553Z",
     "iopub.status.idle": "2024-07-16T11:09:34.669189Z",
     "shell.execute_reply": "2024-07-16T11:09:34.668118Z"
    },
    "papermill": {
     "duration": 0.020866,
     "end_time": "2024-07-16T11:09:34.671476",
     "exception": false,
     "start_time": "2024-07-16T11:09:34.650610",
     "status": "completed"
    },
    "tags": []
   },
   "outputs": [
    {
     "data": {
      "text/plain": [
       "array([-1, -1, -1, ..., -1, -1, -1])"
      ]
     },
     "execution_count": 28,
     "metadata": {},
     "output_type": "execute_result"
    }
   ],
   "source": [
    "labels"
   ]
  },
  {
   "cell_type": "code",
   "execution_count": 29,
   "id": "02edaea8",
   "metadata": {
    "execution": {
     "iopub.execute_input": "2024-07-16T11:09:34.695222Z",
     "iopub.status.busy": "2024-07-16T11:09:34.694374Z",
     "iopub.status.idle": "2024-07-16T11:09:34.701443Z",
     "shell.execute_reply": "2024-07-16T11:09:34.700118Z"
    },
    "id": "OpDl3uA0YVdc",
    "outputId": "802675e9-5648-448c-c973-9db7c6efaee0",
    "papermill": {
     "duration": 0.021353,
     "end_time": "2024-07-16T11:09:34.703709",
     "exception": false,
     "start_time": "2024-07-16T11:09:34.682356",
     "status": "completed"
    },
    "tags": []
   },
   "outputs": [
    {
     "name": "stdout",
     "output_type": "stream",
     "text": [
      "Estimated number of clusters: 32\n",
      "Estimated number of noise points: 564\n"
     ]
    }
   ],
   "source": [
    "# Check the number of clusters after DBSCAN algorithm (ignoring noise if present)\n",
    "\n",
    "n_clusters_ = len(set(clusters)) - (1 if -1 in clusters else 0)\n",
    "n_noise_ = list(clusters).count(-1)\n",
    "\n",
    "print(f'Estimated number of clusters: {n_clusters_}')\n",
    "print(f'Estimated number of noise points: {n_noise_}')\n"
   ]
  },
  {
   "cell_type": "code",
   "execution_count": 30,
   "id": "070754b9",
   "metadata": {
    "execution": {
     "iopub.execute_input": "2024-07-16T11:09:34.727026Z",
     "iopub.status.busy": "2024-07-16T11:09:34.726668Z",
     "iopub.status.idle": "2024-07-16T11:09:35.034521Z",
     "shell.execute_reply": "2024-07-16T11:09:35.033382Z"
    },
    "id": "m3bKOWJsIn8r",
    "papermill": {
     "duration": 0.322481,
     "end_time": "2024-07-16T11:09:35.037105",
     "exception": false,
     "start_time": "2024-07-16T11:09:34.714624",
     "status": "completed"
    },
    "tags": []
   },
   "outputs": [],
   "source": [
    "from sklearn.ensemble import IsolationForest\n",
    "\n",
    "# Apply Isolation Forest\n",
    "iso_forest = IsolationForest(contamination='auto', random_state=42)\n",
    "iso_labels = iso_forest.fit_predict(scaled_data)\n"
   ]
  },
  {
   "cell_type": "code",
   "execution_count": 31,
   "id": "00503069",
   "metadata": {
    "execution": {
     "iopub.execute_input": "2024-07-16T11:09:35.060563Z",
     "iopub.status.busy": "2024-07-16T11:09:35.060186Z",
     "iopub.status.idle": "2024-07-16T11:09:35.066223Z",
     "shell.execute_reply": "2024-07-16T11:09:35.065339Z"
    },
    "papermill": {
     "duration": 0.020133,
     "end_time": "2024-07-16T11:09:35.068354",
     "exception": false,
     "start_time": "2024-07-16T11:09:35.048221",
     "status": "completed"
    },
    "tags": []
   },
   "outputs": [
    {
     "name": "stdout",
     "output_type": "stream",
     "text": [
      "Estimated number of clusters: 1\n",
      "Estimated number of noise points: 592\n"
     ]
    }
   ],
   "source": [
    "# Check the number of outliers after applying IForest algorithm (ignoring noise if present)\n",
    "\n",
    "n_clusters_ = len(set(iso_labels)) - (1 if -1 in iso_labels else 0)\n",
    "n_noise_ = list(iso_labels).count(-1)\n",
    "\n",
    "print(f'Estimated number of clusters: {n_clusters_}')\n",
    "print(f'Estimated number of noise points: {n_noise_}')\n"
   ]
  },
  {
   "cell_type": "markdown",
   "id": "aa7ae150",
   "metadata": {
    "id": "0nolZKSBJg0V",
    "papermill": {
     "duration": 0.010645,
     "end_time": "2024-07-16T11:09:35.089876",
     "exception": false,
     "start_time": "2024-07-16T11:09:35.079231",
     "status": "completed"
    },
    "tags": []
   },
   "source": [
    "**7. Evaluate and Visualize Results**"
   ]
  },
  {
   "cell_type": "code",
   "execution_count": 32,
   "id": "25ff8a75",
   "metadata": {
    "execution": {
     "iopub.execute_input": "2024-07-16T11:09:35.113090Z",
     "iopub.status.busy": "2024-07-16T11:09:35.112709Z",
     "iopub.status.idle": "2024-07-16T11:09:36.054957Z",
     "shell.execute_reply": "2024-07-16T11:09:36.053814Z"
    },
    "papermill": {
     "duration": 0.959045,
     "end_time": "2024-07-16T11:09:36.059675",
     "exception": false,
     "start_time": "2024-07-16T11:09:35.100630",
     "status": "completed"
    },
    "tags": []
   },
   "outputs": [
    {
     "data": {
      "image/png": "[encoded data removed]",
      "text/plain": [
       "<Figure size 1200x1000 with 2 Axes>"
      ]
     },
     "metadata": {},
     "output_type": "display_data"
    }
   ],
   "source": [
    "import matplotlib.pyplot as plt\n",
    "\n",
    "# Create a figure with subplots and a specified size\n",
    "fig, (ax1, ax2) = plt.subplots(2, 1, figsize=(12, 10), sharex=True)\n",
    "\n",
    "# Plot DBSCAN labels\n",
    "ax1.plot(sample_df.index, clusters, marker='o', linestyle='-', color='b', markersize=5, label='DBSCAN Clusters')\n",
    "ax1.set_title('DBSCAN Anomaly Detection', fontsize=16)\n",
    "ax1.set_ylabel('Cluster Label', fontsize=14)\n",
    "ax1.grid(True)\n",
    "ax1.legend(fontsize=12)\n",
    "ax1.tick_params(axis='both', which='major', labelsize=12)\n",
    "\n",
    "# Plot Isolation Forest labels\n",
    "ax2.plot(sample_df.index, iso_labels, marker='o', linestyle='-', color='g', markersize=5, label='Isolation Forest Anomalies')\n",
    "ax2.set_title('Isolation Forest Anomaly Detection', fontsize=16)\n",
    "ax2.set_xlabel('Time', fontsize=14)\n",
    "ax2.set_ylabel('Anomaly Label', fontsize=14)\n",
    "ax2.grid(True)\n",
    "ax2.legend(fontsize=12)\n",
    "ax2.tick_params(axis='both', which='major', labelsize=12)\n",
    "\n",
    "# Adjust layout to prevent overlap\n",
    "plt.tight_layout()\n",
    "\n",
    "# Display the plots\n",
    "plt.show()\n"
   ]
  },
  {
   "cell_type": "code",
   "execution_count": 33,
   "id": "7346977b",
   "metadata": {
    "execution": {
     "iopub.execute_input": "2024-07-16T11:09:36.087351Z",
     "iopub.status.busy": "2024-07-16T11:09:36.086940Z",
     "iopub.status.idle": "2024-07-16T11:09:36.123471Z",
     "shell.execute_reply": "2024-07-16T11:09:36.122190Z"
    },
    "id": "wdI3fuYhb6Y7",
    "outputId": "93114fd9-0096-4341-ec62-db2012659569",
    "papermill": {
     "duration": 0.053556,
     "end_time": "2024-07-16T11:09:36.126504",
     "exception": false,
     "start_time": "2024-07-16T11:09:36.072948",
     "status": "completed"
    },
    "tags": []
   },
   "outputs": [
    {
     "name": "stdout",
     "output_type": "stream",
     "text": [
      "Silhouette Coefficient: -0.1452822355715879\n"
     ]
    }
   ],
   "source": [
    "from sklearn.metrics import silhouette_score\n",
    "\n",
    "# Calculate Silhouette Coefficient\n",
    "silhouette_avg = silhouette_score(scaled_data, clusters)\n",
    "print(f\"Silhouette Coefficient: {silhouette_avg}\")"
   ]
  },
  {
   "cell_type": "code",
   "execution_count": 34,
   "id": "4ea6be64",
   "metadata": {
    "execution": {
     "iopub.execute_input": "2024-07-16T11:09:36.171491Z",
     "iopub.status.busy": "2024-07-16T11:09:36.170711Z",
     "iopub.status.idle": "2024-07-16T11:09:36.204542Z",
     "shell.execute_reply": "2024-07-16T11:09:36.203462Z"
    },
    "id": "Bu5IDG6QzehI",
    "outputId": "51e3db6f-ff60-4569-95aa-6aec6d2058fc",
    "papermill": {
     "duration": 0.059242,
     "end_time": "2024-07-16T11:09:36.207548",
     "exception": false,
     "start_time": "2024-07-16T11:09:36.148306",
     "status": "completed"
    },
    "tags": []
   },
   "outputs": [
    {
     "name": "stdout",
     "output_type": "stream",
     "text": [
      "Silhouette Coefficient: 0.030559278777448465\n"
     ]
    }
   ],
   "source": [
    "from sklearn.metrics import silhouette_score\n",
    "\n",
    "# Calculate Silhouette Coefficient\n",
    "silhouette_isolation_f = silhouette_score(scaled_data, iso_labels)\n",
    "print(f\"Silhouette Coefficient: {silhouette_isolation_f}\")"
   ]
  },
  {
   "cell_type": "code",
   "execution_count": null,
   "id": "104983ef",
   "metadata": {
    "papermill": {
     "duration": 0.020728,
     "end_time": "2024-07-16T11:09:36.249845",
     "exception": false,
     "start_time": "2024-07-16T11:09:36.229117",
     "status": "completed"
    },
    "tags": []
   },
   "outputs": [],
   "source": []
  }
 ],
 "metadata": {
  "colab": {
   "provenance": [],
   "toc_visible": true
  },
  "kaggle": {
   "accelerator": "none",
   "dataSources": [
    {
     "datasetId": 5391588,
     "sourceId": 8958193,
     "sourceType": "datasetVersion"
    }
   ],
   "dockerImageVersionId": 30746,
   "isGpuEnabled": false,
   "isInternetEnabled": false,
   "language": "python",
   "sourceType": "notebook"
  },
  "kernelspec": {
   "display_name": "Python 3",
   "language": "python",
   "name": "python3"
  },
  "language_info": {
   "codemirror_mode": {
    "name": "ipython",
    "version": 3
   },
   "file_extension": ".py",
   "mimetype": "text/x-python",
   "name": "python",
   "nbconvert_exporter": "python",
   "pygments_lexer": "ipython3",
   "version": "3.10.13"
  },
  "papermill": {
   "default_parameters": {},
   "duration": 10.819237,
   "end_time": "2024-07-16T11:09:36.792355",
   "environment_variables": {},
   "exception": null,
   "input_path": "__notebook__.ipynb",
   "output_path": "__notebook__.ipynb",
   "parameters": {},
   "start_time": "2024-07-16T11:09:25.973118",
   "version": "2.5.0"
  }
 },
 "nbformat": 4,
 "nbformat_minor": 5
}
