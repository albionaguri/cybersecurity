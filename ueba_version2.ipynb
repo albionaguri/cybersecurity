{
 "cells": [
  {
   "cell_type": "markdown",
   "id": "2d5a88a2",
   "metadata": {
    "id": "bzQjj0ebHm-h",
    "papermill": {
     "duration": 0.014242,
     "end_time": "2024-07-16T11:05:35.091984",
     "exception": false,
     "start_time": "2024-07-16T11:05:35.077742",
     "status": "completed"
    },
    "tags": []
   },
   "source": [
    "**1. Load and Inspect Data**\n",
    "\n",
    "\n"
   ]
  },
  {
   "cell_type": "code",
   "execution_count": 1,
   "id": "a225e05f",
   "metadata": {
    "execution": {
     "iopub.execute_input": "2024-07-16T11:05:35.121547Z",
     "iopub.status.busy": "2024-07-16T11:05:35.121108Z",
     "iopub.status.idle": "2024-07-16T11:05:38.188328Z",
     "shell.execute_reply": "2024-07-16T11:05:38.186952Z"
    },
    "id": "1I5zdHRnHjYZ",
    "outputId": "eeaca585-5aa7-4f9f-f0cd-f2aa18b4b787",
    "papermill": {
     "duration": 3.085595,
     "end_time": "2024-07-16T11:05:38.191474",
     "exception": false,
     "start_time": "2024-07-16T11:05:35.105879",
     "status": "completed"
    },
    "tags": []
   },
   "outputs": [
    {
     "name": "stdout",
     "output_type": "stream",
     "text": [
      "Train Data Shape: (528690, 10)\n",
      "   id            account         group              IP  \\\n",
      "0   1  xiaojiawei@qq.com  ÈËÊÂÐÐÕþÖÐÐÄ    192.168.1.50   \n",
      "1   2  xiaojiawei@qq.com  ÈËÊÂÐÐÕþÖÐÐÄ   192.168.31.46   \n",
      "2   3  xiaojiawei@qq.com  ÈËÊÂÐÐÕþÖÐÐÄ     192.168.2.3   \n",
      "3   4  xiaojiawei@qq.com  ÈËÊÂÐÐÕþÖÐÐÄ  192.168.145.30   \n",
      "4   5  xiaojiawei@qq.com  ÈËÊÂÐÐÕþÖÐÐÄ  192.168.178.92   \n",
      "\n",
      "                               url   port  vlan      switchIP            time  \\\n",
      "0                http://123.6.4.41  15788   700  129.30.06.37  2021/6/16 7:56   \n",
      "1           http://104.192.108.154  12665   700  152.91.89.45  2021/6/28 7:58   \n",
      "2              http://42.236.37.80  25551   700  129.30.06.37   2021/6/1 6:37   \n",
      "3  http://uf-api6-client.ksord.com  18274   700    162.6.8.29   2021/5/5 8:18   \n",
      "4           http://101.199.128.170  34572   700    162.0.1.84  2021/6/20 6:52   \n",
      "\n",
      "      ret  \n",
      "0  0.1149  \n",
      "1  0.1801  \n",
      "2  0.3690  \n",
      "3  0.1532  \n",
      "4  0.1449  \n"
     ]
    }
   ],
   "source": [
    "import pandas as pd\n",
    "import numpy as np\n",
    "\n",
    "train_data = pd.read_csv('/kaggle/input/ueba-dbscan-iforest/train_data.csv', encoding='latin1')\n",
    "\n",
    "print(\"Train Data Shape:\", train_data.shape)\n",
    "\n",
    "print(train_data.head())\n"
   ]
  },
  {
   "cell_type": "code",
   "execution_count": 2,
   "id": "a903c832",
   "metadata": {
    "execution": {
     "iopub.execute_input": "2024-07-16T11:05:38.222803Z",
     "iopub.status.busy": "2024-07-16T11:05:38.221772Z",
     "iopub.status.idle": "2024-07-16T11:05:38.447889Z",
     "shell.execute_reply": "2024-07-16T11:05:38.446506Z"
    },
    "id": "3e3lziKeSIIW",
    "outputId": "c83fb447-1812-44d8-8f3f-2a2b371dba79",
    "papermill": {
     "duration": 0.244886,
     "end_time": "2024-07-16T11:05:38.450873",
     "exception": false,
     "start_time": "2024-07-16T11:05:38.205987",
     "status": "completed"
    },
    "tags": []
   },
   "outputs": [
    {
     "name": "stdout",
     "output_type": "stream",
     "text": [
      "Total observations: 528690\n",
      "Unique accounts: 151\n",
      "Unique IPs: 133\n",
      "Unique URLs: 1319\n",
      "Unique switchIPs: 133\n"
     ]
    }
   ],
   "source": [
    "print(\"Total observations:\", len(train_data))\n",
    "print(\"Unique accounts:\", train_data['account'].nunique())\n",
    "print(\"Unique IPs:\", train_data['IP'].nunique())\n",
    "print(\"Unique URLs:\", train_data['url'].nunique())\n",
    "print(\"Unique switchIPs:\", train_data['switchIP'].nunique())"
   ]
  },
  {
   "cell_type": "code",
   "execution_count": 3,
   "id": "b17de084",
   "metadata": {
    "execution": {
     "iopub.execute_input": "2024-07-16T11:05:38.481526Z",
     "iopub.status.busy": "2024-07-16T11:05:38.481127Z",
     "iopub.status.idle": "2024-07-16T11:05:39.007162Z",
     "shell.execute_reply": "2024-07-16T11:05:39.006053Z"
    },
    "id": "4ZMCoAwbUhB2",
    "papermill": {
     "duration": 0.544633,
     "end_time": "2024-07-16T11:05:39.010030",
     "exception": false,
     "start_time": "2024-07-16T11:05:38.465397",
     "status": "completed"
    },
    "tags": []
   },
   "outputs": [],
   "source": [
    "# Convert 'time' column to datetime and sort by time\n",
    "train_data['time'] = pd.to_datetime(train_data['time'],format='%Y/%m/%d %H:%M')\n",
    "train_data = train_data.sort_values(by='time')\n"
   ]
  },
  {
   "cell_type": "code",
   "execution_count": 4,
   "id": "183d2fe6",
   "metadata": {
    "execution": {
     "iopub.execute_input": "2024-07-16T11:05:39.041010Z",
     "iopub.status.busy": "2024-07-16T11:05:39.040580Z",
     "iopub.status.idle": "2024-07-16T11:05:39.051317Z",
     "shell.execute_reply": "2024-07-16T11:05:39.050150Z"
    },
    "id": "lDsB6SkAUkfd",
    "papermill": {
     "duration": 0.028947,
     "end_time": "2024-07-16T11:05:39.054094",
     "exception": false,
     "start_time": "2024-07-16T11:05:39.025147",
     "status": "completed"
    },
    "tags": []
   },
   "outputs": [],
   "source": [
    "# Temporal range of the dataset\n",
    "start_time = train_data['time'].min()\n",
    "end_time = train_data['time'].max()\n"
   ]
  },
  {
   "cell_type": "code",
   "execution_count": 5,
   "id": "b94a122e",
   "metadata": {
    "execution": {
     "iopub.execute_input": "2024-07-16T11:05:39.084797Z",
     "iopub.status.busy": "2024-07-16T11:05:39.084369Z",
     "iopub.status.idle": "2024-07-16T11:05:39.314554Z",
     "shell.execute_reply": "2024-07-16T11:05:39.313309Z"
    },
    "id": "zOayGyosIFdi",
    "outputId": "e3a7d621-bbc6-4aa4-dd56-161cfcb3977a",
    "papermill": {
     "duration": 0.248445,
     "end_time": "2024-07-16T11:05:39.317246",
     "exception": false,
     "start_time": "2024-07-16T11:05:39.068801",
     "status": "completed"
    },
    "tags": []
   },
   "outputs": [
    {
     "name": "stdout",
     "output_type": "stream",
     "text": [
      "First observation: 2021-04-30 18:05:00\n",
      "Latest observation: 2021-06-29 15:58:00\n",
      "Total observations: 528690\n",
      "Unique accounts: 151\n",
      "Unique IPs: 133\n",
      "Unique URLs: 1319\n",
      "Unique switchIPs: 133\n"
     ]
    }
   ],
   "source": [
    "print(f\"First observation: {start_time}\\nLatest observation: {end_time}\")\n",
    "print(\"Total observations:\", len(train_data))\n",
    "print(\"Unique accounts:\", train_data['account'].nunique())\n",
    "print(\"Unique IPs:\", train_data['IP'].nunique())\n",
    "print(\"Unique URLs:\", train_data['url'].nunique())\n",
    "print(\"Unique switchIPs:\", train_data['switchIP'].nunique())"
   ]
  },
  {
   "cell_type": "markdown",
   "id": "6d10f9aa",
   "metadata": {
    "id": "d2wdNZV6INxh",
    "papermill": {
     "duration": 0.013903,
     "end_time": "2024-07-16T11:05:39.345390",
     "exception": false,
     "start_time": "2024-07-16T11:05:39.331487",
     "status": "completed"
    },
    "tags": []
   },
   "source": [
    "**2. Filter Data to Select Specific Users**"
   ]
  },
  {
   "cell_type": "code",
   "execution_count": 6,
   "id": "c5819bce",
   "metadata": {
    "execution": {
     "iopub.execute_input": "2024-07-16T11:05:39.376291Z",
     "iopub.status.busy": "2024-07-16T11:05:39.375871Z",
     "iopub.status.idle": "2024-07-16T11:05:39.489552Z",
     "shell.execute_reply": "2024-07-16T11:05:39.487652Z"
    },
    "id": "U9sjR8xUHjcw",
    "papermill": {
     "duration": 0.134184,
     "end_time": "2024-07-16T11:05:39.493643",
     "exception": false,
     "start_time": "2024-07-16T11:05:39.359459",
     "status": "completed"
    },
    "tags": []
   },
   "outputs": [],
   "source": [
    "# Select a subset of users\n",
    "unique_users = train_data['account'].unique()\n",
    "selected_users = np.random.choice(unique_users, 5, replace=False)\n",
    "filtered_df = train_data[train_data['account'].isin(selected_users)]\n"
   ]
  },
  {
   "cell_type": "code",
   "execution_count": 7,
   "id": "4f3da81f",
   "metadata": {
    "execution": {
     "iopub.execute_input": "2024-07-16T11:05:39.534559Z",
     "iopub.status.busy": "2024-07-16T11:05:39.534017Z",
     "iopub.status.idle": "2024-07-16T11:05:39.547832Z",
     "shell.execute_reply": "2024-07-16T11:05:39.546490Z"
    },
    "id": "SYIbtyosU2Ow",
    "outputId": "b830b3bb-58cf-4fc5-e1b5-b4565b150fb6",
    "papermill": {
     "duration": 0.036307,
     "end_time": "2024-07-16T11:05:39.550272",
     "exception": false,
     "start_time": "2024-07-16T11:05:39.513965",
     "status": "completed"
    },
    "tags": []
   },
   "outputs": [
    {
     "name": "stdout",
     "output_type": "stream",
     "text": [
      "Total observations: 12365\n",
      "Unique accounts: 5\n",
      "Unique IPs: 110\n",
      "Unique URLs: 835\n",
      "Unique switchIPs: 107\n"
     ]
    }
   ],
   "source": [
    "print(\"Total observations:\", len(filtered_df))\n",
    "print(\"Unique accounts:\", filtered_df['account'].nunique())\n",
    "print(\"Unique IPs:\", filtered_df['IP'].nunique())\n",
    "print(\"Unique URLs:\", filtered_df['url'].nunique())\n",
    "print(\"Unique switchIPs:\", filtered_df['switchIP'].nunique())\n"
   ]
  },
  {
   "cell_type": "markdown",
   "id": "551d1aba",
   "metadata": {
    "papermill": {
     "duration": 0.014022,
     "end_time": "2024-07-16T11:05:39.578780",
     "exception": false,
     "start_time": "2024-07-16T11:05:39.564758",
     "status": "completed"
    },
    "tags": []
   },
   "source": [
    "**2.1 Filter Data to Select Specific Time Ranges**"
   ]
  },
  {
   "cell_type": "code",
   "execution_count": 8,
   "id": "9c9fb2db",
   "metadata": {
    "execution": {
     "iopub.execute_input": "2024-07-16T11:05:39.608977Z",
     "iopub.status.busy": "2024-07-16T11:05:39.608568Z",
     "iopub.status.idle": "2024-07-16T11:05:39.617301Z",
     "shell.execute_reply": "2024-07-16T11:05:39.616246Z"
    },
    "id": "Z72tATooIW3A",
    "papermill": {
     "duration": 0.026995,
     "end_time": "2024-07-16T11:05:39.619845",
     "exception": false,
     "start_time": "2024-07-16T11:05:39.592850",
     "status": "completed"
    },
    "tags": []
   },
   "outputs": [],
   "source": [
    "# Define the time range\n",
    "start_date = '2021-06-26'\n",
    "end_date = '2021-06-29'\n",
    "\n",
    "# Filter data within the time range\n",
    "sample_df = filtered_df[filtered_df['time'].between(start_date, end_date)]\n",
    "sample_df.set_index('time', inplace=True, drop=False)"
   ]
  },
  {
   "cell_type": "code",
   "execution_count": 9,
   "id": "457a0be2",
   "metadata": {
    "execution": {
     "iopub.execute_input": "2024-07-16T11:05:39.653055Z",
     "iopub.status.busy": "2024-07-16T11:05:39.652626Z",
     "iopub.status.idle": "2024-07-16T11:05:39.666873Z",
     "shell.execute_reply": "2024-07-16T11:05:39.665566Z"
    },
    "id": "ncrRShAaXdmS",
    "outputId": "e0ff31ec-f29b-43df-fe30-7f526f377074",
    "papermill": {
     "duration": 0.035302,
     "end_time": "2024-07-16T11:05:39.669384",
     "exception": false,
     "start_time": "2024-07-16T11:05:39.634082",
     "status": "completed"
    },
    "tags": []
   },
   "outputs": [
    {
     "name": "stdout",
     "output_type": "stream",
     "text": [
      "Total observations: 683\n",
      "Unique accounts: 5\n",
      "Unique IPs: 73\n",
      "Unique URLs: 276\n",
      "Unique switchIPs: 72\n"
     ]
    }
   ],
   "source": [
    "print(\"Total observations:\", len(sample_df))\n",
    "print(\"Unique accounts:\", sample_df['account'].nunique())\n",
    "print(\"Unique IPs:\", sample_df['IP'].nunique())\n",
    "print(\"Unique URLs:\", sample_df['url'].nunique())\n",
    "print(\"Unique switchIPs:\", sample_df['switchIP'].nunique())\n"
   ]
  },
  {
   "cell_type": "code",
   "execution_count": 10,
   "id": "d9001fc9",
   "metadata": {
    "execution": {
     "iopub.execute_input": "2024-07-16T11:05:39.708679Z",
     "iopub.status.busy": "2024-07-16T11:05:39.707883Z",
     "iopub.status.idle": "2024-07-16T11:05:39.718993Z",
     "shell.execute_reply": "2024-07-16T11:05:39.717777Z"
    },
    "id": "Qi2IQjGfoSw1",
    "outputId": "dec05f07-69cd-4a1d-9cd5-64928c57226a",
    "papermill": {
     "duration": 0.032241,
     "end_time": "2024-07-16T11:05:39.722274",
     "exception": false,
     "start_time": "2024-07-16T11:05:39.690033",
     "status": "completed"
    },
    "tags": []
   },
   "outputs": [
    {
     "data": {
      "text/plain": [
       "Index(['id', 'account', 'group', 'IP', 'url', 'port', 'vlan', 'switchIP',\n",
       "       'time', 'ret'],\n",
       "      dtype='object')"
      ]
     },
     "execution_count": 10,
     "metadata": {},
     "output_type": "execute_result"
    }
   ],
   "source": [
    "sample_df.columns"
   ]
  },
  {
   "cell_type": "code",
   "execution_count": 11,
   "id": "8ce0f9e2",
   "metadata": {
    "execution": {
     "iopub.execute_input": "2024-07-16T11:05:39.755658Z",
     "iopub.status.busy": "2024-07-16T11:05:39.755263Z",
     "iopub.status.idle": "2024-07-16T11:05:39.764290Z",
     "shell.execute_reply": "2024-07-16T11:05:39.762983Z"
    },
    "id": "cxuGxUgAsKUk",
    "papermill": {
     "duration": 0.027905,
     "end_time": "2024-07-16T11:05:39.766984",
     "exception": false,
     "start_time": "2024-07-16T11:05:39.739079",
     "status": "completed"
    },
    "tags": []
   },
   "outputs": [],
   "source": [
    "sample_df = sample_df.drop(columns=['id', 'group', 'port', 'vlan','ret', 'switchIP'])"
   ]
  },
  {
   "cell_type": "code",
   "execution_count": 12,
   "id": "0e319acf",
   "metadata": {
    "execution": {
     "iopub.execute_input": "2024-07-16T11:05:39.804521Z",
     "iopub.status.busy": "2024-07-16T11:05:39.803591Z",
     "iopub.status.idle": "2024-07-16T11:05:39.813697Z",
     "shell.execute_reply": "2024-07-16T11:05:39.811649Z"
    },
    "papermill": {
     "duration": 0.03563,
     "end_time": "2024-07-16T11:05:39.817157",
     "exception": false,
     "start_time": "2024-07-16T11:05:39.781527",
     "status": "completed"
    },
    "tags": []
   },
   "outputs": [
    {
     "data": {
      "text/plain": [
       "(683, 4)"
      ]
     },
     "execution_count": 12,
     "metadata": {},
     "output_type": "execute_result"
    }
   ],
   "source": [
    "sample_df.shape"
   ]
  },
  {
   "cell_type": "code",
   "execution_count": 13,
   "id": "d3ad5afe",
   "metadata": {
    "execution": {
     "iopub.execute_input": "2024-07-16T11:05:39.851076Z",
     "iopub.status.busy": "2024-07-16T11:05:39.850000Z",
     "iopub.status.idle": "2024-07-16T11:05:39.855568Z",
     "shell.execute_reply": "2024-07-16T11:05:39.854305Z"
    },
    "id": "PDGfQam9brHf",
    "papermill": {
     "duration": 0.024905,
     "end_time": "2024-07-16T11:05:39.858434",
     "exception": false,
     "start_time": "2024-07-16T11:05:39.833529",
     "status": "completed"
    },
    "tags": []
   },
   "outputs": [],
   "source": [
    "# numerical_features = [feature for feature in filtered_df.columns if sample_df[feature].dtypes != 'O' and sample_df[feature].dtype in ['int64', 'float64']]\n",
    "# discrete_features=[feature for feature in numerical_features if len(filtered_df[feature].unique())<15]\n",
    "# continuous_feature=[feature for feature in numerical_features if feature not in discrete_features]\n"
   ]
  },
  {
   "cell_type": "markdown",
   "id": "7b914e4f",
   "metadata": {
    "papermill": {
     "duration": 0.017295,
     "end_time": "2024-07-16T11:05:39.894992",
     "exception": false,
     "start_time": "2024-07-16T11:05:39.877697",
     "status": "completed"
    },
    "tags": []
   },
   "source": [
    "**Label Encoding for categorical variables**"
   ]
  },
  {
   "cell_type": "code",
   "execution_count": 14,
   "id": "d7caf3d9",
   "metadata": {
    "execution": {
     "iopub.execute_input": "2024-07-16T11:05:39.925945Z",
     "iopub.status.busy": "2024-07-16T11:05:39.925521Z",
     "iopub.status.idle": "2024-07-16T11:05:39.931393Z",
     "shell.execute_reply": "2024-07-16T11:05:39.930293Z"
    },
    "papermill": {
     "duration": 0.024101,
     "end_time": "2024-07-16T11:05:39.933712",
     "exception": false,
     "start_time": "2024-07-16T11:05:39.909611",
     "status": "completed"
    },
    "tags": []
   },
   "outputs": [],
   "source": [
    "categorical_features=[feature for feature in sample_df.columns if sample_df[feature].dtypes=='O']\n"
   ]
  },
  {
   "cell_type": "code",
   "execution_count": 15,
   "id": "b84962f6",
   "metadata": {
    "execution": {
     "iopub.execute_input": "2024-07-16T11:05:39.964658Z",
     "iopub.status.busy": "2024-07-16T11:05:39.964276Z",
     "iopub.status.idle": "2024-07-16T11:05:39.971302Z",
     "shell.execute_reply": "2024-07-16T11:05:39.970201Z"
    },
    "papermill": {
     "duration": 0.025314,
     "end_time": "2024-07-16T11:05:39.973612",
     "exception": false,
     "start_time": "2024-07-16T11:05:39.948298",
     "status": "completed"
    },
    "tags": []
   },
   "outputs": [
    {
     "data": {
      "text/plain": [
       "['account', 'IP', 'url']"
      ]
     },
     "execution_count": 15,
     "metadata": {},
     "output_type": "execute_result"
    }
   ],
   "source": [
    "categorical_features"
   ]
  },
  {
   "cell_type": "code",
   "execution_count": 16,
   "id": "a89b696c",
   "metadata": {
    "execution": {
     "iopub.execute_input": "2024-07-16T11:05:40.004753Z",
     "iopub.status.busy": "2024-07-16T11:05:40.004361Z",
     "iopub.status.idle": "2024-07-16T11:05:41.213629Z",
     "shell.execute_reply": "2024-07-16T11:05:41.212439Z"
    },
    "papermill": {
     "duration": 1.228269,
     "end_time": "2024-07-16T11:05:41.216535",
     "exception": false,
     "start_time": "2024-07-16T11:05:39.988266",
     "status": "completed"
    },
    "tags": []
   },
   "outputs": [],
   "source": [
    "from sklearn.preprocessing import LabelEncoder\n",
    "\n",
    "# Create a LabelEncoder object\n",
    "le = LabelEncoder()\n",
    "\n",
    "# Apply LabelEncoder to each categorical column\n",
    "for feature in categorical_features:\n",
    "    sample_df[feature + '_encoded'] = le.fit_transform(sample_df[feature])\n",
    "    "
   ]
  },
  {
   "cell_type": "code",
   "execution_count": 17,
   "id": "1c67004f",
   "metadata": {
    "execution": {
     "iopub.execute_input": "2024-07-16T11:05:41.247744Z",
     "iopub.status.busy": "2024-07-16T11:05:41.247287Z",
     "iopub.status.idle": "2024-07-16T11:05:41.263123Z",
     "shell.execute_reply": "2024-07-16T11:05:41.262037Z"
    },
    "papermill": {
     "duration": 0.034228,
     "end_time": "2024-07-16T11:05:41.265471",
     "exception": false,
     "start_time": "2024-07-16T11:05:41.231243",
     "status": "completed"
    },
    "tags": []
   },
   "outputs": [
    {
     "data": {
      "text/html": [
       "<div>\n",
       "<style scoped>\n",
       "    .dataframe tbody tr th:only-of-type {\n",
       "        vertical-align: middle;\n",
       "    }\n",
       "\n",
       "    .dataframe tbody tr th {\n",
       "        vertical-align: top;\n",
       "    }\n",
       "\n",
       "    .dataframe thead th {\n",
       "        text-align: right;\n",
       "    }\n",
       "</style>\n",
       "<table border=\"1\" class=\"dataframe\">\n",
       "  <thead>\n",
       "    <tr style=\"text-align: right;\">\n",
       "      <th></th>\n",
       "      <th>account</th>\n",
       "      <th>IP</th>\n",
       "      <th>url</th>\n",
       "      <th>time</th>\n",
       "      <th>account_encoded</th>\n",
       "      <th>IP_encoded</th>\n",
       "      <th>url_encoded</th>\n",
       "    </tr>\n",
       "    <tr>\n",
       "      <th>time</th>\n",
       "      <th></th>\n",
       "      <th></th>\n",
       "      <th></th>\n",
       "      <th></th>\n",
       "      <th></th>\n",
       "      <th></th>\n",
       "      <th></th>\n",
       "    </tr>\n",
       "  </thead>\n",
       "  <tbody>\n",
       "    <tr>\n",
       "      <th>2021-06-26 02:37:00</th>\n",
       "      <td>jiangwei@qq.com</td>\n",
       "      <td>10.59.20.199</td>\n",
       "      <td>http://only-853333-154-16-166-210.nstool.netea...</td>\n",
       "      <td>2021-06-26 02:37:00</td>\n",
       "      <td>2</td>\n",
       "      <td>5</td>\n",
       "      <td>177</td>\n",
       "    </tr>\n",
       "    <tr>\n",
       "      <th>2021-06-26 02:38:00</th>\n",
       "      <td>jiangwei@qq.com</td>\n",
       "      <td>10.59.20.199</td>\n",
       "      <td>http://only-465448-210-12-140-210.nstool.yqkk....</td>\n",
       "      <td>2021-06-26 02:38:00</td>\n",
       "      <td>2</td>\n",
       "      <td>5</td>\n",
       "      <td>175</td>\n",
       "    </tr>\n",
       "    <tr>\n",
       "      <th>2021-06-26 02:38:00</th>\n",
       "      <td>jiangwei@qq.com</td>\n",
       "      <td>10.59.20.199</td>\n",
       "      <td>http://p8.qhmsg.com</td>\n",
       "      <td>2021-06-26 02:38:00</td>\n",
       "      <td>2</td>\n",
       "      <td>5</td>\n",
       "      <td>189</td>\n",
       "    </tr>\n",
       "  </tbody>\n",
       "</table>\n",
       "</div>"
      ],
      "text/plain": [
       "                             account            IP  \\\n",
       "time                                                 \n",
       "2021-06-26 02:37:00  jiangwei@qq.com  10.59.20.199   \n",
       "2021-06-26 02:38:00  jiangwei@qq.com  10.59.20.199   \n",
       "2021-06-26 02:38:00  jiangwei@qq.com  10.59.20.199   \n",
       "\n",
       "                                                                   url  \\\n",
       "time                                                                     \n",
       "2021-06-26 02:37:00  http://only-853333-154-16-166-210.nstool.netea...   \n",
       "2021-06-26 02:38:00  http://only-465448-210-12-140-210.nstool.yqkk....   \n",
       "2021-06-26 02:38:00                                http://p8.qhmsg.com   \n",
       "\n",
       "                                   time  account_encoded  IP_encoded  \\\n",
       "time                                                                   \n",
       "2021-06-26 02:37:00 2021-06-26 02:37:00                2           5   \n",
       "2021-06-26 02:38:00 2021-06-26 02:38:00                2           5   \n",
       "2021-06-26 02:38:00 2021-06-26 02:38:00                2           5   \n",
       "\n",
       "                     url_encoded  \n",
       "time                              \n",
       "2021-06-26 02:37:00          177  \n",
       "2021-06-26 02:38:00          175  \n",
       "2021-06-26 02:38:00          189  "
      ]
     },
     "execution_count": 17,
     "metadata": {},
     "output_type": "execute_result"
    }
   ],
   "source": [
    "sample_df.head(3)"
   ]
  },
  {
   "cell_type": "code",
   "execution_count": 18,
   "id": "d3706f35",
   "metadata": {
    "execution": {
     "iopub.execute_input": "2024-07-16T11:05:41.298372Z",
     "iopub.status.busy": "2024-07-16T11:05:41.297928Z",
     "iopub.status.idle": "2024-07-16T11:05:41.311748Z",
     "shell.execute_reply": "2024-07-16T11:05:41.310654Z"
    },
    "papermill": {
     "duration": 0.032836,
     "end_time": "2024-07-16T11:05:41.314119",
     "exception": false,
     "start_time": "2024-07-16T11:05:41.281283",
     "status": "completed"
    },
    "tags": []
   },
   "outputs": [
    {
     "data": {
      "text/html": [
       "<div>\n",
       "<style scoped>\n",
       "    .dataframe tbody tr th:only-of-type {\n",
       "        vertical-align: middle;\n",
       "    }\n",
       "\n",
       "    .dataframe tbody tr th {\n",
       "        vertical-align: top;\n",
       "    }\n",
       "\n",
       "    .dataframe thead th {\n",
       "        text-align: right;\n",
       "    }\n",
       "</style>\n",
       "<table border=\"1\" class=\"dataframe\">\n",
       "  <thead>\n",
       "    <tr style=\"text-align: right;\">\n",
       "      <th></th>\n",
       "      <th>time</th>\n",
       "      <th>account_encoded</th>\n",
       "      <th>IP_encoded</th>\n",
       "      <th>url_encoded</th>\n",
       "    </tr>\n",
       "    <tr>\n",
       "      <th>time</th>\n",
       "      <th></th>\n",
       "      <th></th>\n",
       "      <th></th>\n",
       "      <th></th>\n",
       "    </tr>\n",
       "  </thead>\n",
       "  <tbody>\n",
       "    <tr>\n",
       "      <th>2021-06-26 02:37:00</th>\n",
       "      <td>2021-06-26 02:37:00</td>\n",
       "      <td>2</td>\n",
       "      <td>5</td>\n",
       "      <td>177</td>\n",
       "    </tr>\n",
       "    <tr>\n",
       "      <th>2021-06-26 02:38:00</th>\n",
       "      <td>2021-06-26 02:38:00</td>\n",
       "      <td>2</td>\n",
       "      <td>5</td>\n",
       "      <td>175</td>\n",
       "    </tr>\n",
       "    <tr>\n",
       "      <th>2021-06-26 02:38:00</th>\n",
       "      <td>2021-06-26 02:38:00</td>\n",
       "      <td>2</td>\n",
       "      <td>5</td>\n",
       "      <td>189</td>\n",
       "    </tr>\n",
       "    <tr>\n",
       "      <th>2021-06-26 02:38:00</th>\n",
       "      <td>2021-06-26 02:38:00</td>\n",
       "      <td>2</td>\n",
       "      <td>5</td>\n",
       "      <td>177</td>\n",
       "    </tr>\n",
       "    <tr>\n",
       "      <th>2021-06-26 02:38:00</th>\n",
       "      <td>2021-06-26 02:38:00</td>\n",
       "      <td>2</td>\n",
       "      <td>5</td>\n",
       "      <td>177</td>\n",
       "    </tr>\n",
       "  </tbody>\n",
       "</table>\n",
       "</div>"
      ],
      "text/plain": [
       "                                   time  account_encoded  IP_encoded  \\\n",
       "time                                                                   \n",
       "2021-06-26 02:37:00 2021-06-26 02:37:00                2           5   \n",
       "2021-06-26 02:38:00 2021-06-26 02:38:00                2           5   \n",
       "2021-06-26 02:38:00 2021-06-26 02:38:00                2           5   \n",
       "2021-06-26 02:38:00 2021-06-26 02:38:00                2           5   \n",
       "2021-06-26 02:38:00 2021-06-26 02:38:00                2           5   \n",
       "\n",
       "                     url_encoded  \n",
       "time                              \n",
       "2021-06-26 02:37:00          177  \n",
       "2021-06-26 02:38:00          175  \n",
       "2021-06-26 02:38:00          189  \n",
       "2021-06-26 02:38:00          177  \n",
       "2021-06-26 02:38:00          177  "
      ]
     },
     "execution_count": 18,
     "metadata": {},
     "output_type": "execute_result"
    }
   ],
   "source": [
    "# Drop the original categorical columns \n",
    "sample_df = sample_df.drop(columns=categorical_features)\n",
    "sample_df.head(5)"
   ]
  },
  {
   "cell_type": "code",
   "execution_count": 19,
   "id": "e6ec4080",
   "metadata": {
    "execution": {
     "iopub.execute_input": "2024-07-16T11:05:41.346896Z",
     "iopub.status.busy": "2024-07-16T11:05:41.346385Z",
     "iopub.status.idle": "2024-07-16T11:05:41.352357Z",
     "shell.execute_reply": "2024-07-16T11:05:41.351125Z"
    },
    "id": "GXOKQvLub9PK",
    "papermill": {
     "duration": 0.025322,
     "end_time": "2024-07-16T11:05:41.354857",
     "exception": false,
     "start_time": "2024-07-16T11:05:41.329535",
     "status": "completed"
    },
    "tags": []
   },
   "outputs": [],
   "source": [
    "# **Feature Hashing for categorical variables**\n",
    "\n",
    "# from sklearn.feature_extraction import FeatureHasher\n",
    "\n",
    "# cols = sample_df[[\"account\", \"IP\", \"url\"]]\n",
    "\n",
    "# # Convert each value in the selected columns to a string\n",
    "# cols = cols.map(str)\n",
    "\n",
    "# # Convert selected columns to list of dictionaries\n",
    "# data_dict = cols.to_dict(orient='records')\n",
    "\n",
    "# # Initialize feature hasher\n",
    "# hasher = FeatureHasher(n_features=10, input_type='string')\n",
    "# hashed_features = hasher.fit_transform(data_dict).toarray()\n",
    "\n",
    "# # Convert hashed features to DataFrame\n",
    "# hashed_df = pd.DataFrame(hashed_features, columns=[f'feature_{i}' for i in range(hashed_features.shape[1])])\n",
    "\n",
    "# # Combine the original DataFrame with hashed features\n",
    "# result_df = pd.concat([cols.reset_index(), hashed_df], axis=1)"
   ]
  },
  {
   "cell_type": "markdown",
   "id": "b8af294b",
   "metadata": {
    "id": "Gu6LoHMX1om-",
    "papermill": {
     "duration": 0.015092,
     "end_time": "2024-07-16T11:05:41.385245",
     "exception": false,
     "start_time": "2024-07-16T11:05:41.370153",
     "status": "completed"
    },
    "tags": []
   },
   "source": [
    "### **Pre-processing of Time column**"
   ]
  },
  {
   "cell_type": "code",
   "execution_count": 20,
   "id": "121e3757",
   "metadata": {
    "execution": {
     "iopub.execute_input": "2024-07-16T11:05:41.417565Z",
     "iopub.status.busy": "2024-07-16T11:05:41.417133Z",
     "iopub.status.idle": "2024-07-16T11:05:41.426551Z",
     "shell.execute_reply": "2024-07-16T11:05:41.425342Z"
    },
    "id": "6bKx9-NW1eWD",
    "papermill": {
     "duration": 0.028601,
     "end_time": "2024-07-16T11:05:41.429097",
     "exception": false,
     "start_time": "2024-07-16T11:05:41.400496",
     "status": "completed"
    },
    "tags": []
   },
   "outputs": [],
   "source": [
    "# Extract numerical features\n",
    "\n",
    "sample_df['hour'] = sample_df['time'].dt.hour\n",
    "sample_df['day_of_week'] = sample_df['time'].dt.day_of_week\n",
    "sample_df['month'] = sample_df['time'].dt.month\n"
   ]
  },
  {
   "cell_type": "code",
   "execution_count": 21,
   "id": "b3afe9dd",
   "metadata": {
    "execution": {
     "iopub.execute_input": "2024-07-16T11:05:41.462423Z",
     "iopub.status.busy": "2024-07-16T11:05:41.461529Z",
     "iopub.status.idle": "2024-07-16T11:05:41.469944Z",
     "shell.execute_reply": "2024-07-16T11:05:41.468672Z"
    },
    "id": "uN_lnOvV1eYX",
    "papermill": {
     "duration": 0.0278,
     "end_time": "2024-07-16T11:05:41.472444",
     "exception": false,
     "start_time": "2024-07-16T11:05:41.444644",
     "status": "completed"
    },
    "tags": []
   },
   "outputs": [],
   "source": [
    "sample_df.drop('time', axis=1, inplace=True)"
   ]
  },
  {
   "cell_type": "code",
   "execution_count": 22,
   "id": "96a4d378",
   "metadata": {
    "execution": {
     "iopub.execute_input": "2024-07-16T11:05:41.505379Z",
     "iopub.status.busy": "2024-07-16T11:05:41.504968Z",
     "iopub.status.idle": "2024-07-16T11:05:41.518666Z",
     "shell.execute_reply": "2024-07-16T11:05:41.517193Z"
    },
    "id": "Thp9NuBp1eak",
    "outputId": "db646553-df33-4ef9-efb0-606933f749c6",
    "papermill": {
     "duration": 0.033323,
     "end_time": "2024-07-16T11:05:41.521290",
     "exception": false,
     "start_time": "2024-07-16T11:05:41.487967",
     "status": "completed"
    },
    "tags": []
   },
   "outputs": [
    {
     "data": {
      "text/html": [
       "<div>\n",
       "<style scoped>\n",
       "    .dataframe tbody tr th:only-of-type {\n",
       "        vertical-align: middle;\n",
       "    }\n",
       "\n",
       "    .dataframe tbody tr th {\n",
       "        vertical-align: top;\n",
       "    }\n",
       "\n",
       "    .dataframe thead th {\n",
       "        text-align: right;\n",
       "    }\n",
       "</style>\n",
       "<table border=\"1\" class=\"dataframe\">\n",
       "  <thead>\n",
       "    <tr style=\"text-align: right;\">\n",
       "      <th></th>\n",
       "      <th>account_encoded</th>\n",
       "      <th>IP_encoded</th>\n",
       "      <th>url_encoded</th>\n",
       "      <th>hour</th>\n",
       "      <th>day_of_week</th>\n",
       "      <th>month</th>\n",
       "    </tr>\n",
       "    <tr>\n",
       "      <th>time</th>\n",
       "      <th></th>\n",
       "      <th></th>\n",
       "      <th></th>\n",
       "      <th></th>\n",
       "      <th></th>\n",
       "      <th></th>\n",
       "    </tr>\n",
       "  </thead>\n",
       "  <tbody>\n",
       "    <tr>\n",
       "      <th>2021-06-26 02:37:00</th>\n",
       "      <td>2</td>\n",
       "      <td>5</td>\n",
       "      <td>177</td>\n",
       "      <td>2</td>\n",
       "      <td>5</td>\n",
       "      <td>6</td>\n",
       "    </tr>\n",
       "    <tr>\n",
       "      <th>2021-06-26 02:38:00</th>\n",
       "      <td>2</td>\n",
       "      <td>5</td>\n",
       "      <td>175</td>\n",
       "      <td>2</td>\n",
       "      <td>5</td>\n",
       "      <td>6</td>\n",
       "    </tr>\n",
       "    <tr>\n",
       "      <th>2021-06-26 02:38:00</th>\n",
       "      <td>2</td>\n",
       "      <td>5</td>\n",
       "      <td>189</td>\n",
       "      <td>2</td>\n",
       "      <td>5</td>\n",
       "      <td>6</td>\n",
       "    </tr>\n",
       "    <tr>\n",
       "      <th>2021-06-26 02:38:00</th>\n",
       "      <td>2</td>\n",
       "      <td>5</td>\n",
       "      <td>177</td>\n",
       "      <td>2</td>\n",
       "      <td>5</td>\n",
       "      <td>6</td>\n",
       "    </tr>\n",
       "  </tbody>\n",
       "</table>\n",
       "</div>"
      ],
      "text/plain": [
       "                     account_encoded  IP_encoded  url_encoded  hour  \\\n",
       "time                                                                  \n",
       "2021-06-26 02:37:00                2           5          177     2   \n",
       "2021-06-26 02:38:00                2           5          175     2   \n",
       "2021-06-26 02:38:00                2           5          189     2   \n",
       "2021-06-26 02:38:00                2           5          177     2   \n",
       "\n",
       "                     day_of_week  month  \n",
       "time                                     \n",
       "2021-06-26 02:37:00            5      6  \n",
       "2021-06-26 02:38:00            5      6  \n",
       "2021-06-26 02:38:00            5      6  \n",
       "2021-06-26 02:38:00            5      6  "
      ]
     },
     "execution_count": 22,
     "metadata": {},
     "output_type": "execute_result"
    }
   ],
   "source": [
    "sample_df.head(4)"
   ]
  },
  {
   "cell_type": "markdown",
   "id": "cf695ae2",
   "metadata": {
    "id": "aWZF1lyrIjsK",
    "papermill": {
     "duration": 0.016081,
     "end_time": "2024-07-16T11:05:41.553338",
     "exception": false,
     "start_time": "2024-07-16T11:05:41.537257",
     "status": "completed"
    },
    "tags": []
   },
   "source": [
    "**4. Preprocess (Normalize) the Data**"
   ]
  },
  {
   "cell_type": "code",
   "execution_count": 23,
   "id": "26a52f5b",
   "metadata": {
    "execution": {
     "iopub.execute_input": "2024-07-16T11:05:41.586771Z",
     "iopub.status.busy": "2024-07-16T11:05:41.586358Z",
     "iopub.status.idle": "2024-07-16T11:05:41.596817Z",
     "shell.execute_reply": "2024-07-16T11:05:41.595784Z"
    },
    "id": "3nxpzSewIbJo",
    "papermill": {
     "duration": 0.029763,
     "end_time": "2024-07-16T11:05:41.599058",
     "exception": false,
     "start_time": "2024-07-16T11:05:41.569295",
     "status": "completed"
    },
    "tags": []
   },
   "outputs": [],
   "source": [
    "from sklearn.preprocessing import StandardScaler\n",
    "\n",
    "# Normalize data\n",
    "scaler = StandardScaler()\n",
    "scaled_data = scaler.fit_transform(sample_df)\n"
   ]
  },
  {
   "cell_type": "markdown",
   "id": "17bf6c45",
   "metadata": {
    "id": "EBOhg_v9YApJ",
    "papermill": {
     "duration": 0.015268,
     "end_time": "2024-07-16T11:05:41.629998",
     "exception": false,
     "start_time": "2024-07-16T11:05:41.614730",
     "status": "completed"
    },
    "tags": []
   },
   "source": [
    "**DBSCAN algorithm**"
   ]
  },
  {
   "cell_type": "code",
   "execution_count": 24,
   "id": "ff4f21cd",
   "metadata": {
    "execution": {
     "iopub.execute_input": "2024-07-16T11:05:41.724107Z",
     "iopub.status.busy": "2024-07-16T11:05:41.723669Z",
     "iopub.status.idle": "2024-07-16T11:05:42.180705Z",
     "shell.execute_reply": "2024-07-16T11:05:42.179440Z"
    },
    "id": "_cMzjUKVX_rA",
    "papermill": {
     "duration": 0.477126,
     "end_time": "2024-07-16T11:05:42.183639",
     "exception": false,
     "start_time": "2024-07-16T11:05:41.706513",
     "status": "completed"
    },
    "tags": []
   },
   "outputs": [],
   "source": [
    "from sklearn.cluster import DBSCAN\n",
    "\n",
    "# Apply DBSCAN\n",
    "epsilon = 0.5\n",
    "min_samples = 5\n",
    "dbscan = DBSCAN(eps=epsilon, min_samples=min_samples)\n",
    "clusters = dbscan.fit_predict(scaled_data)"
   ]
  },
  {
   "cell_type": "code",
   "execution_count": 25,
   "id": "8c41697c",
   "metadata": {
    "execution": {
     "iopub.execute_input": "2024-07-16T11:05:42.217951Z",
     "iopub.status.busy": "2024-07-16T11:05:42.217090Z",
     "iopub.status.idle": "2024-07-16T11:05:42.227224Z",
     "shell.execute_reply": "2024-07-16T11:05:42.226100Z"
    },
    "papermill": {
     "duration": 0.029702,
     "end_time": "2024-07-16T11:05:42.229762",
     "exception": false,
     "start_time": "2024-07-16T11:05:42.200060",
     "status": "completed"
    },
    "tags": []
   },
   "outputs": [
    {
     "data": {
      "text/plain": [
       "array([ 0,  0,  0,  0,  0,  0,  0,  0,  0,  1,  1,  0,  0,  1,  0,  0,  0,\n",
       "        0,  0,  0,  0,  0,  1,  0,  1,  0,  0,  0,  0,  1,  0,  0,  0,  0,\n",
       "        0,  0,  1,  1,  0,  0,  2,  0,  0,  0,  0,  0,  0,  1,  0,  1,  0,\n",
       "        0,  0,  1,  0,  2,  0,  0,  0,  0,  0,  0,  0,  0,  1,  1,  1,  0,\n",
       "        1,  0,  0,  1,  1,  2,  0,  0,  0,  1,  0,  0,  0,  0,  0,  0,  0,\n",
       "        0,  0,  0,  1,  0,  0,  0,  0,  1,  0,  1,  0, -1, -1, -1, -1, -1,\n",
       "       -1, -1, -1, -1, -1, -1, -1, -1, -1, -1, -1, -1, -1, -1, -1, -1, -1,\n",
       "       -1, -1, -1, -1, -1, -1, -1, -1, -1, -1, -1, -1, -1, -1, -1, -1, -1,\n",
       "       -1, -1, -1, -1, -1, -1, -1, -1, -1, -1, -1, -1, -1, -1,  5, -1, -1,\n",
       "       -1, -1, -1, -1, -1, -1, -1, -1,  3, -1,  3, -1, -1,  4, -1, -1,  3,\n",
       "        3, -1, -1,  3,  4,  3, -1,  3,  3,  3, -1, -1, -1,  3, -1,  3,  4,\n",
       "        3, -1,  3, -1, -1, -1,  3,  3, -1, -1,  4, -1, -1, -1, -1,  3,  3,\n",
       "       -1, -1,  4, -1, -1,  3, -1, -1, -1, -1, -1, -1, -1, -1, -1,  1,  0,\n",
       "        0,  0,  0,  1,  0,  1,  0,  0,  1,  0,  0,  1,  0,  0,  0,  0,  0,\n",
       "        0,  0,  1,  0,  0,  0,  0,  2,  0,  0,  1,  0,  0,  0,  0,  2,  0,\n",
       "        0,  0,  2,  0,  0,  1,  0,  1,  0,  0,  0,  0,  0,  0,  1,  0,  0,\n",
       "        0,  0,  0,  1,  0,  0,  0,  0,  0,  2,  2,  0,  0,  0,  0,  0,  1,\n",
       "        2,  0,  1,  1,  0,  0, -1, -1, -1, -1, -1, -1, -1, -1, -1, -1, -1,\n",
       "       -1, -1, -1, -1, -1, -1, -1, -1, -1, -1, -1, -1, -1, -1, -1, -1, -1,\n",
       "       -1, -1, -1, -1, -1, -1, -1, -1, -1, -1, -1, -1, -1, -1, -1, -1, -1,\n",
       "        5, -1, -1, -1, -1, -1, -1, -1, -1, -1, -1,  5, -1, -1, -1, -1, -1,\n",
       "       -1, -1, -1, -1,  3, -1,  5,  5, -1, -1, -1, -1, -1, -1, -1, -1, -1,\n",
       "       -1, -1, -1,  3,  3, -1,  3,  3, -1,  4, -1,  6,  3, -1, -1,  3, -1,\n",
       "       -1, -1,  3, -1, -1, -1, -1,  3, -1,  3, -1,  3,  3,  3, -1, -1,  3,\n",
       "       -1,  6,  6,  3, -1,  6,  3,  3,  3,  4,  3,  3,  3, -1,  3,  6,  3,\n",
       "       -1,  3,  6, -1, -1,  3,  3, -1, -1, -1, -1, -1, -1, -1, -1, -1, -1,\n",
       "       -1, -1, -1, -1,  7,  8,  7,  7,  8,  8,  7,  8,  8,  8,  7,  8,  8,\n",
       "        8,  7,  8,  8,  8,  8,  7,  7,  8, -1,  8,  8,  8,  8,  8,  7,  8,\n",
       "        8,  7,  8,  7,  8,  8,  8,  8,  8,  8,  8,  8,  8,  8,  8,  8,  8,\n",
       "        8,  8,  8,  8,  8,  8,  8,  8,  8,  8,  8,  7,  7,  8,  7,  8,  8,\n",
       "        7,  7,  8,  8,  8, -1,  8,  8,  8,  8,  8,  7, -1,  7,  8,  7,  8,\n",
       "       -1,  8,  8, -1,  7,  8,  8,  8,  8,  7,  8,  7,  8,  8,  8,  8,  8,\n",
       "        8,  7,  8,  7, -1, -1, -1, -1, -1, -1, -1, -1, -1, -1, -1, -1, -1,\n",
       "       -1, -1, -1, -1, -1, -1, -1, -1, -1, -1, -1, -1, -1, -1, 10, -1, -1,\n",
       "       -1, -1, -1, -1, -1,  9, -1, -1, -1, -1, -1, -1, -1, -1, -1,  9,  9,\n",
       "       -1,  9, 10, -1, 10,  9, -1, -1, 10, -1, -1, 10, 10, 11, -1, -1, -1,\n",
       "       10, -1, -1, -1, -1, 11, 12, 12, 11, 12, -1, -1, -1, 12, 11, -1, 11,\n",
       "       13, -1, -1, 11, 13, 13, 13, -1, 11, 11, -1, -1, 13, 12, 11, 13, 13,\n",
       "       11, 11, -1, -1, 13, 13, 11, -1, -1, -1, 13, 11, 13, 13, 13, 11, -1,\n",
       "       -1, -1, -1, -1, -1, -1, -1, -1, -1, -1, -1, -1, -1, -1, -1, -1, -1,\n",
       "       -1, -1, -1])"
      ]
     },
     "execution_count": 25,
     "metadata": {},
     "output_type": "execute_result"
    }
   ],
   "source": [
    "clusters"
   ]
  },
  {
   "cell_type": "code",
   "execution_count": 26,
   "id": "74e01c8c",
   "metadata": {
    "execution": {
     "iopub.execute_input": "2024-07-16T11:05:42.263701Z",
     "iopub.status.busy": "2024-07-16T11:05:42.263293Z",
     "iopub.status.idle": "2024-07-16T11:05:42.272290Z",
     "shell.execute_reply": "2024-07-16T11:05:42.271169Z"
    },
    "papermill": {
     "duration": 0.028574,
     "end_time": "2024-07-16T11:05:42.274577",
     "exception": false,
     "start_time": "2024-07-16T11:05:42.246003",
     "status": "completed"
    },
    "tags": []
   },
   "outputs": [
    {
     "data": {
      "text/plain": [
       "(array([ 97,  98,  99, 100, 101, 102, 103, 104, 105, 106, 107, 108, 109,\n",
       "        110, 111, 112, 113, 114, 115, 116, 117, 118, 119, 120, 121, 122,\n",
       "        123, 124, 125, 126, 127, 128, 129, 130, 131, 132, 133, 134, 135,\n",
       "        136, 137, 138, 139, 140, 141, 142, 143, 144, 145, 146, 147, 148,\n",
       "        149, 151, 152, 153, 154, 155, 156, 157, 158, 159, 160, 162, 164,\n",
       "        165, 167, 168, 171, 172, 176, 180, 181, 182, 184, 188, 190, 191,\n",
       "        192, 195, 196, 198, 199, 200, 201, 204, 205, 207, 208, 210, 211,\n",
       "        212, 213, 214, 215, 216, 217, 218, 295, 296, 297, 298, 299, 300,\n",
       "        301, 302, 303, 304, 305, 306, 307, 308, 309, 310, 311, 312, 313,\n",
       "        314, 315, 316, 317, 318, 319, 320, 321, 322, 323, 324, 325, 326,\n",
       "        327, 328, 329, 330, 331, 332, 333, 334, 335, 336, 337, 338, 339,\n",
       "        341, 342, 343, 344, 345, 346, 347, 348, 349, 350, 352, 353, 354,\n",
       "        355, 356, 357, 358, 359, 360, 362, 365, 366, 367, 368, 369, 370,\n",
       "        371, 372, 373, 374, 375, 376, 379, 382, 384, 387, 388, 390, 391,\n",
       "        392, 394, 395, 396, 397, 399, 401, 405, 406, 408, 412, 421, 425,\n",
       "        428, 429, 432, 433, 434, 435, 436, 437, 438, 439, 440, 441, 442,\n",
       "        443, 444, 445, 468, 515, 522, 527, 530, 548, 549, 550, 551, 552,\n",
       "        553, 554, 555, 556, 557, 558, 559, 560, 561, 562, 563, 564, 565,\n",
       "        566, 567, 568, 569, 570, 571, 572, 573, 574, 576, 577, 578, 579,\n",
       "        580, 581, 582, 584, 585, 586, 587, 588, 589, 590, 591, 592, 595,\n",
       "        598, 601, 602, 604, 605, 609, 610, 611, 613, 614, 615, 616, 622,\n",
       "        623, 624, 627, 630, 631, 636, 639, 640, 648, 649, 653, 654, 655,\n",
       "        662, 663, 664, 665, 666, 667, 668, 669, 670, 671, 672, 673, 674,\n",
       "        675, 676, 677, 678, 679, 680, 681, 682]),)"
      ]
     },
     "execution_count": 26,
     "metadata": {},
     "output_type": "execute_result"
    }
   ],
   "source": [
    "index = np.where(clusters<0)\n",
    "index"
   ]
  },
  {
   "cell_type": "markdown",
   "id": "003d8e1a",
   "metadata": {
    "id": "islo4-NEYNAd",
    "papermill": {
     "duration": 0.015861,
     "end_time": "2024-07-16T11:05:42.306660",
     "exception": false,
     "start_time": "2024-07-16T11:05:42.290799",
     "status": "completed"
    },
    "tags": []
   },
   "source": [
    "#### Identify the core and the outliers\n"
   ]
  },
  {
   "cell_type": "code",
   "execution_count": 27,
   "id": "b5dd5df7",
   "metadata": {
    "execution": {
     "iopub.execute_input": "2024-07-16T11:05:42.340672Z",
     "iopub.status.busy": "2024-07-16T11:05:42.340227Z",
     "iopub.status.idle": "2024-07-16T11:05:42.346415Z",
     "shell.execute_reply": "2024-07-16T11:05:42.345249Z"
    },
    "id": "XC1qQJ5xYRoQ",
    "papermill": {
     "duration": 0.026288,
     "end_time": "2024-07-16T11:05:42.348976",
     "exception": false,
     "start_time": "2024-07-16T11:05:42.322688",
     "status": "completed"
    },
    "tags": []
   },
   "outputs": [],
   "source": [
    "# Identify the core and the outliers\n",
    "import numpy as np\n",
    "\n",
    "core_samples = np.zeros_like(dbscan.labels_, dtype=bool)\n",
    "core_samples[dbscan.core_sample_indices_] = True\n",
    "labels = dbscan.labels_"
   ]
  },
  {
   "cell_type": "code",
   "execution_count": 28,
   "id": "5a3d099e",
   "metadata": {
    "execution": {
     "iopub.execute_input": "2024-07-16T11:05:42.383623Z",
     "iopub.status.busy": "2024-07-16T11:05:42.383204Z",
     "iopub.status.idle": "2024-07-16T11:05:42.393172Z",
     "shell.execute_reply": "2024-07-16T11:05:42.391876Z"
    },
    "papermill": {
     "duration": 0.031004,
     "end_time": "2024-07-16T11:05:42.396269",
     "exception": false,
     "start_time": "2024-07-16T11:05:42.365265",
     "status": "completed"
    },
    "tags": []
   },
   "outputs": [
    {
     "data": {
      "text/plain": [
       "array([ 0,  0,  0,  0,  0,  0,  0,  0,  0,  1,  1,  0,  0,  1,  0,  0,  0,\n",
       "        0,  0,  0,  0,  0,  1,  0,  1,  0,  0,  0,  0,  1,  0,  0,  0,  0,\n",
       "        0,  0,  1,  1,  0,  0,  2,  0,  0,  0,  0,  0,  0,  1,  0,  1,  0,\n",
       "        0,  0,  1,  0,  2,  0,  0,  0,  0,  0,  0,  0,  0,  1,  1,  1,  0,\n",
       "        1,  0,  0,  1,  1,  2,  0,  0,  0,  1,  0,  0,  0,  0,  0,  0,  0,\n",
       "        0,  0,  0,  1,  0,  0,  0,  0,  1,  0,  1,  0, -1, -1, -1, -1, -1,\n",
       "       -1, -1, -1, -1, -1, -1, -1, -1, -1, -1, -1, -1, -1, -1, -1, -1, -1,\n",
       "       -1, -1, -1, -1, -1, -1, -1, -1, -1, -1, -1, -1, -1, -1, -1, -1, -1,\n",
       "       -1, -1, -1, -1, -1, -1, -1, -1, -1, -1, -1, -1, -1, -1,  5, -1, -1,\n",
       "       -1, -1, -1, -1, -1, -1, -1, -1,  3, -1,  3, -1, -1,  4, -1, -1,  3,\n",
       "        3, -1, -1,  3,  4,  3, -1,  3,  3,  3, -1, -1, -1,  3, -1,  3,  4,\n",
       "        3, -1,  3, -1, -1, -1,  3,  3, -1, -1,  4, -1, -1, -1, -1,  3,  3,\n",
       "       -1, -1,  4, -1, -1,  3, -1, -1, -1, -1, -1, -1, -1, -1, -1,  1,  0,\n",
       "        0,  0,  0,  1,  0,  1,  0,  0,  1,  0,  0,  1,  0,  0,  0,  0,  0,\n",
       "        0,  0,  1,  0,  0,  0,  0,  2,  0,  0,  1,  0,  0,  0,  0,  2,  0,\n",
       "        0,  0,  2,  0,  0,  1,  0,  1,  0,  0,  0,  0,  0,  0,  1,  0,  0,\n",
       "        0,  0,  0,  1,  0,  0,  0,  0,  0,  2,  2,  0,  0,  0,  0,  0,  1,\n",
       "        2,  0,  1,  1,  0,  0, -1, -1, -1, -1, -1, -1, -1, -1, -1, -1, -1,\n",
       "       -1, -1, -1, -1, -1, -1, -1, -1, -1, -1, -1, -1, -1, -1, -1, -1, -1,\n",
       "       -1, -1, -1, -1, -1, -1, -1, -1, -1, -1, -1, -1, -1, -1, -1, -1, -1,\n",
       "        5, -1, -1, -1, -1, -1, -1, -1, -1, -1, -1,  5, -1, -1, -1, -1, -1,\n",
       "       -1, -1, -1, -1,  3, -1,  5,  5, -1, -1, -1, -1, -1, -1, -1, -1, -1,\n",
       "       -1, -1, -1,  3,  3, -1,  3,  3, -1,  4, -1,  6,  3, -1, -1,  3, -1,\n",
       "       -1, -1,  3, -1, -1, -1, -1,  3, -1,  3, -1,  3,  3,  3, -1, -1,  3,\n",
       "       -1,  6,  6,  3, -1,  6,  3,  3,  3,  4,  3,  3,  3, -1,  3,  6,  3,\n",
       "       -1,  3,  6, -1, -1,  3,  3, -1, -1, -1, -1, -1, -1, -1, -1, -1, -1,\n",
       "       -1, -1, -1, -1,  7,  8,  7,  7,  8,  8,  7,  8,  8,  8,  7,  8,  8,\n",
       "        8,  7,  8,  8,  8,  8,  7,  7,  8, -1,  8,  8,  8,  8,  8,  7,  8,\n",
       "        8,  7,  8,  7,  8,  8,  8,  8,  8,  8,  8,  8,  8,  8,  8,  8,  8,\n",
       "        8,  8,  8,  8,  8,  8,  8,  8,  8,  8,  8,  7,  7,  8,  7,  8,  8,\n",
       "        7,  7,  8,  8,  8, -1,  8,  8,  8,  8,  8,  7, -1,  7,  8,  7,  8,\n",
       "       -1,  8,  8, -1,  7,  8,  8,  8,  8,  7,  8,  7,  8,  8,  8,  8,  8,\n",
       "        8,  7,  8,  7, -1, -1, -1, -1, -1, -1, -1, -1, -1, -1, -1, -1, -1,\n",
       "       -1, -1, -1, -1, -1, -1, -1, -1, -1, -1, -1, -1, -1, -1, 10, -1, -1,\n",
       "       -1, -1, -1, -1, -1,  9, -1, -1, -1, -1, -1, -1, -1, -1, -1,  9,  9,\n",
       "       -1,  9, 10, -1, 10,  9, -1, -1, 10, -1, -1, 10, 10, 11, -1, -1, -1,\n",
       "       10, -1, -1, -1, -1, 11, 12, 12, 11, 12, -1, -1, -1, 12, 11, -1, 11,\n",
       "       13, -1, -1, 11, 13, 13, 13, -1, 11, 11, -1, -1, 13, 12, 11, 13, 13,\n",
       "       11, 11, -1, -1, 13, 13, 11, -1, -1, -1, 13, 11, 13, 13, 13, 11, -1,\n",
       "       -1, -1, -1, -1, -1, -1, -1, -1, -1, -1, -1, -1, -1, -1, -1, -1, -1,\n",
       "       -1, -1, -1])"
      ]
     },
     "execution_count": 28,
     "metadata": {},
     "output_type": "execute_result"
    }
   ],
   "source": [
    "labels"
   ]
  },
  {
   "cell_type": "code",
   "execution_count": 29,
   "id": "370fd4d3",
   "metadata": {
    "execution": {
     "iopub.execute_input": "2024-07-16T11:05:42.431232Z",
     "iopub.status.busy": "2024-07-16T11:05:42.430800Z",
     "iopub.status.idle": "2024-07-16T11:05:42.438475Z",
     "shell.execute_reply": "2024-07-16T11:05:42.437396Z"
    },
    "id": "OpDl3uA0YVdc",
    "outputId": "802675e9-5648-448c-c973-9db7c6efaee0",
    "papermill": {
     "duration": 0.028363,
     "end_time": "2024-07-16T11:05:42.441217",
     "exception": false,
     "start_time": "2024-07-16T11:05:42.412854",
     "status": "completed"
    },
    "tags": []
   },
   "outputs": [
    {
     "name": "stdout",
     "output_type": "stream",
     "text": [
      "Estimated number of clusters: 14\n",
      "Estimated number of noise points: 307\n"
     ]
    }
   ],
   "source": [
    "# Check the number of clusters after DBSCAN algorithm (ignoring noise if present)\n",
    "\n",
    "n_clusters_ = len(set(clusters)) - (1 if -1 in clusters else 0)\n",
    "n_noise_ = list(clusters).count(-1)\n",
    "\n",
    "print(f'Estimated number of clusters: {n_clusters_}')\n",
    "print(f'Estimated number of noise points: {n_noise_}')\n"
   ]
  },
  {
   "cell_type": "code",
   "execution_count": 30,
   "id": "e11ab895",
   "metadata": {
    "execution": {
     "iopub.execute_input": "2024-07-16T11:05:42.476215Z",
     "iopub.status.busy": "2024-07-16T11:05:42.475789Z",
     "iopub.status.idle": "2024-07-16T11:05:42.859832Z",
     "shell.execute_reply": "2024-07-16T11:05:42.858665Z"
    },
    "id": "m3bKOWJsIn8r",
    "papermill": {
     "duration": 0.404745,
     "end_time": "2024-07-16T11:05:42.862666",
     "exception": false,
     "start_time": "2024-07-16T11:05:42.457921",
     "status": "completed"
    },
    "tags": []
   },
   "outputs": [],
   "source": [
    "from sklearn.ensemble import IsolationForest\n",
    "\n",
    "# Apply Isolation Forest\n",
    "iso_forest = IsolationForest(contamination='auto', random_state=42)\n",
    "iso_labels = iso_forest.fit_predict(scaled_data)\n"
   ]
  },
  {
   "cell_type": "code",
   "execution_count": 31,
   "id": "02309394",
   "metadata": {
    "execution": {
     "iopub.execute_input": "2024-07-16T11:05:42.897239Z",
     "iopub.status.busy": "2024-07-16T11:05:42.896849Z",
     "iopub.status.idle": "2024-07-16T11:05:42.904564Z",
     "shell.execute_reply": "2024-07-16T11:05:42.903332Z"
    },
    "papermill": {
     "duration": 0.028022,
     "end_time": "2024-07-16T11:05:42.907103",
     "exception": false,
     "start_time": "2024-07-16T11:05:42.879081",
     "status": "completed"
    },
    "tags": []
   },
   "outputs": [
    {
     "name": "stdout",
     "output_type": "stream",
     "text": [
      "Estimated number of clusters: 1\n",
      "Estimated number of noise points: 376\n"
     ]
    }
   ],
   "source": [
    "# Check the number of outliers after applying IForest algorithm (ignoring noise if present)\n",
    "\n",
    "n_clusters_ = len(set(iso_labels)) - (1 if -1 in iso_labels else 0)\n",
    "n_noise_ = list(iso_labels).count(-1)\n",
    "\n",
    "print(f'Estimated number of clusters: {n_clusters_}')\n",
    "print(f'Estimated number of noise points: {n_noise_}')\n"
   ]
  },
  {
   "cell_type": "markdown",
   "id": "b5ae4125",
   "metadata": {
    "id": "0nolZKSBJg0V",
    "papermill": {
     "duration": 0.01623,
     "end_time": "2024-07-16T11:05:42.939682",
     "exception": false,
     "start_time": "2024-07-16T11:05:42.923452",
     "status": "completed"
    },
    "tags": []
   },
   "source": [
    "**7. Evaluate and Visualize Results**"
   ]
  },
  {
   "cell_type": "code",
   "execution_count": 32,
   "id": "0b66a45a",
   "metadata": {
    "execution": {
     "iopub.execute_input": "2024-07-16T11:05:42.974459Z",
     "iopub.status.busy": "2024-07-16T11:05:42.973752Z",
     "iopub.status.idle": "2024-07-16T11:05:43.718077Z",
     "shell.execute_reply": "2024-07-16T11:05:43.716880Z"
    },
    "papermill": {
     "duration": 0.765912,
     "end_time": "2024-07-16T11:05:43.721953",
     "exception": false,
     "start_time": "2024-07-16T11:05:42.956041",
     "status": "completed"
    },
    "tags": []
   },
   "outputs": [
    {
     "data": {
      "image/png": "[encoded data removed]",
      "text/plain": [
       "<Figure size 1200x800 with 2 Axes>"
      ]
     },
     "metadata": {},
     "output_type": "display_data"
    }
   ],
   "source": [
    "import matplotlib.pyplot as plt\n",
    "\n",
    "# Create a figure with a specified size\n",
    "plt.figure(figsize=(12, 8))\n",
    "\n",
    "# Plot DBSCAN labels\n",
    "plt.subplot(2, 1, 1)\n",
    "plt.plot(sample_df.index, clusters, marker='o', linestyle='-', color='b', markersize=5)\n",
    "plt.title('DBSCAN Anomaly Detection', fontsize=16)\n",
    "plt.xlabel('Index', fontsize=14)\n",
    "plt.ylabel('Cluster Label', fontsize=14)\n",
    "plt.grid(True)\n",
    "plt.xticks(fontsize=12)\n",
    "plt.yticks(fontsize=12)\n",
    "\n",
    "# Plot Isolation Forest labels\n",
    "plt.subplot(2, 1, 2)\n",
    "plt.plot(sample_df.index, iso_labels, marker='o', linestyle='-', color='g', markersize=5)\n",
    "plt.title('Isolation Forest Anomaly Detection', fontsize=16)\n",
    "plt.xlabel('Index', fontsize=14)\n",
    "plt.ylabel('Anomaly Label', fontsize=14)\n",
    "plt.grid(True)\n",
    "plt.xticks(fontsize=12)\n",
    "plt.yticks(fontsize=12)\n",
    "\n",
    "# Adjust layout to prevent overlap\n",
    "plt.tight_layout()\n",
    "\n",
    "# Display the plots\n",
    "plt.show()\n"
   ]
  },
  {
   "cell_type": "code",
   "execution_count": 33,
   "id": "08a1544b",
   "metadata": {
    "execution": {
     "iopub.execute_input": "2024-07-16T11:05:43.761496Z",
     "iopub.status.busy": "2024-07-16T11:05:43.761085Z",
     "iopub.status.idle": "2024-07-16T11:05:43.789980Z",
     "shell.execute_reply": "2024-07-16T11:05:43.788664Z"
    },
    "id": "wdI3fuYhb6Y7",
    "outputId": "93114fd9-0096-4341-ec62-db2012659569",
    "papermill": {
     "duration": 0.052297,
     "end_time": "2024-07-16T11:05:43.793412",
     "exception": false,
     "start_time": "2024-07-16T11:05:43.741115",
     "status": "completed"
    },
    "tags": []
   },
   "outputs": [
    {
     "name": "stdout",
     "output_type": "stream",
     "text": [
      "Silhouette Coefficient: 0.19042737220597714\n"
     ]
    }
   ],
   "source": [
    "from sklearn.metrics import silhouette_score\n",
    "\n",
    "# Calculate Silhouette Coefficient\n",
    "silhouette_avg = silhouette_score(scaled_data, clusters)\n",
    "print(f\"Silhouette Coefficient: {silhouette_avg}\")"
   ]
  },
  {
   "cell_type": "code",
   "execution_count": 34,
   "id": "6f8bc207",
   "metadata": {
    "execution": {
     "iopub.execute_input": "2024-07-16T11:05:43.872429Z",
     "iopub.status.busy": "2024-07-16T11:05:43.871780Z",
     "iopub.status.idle": "2024-07-16T11:05:43.901999Z",
     "shell.execute_reply": "2024-07-16T11:05:43.900849Z"
    },
    "id": "Bu5IDG6QzehI",
    "outputId": "51e3db6f-ff60-4569-95aa-6aec6d2058fc",
    "papermill": {
     "duration": 0.074504,
     "end_time": "2024-07-16T11:05:43.906458",
     "exception": false,
     "start_time": "2024-07-16T11:05:43.831954",
     "status": "completed"
    },
    "tags": []
   },
   "outputs": [
    {
     "name": "stdout",
     "output_type": "stream",
     "text": [
      "Silhouette Coefficient: 0.19733065779086387\n"
     ]
    }
   ],
   "source": [
    "from sklearn.metrics import silhouette_score\n",
    "\n",
    "# Calculate Silhouette Coefficient\n",
    "silhouette_isolation_f = silhouette_score(scaled_data, iso_labels)\n",
    "print(f\"Silhouette Coefficient: {silhouette_isolation_f}\")"
   ]
  },
  {
   "cell_type": "code",
   "execution_count": 35,
   "id": "585866c8",
   "metadata": {
    "execution": {
     "iopub.execute_input": "2024-07-16T11:05:43.986886Z",
     "iopub.status.busy": "2024-07-16T11:05:43.986166Z",
     "iopub.status.idle": "2024-07-16T11:05:44.981827Z",
     "shell.execute_reply": "2024-07-16T11:05:44.980575Z"
    },
    "papermill": {
     "duration": 1.039948,
     "end_time": "2024-07-16T11:05:44.985471",
     "exception": false,
     "start_time": "2024-07-16T11:05:43.945523",
     "status": "completed"
    },
    "tags": []
   },
   "outputs": [
    {
     "data": {
      "image/png": "[encoded data removed]",
      "text/plain": [
       "<Figure size 1200x1000 with 2 Axes>"
      ]
     },
     "metadata": {},
     "output_type": "display_data"
    }
   ],
   "source": [
    "import matplotlib.pyplot as plt\n",
    "\n",
    "# Create a figure with subplots and a specified size\n",
    "fig, (ax1, ax2) = plt.subplots(2, 1, figsize=(12, 10), sharex=True)\n",
    "\n",
    "# Plot DBSCAN labels\n",
    "ax1.plot(sample_df.index, clusters, marker='o', linestyle='-', color='b', markersize=5, label='DBSCAN Clusters')\n",
    "ax1.set_title('DBSCAN Anomaly Detection', fontsize=16)\n",
    "ax1.set_ylabel('Cluster Label', fontsize=14)\n",
    "ax1.grid(True)\n",
    "ax1.legend(fontsize=12)\n",
    "ax1.tick_params(axis='both', which='major', labelsize=12)\n",
    "\n",
    "# Plot Isolation Forest labels\n",
    "ax2.plot(sample_df.index, iso_labels, marker='o', linestyle='-', color='g', markersize=5, label='Isolation Forest Anomalies')\n",
    "ax2.set_title('Isolation Forest Anomaly Detection', fontsize=16)\n",
    "ax2.set_xlabel('Time', fontsize=14)\n",
    "ax2.set_ylabel('Anomaly Label', fontsize=14)\n",
    "ax2.grid(True)\n",
    "ax2.legend(fontsize=12)\n",
    "ax2.tick_params(axis='both', which='major', labelsize=12)\n",
    "\n",
    "# Adjust layout to prevent overlap\n",
    "plt.tight_layout()\n",
    "\n",
    "# Display the plots\n",
    "plt.show()\n"
   ]
  },
  {
   "cell_type": "code",
   "execution_count": null,
   "id": "b6b04ded",
   "metadata": {
    "papermill": {
     "duration": 0.020447,
     "end_time": "2024-07-16T11:05:45.026501",
     "exception": false,
     "start_time": "2024-07-16T11:05:45.006054",
     "status": "completed"
    },
    "tags": []
   },
   "outputs": [],
   "source": []
  }
 ],
 "metadata": {
  "colab": {
   "provenance": [],
   "toc_visible": true
  },
  "kaggle": {
   "accelerator": "none",
   "dataSources": [
    {
     "datasetId": 5391588,
     "sourceId": 8958193,
     "sourceType": "datasetVersion"
    }
   ],
   "dockerImageVersionId": 30746,
   "isGpuEnabled": false,
   "isInternetEnabled": false,
   "language": "python",
   "sourceType": "notebook"
  },
  "kernelspec": {
   "display_name": "Python 3",
   "language": "python",
   "name": "python3"
  },
  "language_info": {
   "codemirror_mode": {
    "name": "ipython",
    "version": 3
   },
   "file_extension": ".py",
   "mimetype": "text/x-python",
   "name": "python",
   "nbconvert_exporter": "python",
   "pygments_lexer": "ipython3",
   "version": "3.10.13"
  },
  "papermill": {
   "default_parameters": {},
   "duration": 14.228823,
   "end_time": "2024-07-16T11:05:45.768981",
   "environment_variables": {},
   "exception": null,
   "input_path": "__notebook__.ipynb",
   "output_path": "__notebook__.ipynb",
   "parameters": {},
   "start_time": "2024-07-16T11:05:31.540158",
   "version": "2.5.0"
  }
 },
 "nbformat": 4,
 "nbformat_minor": 5
}
