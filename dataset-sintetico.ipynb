{
 "cells": [
  {
   "cell_type": "code",
   "execution_count": 1,
   "id": "cf94a22c",
   "metadata": {
    "execution": {
     "iopub.execute_input": "2024-08-01T08:49:55.706565Z",
     "iopub.status.busy": "2024-08-01T08:49:55.706098Z",
     "iopub.status.idle": "2024-08-01T08:49:56.714605Z",
     "shell.execute_reply": "2024-08-01T08:49:56.713571Z"
    },
    "papermill": {
     "duration": 1.025909,
     "end_time": "2024-08-01T08:49:56.717456",
     "exception": false,
     "start_time": "2024-08-01T08:49:55.691547",
     "status": "completed"
    },
    "tags": []
   },
   "outputs": [
    {
     "name": "stdout",
     "output_type": "stream",
     "text": [
      "/kaggle/input/anomaly-detection-sintetico-dataset/final_dataset.csv\n",
      "/kaggle/input/final-dataset/final_dataset.csv\n"
     ]
    }
   ],
   "source": [
    "import numpy as np # linear algebra\n",
    "import pandas as pd # data processing, CSV file I/O (e.g. pd.read_csv)\n",
    "\n",
    "import os\n",
    "for dirname, _, filenames in os.walk('/kaggle/input'):\n",
    "    for filename in filenames:\n",
    "        print(os.path.join(dirname, filename))"
   ]
  },
  {
   "cell_type": "code",
   "execution_count": 2,
   "id": "de921189",
   "metadata": {
    "execution": {
     "iopub.execute_input": "2024-08-01T08:49:56.745622Z",
     "iopub.status.busy": "2024-08-01T08:49:56.745101Z",
     "iopub.status.idle": "2024-08-01T08:49:56.787865Z",
     "shell.execute_reply": "2024-08-01T08:49:56.786074Z"
    },
    "papermill": {
     "duration": 0.060376,
     "end_time": "2024-08-01T08:49:56.790909",
     "exception": false,
     "start_time": "2024-08-01T08:49:56.730533",
     "status": "completed"
    },
    "tags": []
   },
   "outputs": [
    {
     "name": "stdout",
     "output_type": "stream",
     "text": [
      "Train Data Shape: (2000, 7)\n",
      "   user_id            timestamp     access_type        resource  \\\n",
      "0        7  2023-02-21 16:15:00  network_access  network_device   \n",
      "1        8  2023-02-22 10:45:00  authentication    server_login   \n",
      "2        1  2023-02-23 13:30:00     data_access  database_query   \n",
      "3        3  2023-02-24 09:00:00     file_access   file_download   \n",
      "4        4  2023-02-25 16:15:00  network_access  network_device   \n",
      "\n",
      "               action_detail    ip_address    label  \n",
      "0  Network traffic monitored     10.0.0.28   normal  \n",
      "1           Login successful  192.168.1.27   normal  \n",
      "2              Data accessed     10.0.0.29  anomaly  \n",
      "3            File downloaded  192.168.1.28   normal  \n",
      "4  Network traffic monitored     10.0.0.30   normal  \n"
     ]
    }
   ],
   "source": [
    "import pandas as pd\n",
    "import numpy as np\n",
    "\n",
    "train_data = pd.read_csv('/kaggle/input/anomaly-detection-sintetico-dataset/final_dataset.csv')\n",
    "\n",
    "print(\"Train Data Shape:\", train_data.shape)\n",
    "\n",
    "print(train_data.head())"
   ]
  },
  {
   "cell_type": "code",
   "execution_count": 3,
   "id": "54c9cd8f",
   "metadata": {
    "execution": {
     "iopub.execute_input": "2024-08-01T08:49:56.818540Z",
     "iopub.status.busy": "2024-08-01T08:49:56.818140Z",
     "iopub.status.idle": "2024-08-01T08:49:56.834422Z",
     "shell.execute_reply": "2024-08-01T08:49:56.833044Z"
    },
    "papermill": {
     "duration": 0.032659,
     "end_time": "2024-08-01T08:49:56.836805",
     "exception": false,
     "start_time": "2024-08-01T08:49:56.804146",
     "status": "completed"
    },
    "tags": []
   },
   "outputs": [
    {
     "name": "stdout",
     "output_type": "stream",
     "text": [
      "Total observations: 2000\n",
      "Users: 1953\n",
      "Access type: 4\n",
      "Resource: 5\n",
      "Action: 6\n",
      "IP Address: 1489\n"
     ]
    }
   ],
   "source": [
    "print(\"Total observations:\", len(train_data))\n",
    "print(\"Users:\", train_data['user_id'].nunique())\n",
    "print(\"Access type:\", train_data['access_type'].nunique())\n",
    "print(\"Resource:\", train_data['resource'].nunique())\n",
    "print(\"Action:\", train_data['action_detail'].nunique())\n",
    "print(\"IP Address:\", train_data['ip_address'].nunique())"
   ]
  },
  {
   "cell_type": "code",
   "execution_count": 4,
   "id": "d42572b7",
   "metadata": {
    "execution": {
     "iopub.execute_input": "2024-08-01T08:49:56.864014Z",
     "iopub.status.busy": "2024-08-01T08:49:56.863583Z",
     "iopub.status.idle": "2024-08-01T08:49:56.875482Z",
     "shell.execute_reply": "2024-08-01T08:49:56.874269Z"
    },
    "papermill": {
     "duration": 0.028604,
     "end_time": "2024-08-01T08:49:56.878133",
     "exception": false,
     "start_time": "2024-08-01T08:49:56.849529",
     "status": "completed"
    },
    "tags": []
   },
   "outputs": [
    {
     "data": {
      "text/plain": [
       "label\n",
       "normal     1286\n",
       "anomaly     714\n",
       "Name: count, dtype: int64"
      ]
     },
     "execution_count": 4,
     "metadata": {},
     "output_type": "execute_result"
    }
   ],
   "source": [
    "train_data['label'].value_counts()\n"
   ]
  },
  {
   "cell_type": "code",
   "execution_count": 5,
   "id": "8a2289f3",
   "metadata": {
    "execution": {
     "iopub.execute_input": "2024-08-01T08:49:56.907164Z",
     "iopub.status.busy": "2024-08-01T08:49:56.906750Z",
     "iopub.status.idle": "2024-08-01T08:49:56.935914Z",
     "shell.execute_reply": "2024-08-01T08:49:56.934742Z"
    },
    "papermill": {
     "duration": 0.046007,
     "end_time": "2024-08-01T08:49:56.938419",
     "exception": false,
     "start_time": "2024-08-01T08:49:56.892412",
     "status": "completed"
    },
    "tags": []
   },
   "outputs": [
    {
     "data": {
      "text/html": [
       "<div>\n",
       "<style scoped>\n",
       "    .dataframe tbody tr th:only-of-type {\n",
       "        vertical-align: middle;\n",
       "    }\n",
       "\n",
       "    .dataframe tbody tr th {\n",
       "        vertical-align: top;\n",
       "    }\n",
       "\n",
       "    .dataframe thead th {\n",
       "        text-align: right;\n",
       "    }\n",
       "</style>\n",
       "<table border=\"1\" class=\"dataframe\">\n",
       "  <thead>\n",
       "    <tr style=\"text-align: right;\">\n",
       "      <th></th>\n",
       "      <th>user_id</th>\n",
       "      <th>timestamp</th>\n",
       "      <th>access_type</th>\n",
       "      <th>resource</th>\n",
       "      <th>action_detail</th>\n",
       "      <th>ip_address</th>\n",
       "      <th>label</th>\n",
       "    </tr>\n",
       "  </thead>\n",
       "  <tbody>\n",
       "    <tr>\n",
       "      <th>0</th>\n",
       "      <td>7</td>\n",
       "      <td>2023-02-21 16:15:00</td>\n",
       "      <td>network_access</td>\n",
       "      <td>network_device</td>\n",
       "      <td>Network traffic monitored</td>\n",
       "      <td>10.0.0.28</td>\n",
       "      <td>normal</td>\n",
       "    </tr>\n",
       "    <tr>\n",
       "      <th>1</th>\n",
       "      <td>8</td>\n",
       "      <td>2023-02-22 10:45:00</td>\n",
       "      <td>authentication</td>\n",
       "      <td>server_login</td>\n",
       "      <td>Login successful</td>\n",
       "      <td>192.168.1.27</td>\n",
       "      <td>normal</td>\n",
       "    </tr>\n",
       "    <tr>\n",
       "      <th>3</th>\n",
       "      <td>3</td>\n",
       "      <td>2023-02-24 09:00:00</td>\n",
       "      <td>file_access</td>\n",
       "      <td>file_download</td>\n",
       "      <td>File downloaded</td>\n",
       "      <td>192.168.1.28</td>\n",
       "      <td>normal</td>\n",
       "    </tr>\n",
       "    <tr>\n",
       "      <th>4</th>\n",
       "      <td>4</td>\n",
       "      <td>2023-02-25 16:15:00</td>\n",
       "      <td>network_access</td>\n",
       "      <td>network_device</td>\n",
       "      <td>Network traffic monitored</td>\n",
       "      <td>10.0.0.30</td>\n",
       "      <td>normal</td>\n",
       "    </tr>\n",
       "    <tr>\n",
       "      <th>5</th>\n",
       "      <td>5</td>\n",
       "      <td>2023-02-26 10:45:00</td>\n",
       "      <td>authentication</td>\n",
       "      <td>server_login</td>\n",
       "      <td>Login successful</td>\n",
       "      <td>192.168.1.29</td>\n",
       "      <td>normal</td>\n",
       "    </tr>\n",
       "  </tbody>\n",
       "</table>\n",
       "</div>"
      ],
      "text/plain": [
       "   user_id            timestamp     access_type        resource  \\\n",
       "0        7  2023-02-21 16:15:00  network_access  network_device   \n",
       "1        8  2023-02-22 10:45:00  authentication    server_login   \n",
       "3        3  2023-02-24 09:00:00     file_access   file_download   \n",
       "4        4  2023-02-25 16:15:00  network_access  network_device   \n",
       "5        5  2023-02-26 10:45:00  authentication    server_login   \n",
       "\n",
       "               action_detail    ip_address   label  \n",
       "0  Network traffic monitored     10.0.0.28  normal  \n",
       "1           Login successful  192.168.1.27  normal  \n",
       "3            File downloaded  192.168.1.28  normal  \n",
       "4  Network traffic monitored     10.0.0.30  normal  \n",
       "5           Login successful  192.168.1.29  normal  "
      ]
     },
     "execution_count": 5,
     "metadata": {},
     "output_type": "execute_result"
    }
   ],
   "source": [
    "train_data[train_data['label'] == 'normal'][:5]"
   ]
  },
  {
   "cell_type": "code",
   "execution_count": 6,
   "id": "526048be",
   "metadata": {
    "execution": {
     "iopub.execute_input": "2024-08-01T08:49:56.967683Z",
     "iopub.status.busy": "2024-08-01T08:49:56.967269Z",
     "iopub.status.idle": "2024-08-01T08:49:56.978856Z",
     "shell.execute_reply": "2024-08-01T08:49:56.977783Z"
    },
    "papermill": {
     "duration": 0.028965,
     "end_time": "2024-08-01T08:49:56.981359",
     "exception": false,
     "start_time": "2024-08-01T08:49:56.952394",
     "status": "completed"
    },
    "tags": []
   },
   "outputs": [
    {
     "data": {
      "text/plain": [
       "user_id          0\n",
       "timestamp        0\n",
       "access_type      0\n",
       "resource         0\n",
       "action_detail    0\n",
       "ip_address       0\n",
       "label            0\n",
       "dtype: int64"
      ]
     },
     "execution_count": 6,
     "metadata": {},
     "output_type": "execute_result"
    }
   ],
   "source": [
    "train_data.isna().sum()\n"
   ]
  },
  {
   "cell_type": "code",
   "execution_count": 7,
   "id": "490e8071",
   "metadata": {
    "execution": {
     "iopub.execute_input": "2024-08-01T08:49:57.010315Z",
     "iopub.status.busy": "2024-08-01T08:49:57.009919Z",
     "iopub.status.idle": "2024-08-01T08:49:57.026398Z",
     "shell.execute_reply": "2024-08-01T08:49:57.025160Z"
    },
    "papermill": {
     "duration": 0.033873,
     "end_time": "2024-08-01T08:49:57.028929",
     "exception": false,
     "start_time": "2024-08-01T08:49:56.995056",
     "status": "completed"
    },
    "tags": []
   },
   "outputs": [
    {
     "name": "stdout",
     "output_type": "stream",
     "text": [
      "First observation: 2023-01-01 00:00:00\n",
      "Latest observation: 2023-12-31 14:20:00\n",
      "Total observations: 2000\n",
      "Users: 1953\n"
     ]
    }
   ],
   "source": [
    "# Convert 'time' column to datetime and sort by time\n",
    "train_data['timestamp'] = pd.to_datetime(train_data['timestamp'], format='%Y-%m-%d %H:%M:%S', errors='coerce')  \n",
    "train_data = train_data.sort_values(by='timestamp') \n",
    "# Temporal range of the dataset\n",
    "start_time = train_data['timestamp'].min()\n",
    "end_time = train_data['timestamp'].max()\n",
    "\n",
    "print(f\"First observation: {start_time}\\nLatest observation: {end_time}\")\n",
    "print(\"Total observations:\", len(train_data))\n",
    "print(\"Users:\", train_data['user_id'].nunique())\n"
   ]
  },
  {
   "cell_type": "code",
   "execution_count": 8,
   "id": "789c7d3f",
   "metadata": {
    "execution": {
     "iopub.execute_input": "2024-08-01T08:49:57.058523Z",
     "iopub.status.busy": "2024-08-01T08:49:57.057952Z",
     "iopub.status.idle": "2024-08-01T08:49:57.072473Z",
     "shell.execute_reply": "2024-08-01T08:49:57.071357Z"
    },
    "papermill": {
     "duration": 0.032621,
     "end_time": "2024-08-01T08:49:57.075223",
     "exception": false,
     "start_time": "2024-08-01T08:49:57.042602",
     "status": "completed"
    },
    "tags": []
   },
   "outputs": [],
   "source": [
    "#2. Filter Data to Select Specific Users\n",
    "\n",
    "# Select a subset of users\n",
    "unique_users = train_data['user_id'].unique()\n",
    "selected_users = np.random.choice(unique_users, 5, replace=False)\n",
    "filtered_df = train_data[train_data['user_id'].isin(selected_users)]\n"
   ]
  },
  {
   "cell_type": "code",
   "execution_count": 9,
   "id": "0de32724",
   "metadata": {
    "execution": {
     "iopub.execute_input": "2024-08-01T08:49:57.104710Z",
     "iopub.status.busy": "2024-08-01T08:49:57.104329Z",
     "iopub.status.idle": "2024-08-01T08:49:57.112942Z",
     "shell.execute_reply": "2024-08-01T08:49:57.111830Z"
    },
    "papermill": {
     "duration": 0.026463,
     "end_time": "2024-08-01T08:49:57.115823",
     "exception": false,
     "start_time": "2024-08-01T08:49:57.089360",
     "status": "completed"
    },
    "tags": []
   },
   "outputs": [
    {
     "name": "stdout",
     "output_type": "stream",
     "text": [
      "Total observations: 5\n",
      "Users: 5\n",
      "Unique IPs: 5\n",
      "Access type: 3\n",
      "Resource: 3\n",
      "Action: 3\n"
     ]
    }
   ],
   "source": [
    "print(\"Total observations:\", len(filtered_df))\n",
    "print(\"Users:\", filtered_df['user_id'].nunique())\n",
    "print(\"Unique IPs:\", filtered_df['ip_address'].nunique())\n",
    "print(\"Access type:\",  filtered_df['access_type'].nunique())\n",
    "print(\"Resource:\",  filtered_df['resource'].nunique())\n",
    "print(\"Action:\",  filtered_df['action_detail'].nunique())\n"
   ]
  },
  {
   "cell_type": "code",
   "execution_count": 10,
   "id": "6681ef38",
   "metadata": {
    "execution": {
     "iopub.execute_input": "2024-08-01T08:49:57.145014Z",
     "iopub.status.busy": "2024-08-01T08:49:57.144602Z",
     "iopub.status.idle": "2024-08-01T08:49:57.151224Z",
     "shell.execute_reply": "2024-08-01T08:49:57.150267Z"
    },
    "papermill": {
     "duration": 0.023935,
     "end_time": "2024-08-01T08:49:57.153697",
     "exception": false,
     "start_time": "2024-08-01T08:49:57.129762",
     "status": "completed"
    },
    "tags": []
   },
   "outputs": [
    {
     "data": {
      "text/plain": [
       "(5, 7)"
      ]
     },
     "execution_count": 10,
     "metadata": {},
     "output_type": "execute_result"
    }
   ],
   "source": [
    "filtered_df.shape"
   ]
  },
  {
   "cell_type": "markdown",
   "id": "372cd5fb",
   "metadata": {
    "papermill": {
     "duration": 0.013226,
     "end_time": "2024-08-01T08:49:57.180790",
     "exception": false,
     "start_time": "2024-08-01T08:49:57.167564",
     "status": "completed"
    },
    "tags": []
   },
   "source": [
    "**Filter Data to Select Specific Time Ranges**"
   ]
  },
  {
   "cell_type": "code",
   "execution_count": 11,
   "id": "699dbb55",
   "metadata": {
    "execution": {
     "iopub.execute_input": "2024-08-01T08:49:57.209733Z",
     "iopub.status.busy": "2024-08-01T08:49:57.209323Z",
     "iopub.status.idle": "2024-08-01T08:49:57.220521Z",
     "shell.execute_reply": "2024-08-01T08:49:57.219417Z"
    },
    "papermill": {
     "duration": 0.029256,
     "end_time": "2024-08-01T08:49:57.223680",
     "exception": false,
     "start_time": "2024-08-01T08:49:57.194424",
     "status": "completed"
    },
    "tags": []
   },
   "outputs": [
    {
     "name": "stdout",
     "output_type": "stream",
     "text": [
      "Total observations: 5\n",
      "Unique users: 5\n",
      "Action: 3\n",
      "Access type: 3\n",
      "Resource: 3\n",
      "Unique IPs: 5\n"
     ]
    }
   ],
   "source": [
    "start_date = '2023-01-01'\n",
    "end_date = '2023-12-31'\n",
    "\n",
    "# Filter data within the time range\n",
    "sample_df = filtered_df[filtered_df['timestamp'].between(start_date, end_date)]\n",
    "sample_df.set_index('timestamp', inplace=True, drop=False)\n",
    "\n",
    "print(\"Total observations:\", len(sample_df))\n",
    "print(\"Unique users:\", sample_df['user_id'].nunique())\n",
    "print(\"Action:\", sample_df['action_detail'].nunique())\n",
    "print(\"Access type:\", sample_df['access_type'].nunique())\n",
    "print(\"Resource:\", sample_df['resource'].nunique())\n",
    "print(\"Unique IPs:\", sample_df['ip_address'].nunique())\n",
    "\n"
   ]
  },
  {
   "cell_type": "code",
   "execution_count": 12,
   "id": "1c5dd1bf",
   "metadata": {
    "execution": {
     "iopub.execute_input": "2024-08-01T08:49:57.252875Z",
     "iopub.status.busy": "2024-08-01T08:49:57.252477Z",
     "iopub.status.idle": "2024-08-01T08:49:57.259660Z",
     "shell.execute_reply": "2024-08-01T08:49:57.258530Z"
    },
    "papermill": {
     "duration": 0.02458,
     "end_time": "2024-08-01T08:49:57.262053",
     "exception": false,
     "start_time": "2024-08-01T08:49:57.237473",
     "status": "completed"
    },
    "tags": []
   },
   "outputs": [
    {
     "data": {
      "text/plain": [
       "Index(['user_id', 'timestamp', 'access_type', 'resource', 'action_detail',\n",
       "       'ip_address', 'label'],\n",
       "      dtype='object')"
      ]
     },
     "execution_count": 12,
     "metadata": {},
     "output_type": "execute_result"
    }
   ],
   "source": [
    "sample_df.columns"
   ]
  },
  {
   "cell_type": "code",
   "execution_count": 13,
   "id": "e068d3c0",
   "metadata": {
    "execution": {
     "iopub.execute_input": "2024-08-01T08:49:57.291669Z",
     "iopub.status.busy": "2024-08-01T08:49:57.291243Z",
     "iopub.status.idle": "2024-08-01T08:49:57.302410Z",
     "shell.execute_reply": "2024-08-01T08:49:57.301459Z"
    },
    "papermill": {
     "duration": 0.028706,
     "end_time": "2024-08-01T08:49:57.304617",
     "exception": false,
     "start_time": "2024-08-01T08:49:57.275911",
     "status": "completed"
    },
    "tags": []
   },
   "outputs": [
    {
     "data": {
      "text/plain": [
       "['access_type', 'resource', 'action_detail', 'ip_address']"
      ]
     },
     "execution_count": 13,
     "metadata": {},
     "output_type": "execute_result"
    }
   ],
   "source": [
    "sample_df = sample_df.drop(columns=['user_id', 'label'])\n",
    "sample_df.shape\n",
    "\n",
    "categorical_features=[feature for feature in sample_df.columns if sample_df[feature].dtypes=='O']\n",
    "categorical_features\n",
    "\n",
    "\n"
   ]
  },
  {
   "cell_type": "code",
   "execution_count": 14,
   "id": "a8d0ad93",
   "metadata": {
    "execution": {
     "iopub.execute_input": "2024-08-01T08:49:57.335093Z",
     "iopub.status.busy": "2024-08-01T08:49:57.334289Z",
     "iopub.status.idle": "2024-08-01T08:49:58.672466Z",
     "shell.execute_reply": "2024-08-01T08:49:58.671389Z"
    },
    "papermill": {
     "duration": 1.356386,
     "end_time": "2024-08-01T08:49:58.674998",
     "exception": false,
     "start_time": "2024-08-01T08:49:57.318612",
     "status": "completed"
    },
    "tags": []
   },
   "outputs": [
    {
     "data": {
      "text/html": [
       "<div>\n",
       "<style scoped>\n",
       "    .dataframe tbody tr th:only-of-type {\n",
       "        vertical-align: middle;\n",
       "    }\n",
       "\n",
       "    .dataframe tbody tr th {\n",
       "        vertical-align: top;\n",
       "    }\n",
       "\n",
       "    .dataframe thead th {\n",
       "        text-align: right;\n",
       "    }\n",
       "</style>\n",
       "<table border=\"1\" class=\"dataframe\">\n",
       "  <thead>\n",
       "    <tr style=\"text-align: right;\">\n",
       "      <th></th>\n",
       "      <th>timestamp</th>\n",
       "      <th>access_type</th>\n",
       "      <th>resource</th>\n",
       "      <th>action_detail</th>\n",
       "      <th>ip_address</th>\n",
       "      <th>access_type_encoded</th>\n",
       "      <th>resource_encoded</th>\n",
       "      <th>action_detail_encoded</th>\n",
       "      <th>ip_address_encoded</th>\n",
       "    </tr>\n",
       "    <tr>\n",
       "      <th>timestamp</th>\n",
       "      <th></th>\n",
       "      <th></th>\n",
       "      <th></th>\n",
       "      <th></th>\n",
       "      <th></th>\n",
       "      <th></th>\n",
       "      <th></th>\n",
       "      <th></th>\n",
       "      <th></th>\n",
       "    </tr>\n",
       "  </thead>\n",
       "  <tbody>\n",
       "    <tr>\n",
       "      <th>2023-01-12 07:00:00</th>\n",
       "      <td>2023-01-12 07:00:00</td>\n",
       "      <td>network_access</td>\n",
       "      <td>network_device</td>\n",
       "      <td>Network traffic monitored</td>\n",
       "      <td>10.0.0.721</td>\n",
       "      <td>2</td>\n",
       "      <td>1</td>\n",
       "      <td>2</td>\n",
       "      <td>0</td>\n",
       "    </tr>\n",
       "    <tr>\n",
       "      <th>2023-01-13 18:15:00</th>\n",
       "      <td>2023-01-13 18:15:00</td>\n",
       "      <td>authentication</td>\n",
       "      <td>server_login</td>\n",
       "      <td>Login successful</td>\n",
       "      <td>192.168.1.738</td>\n",
       "      <td>0</td>\n",
       "      <td>2</td>\n",
       "      <td>1</td>\n",
       "      <td>4</td>\n",
       "    </tr>\n",
       "    <tr>\n",
       "      <th>2023-01-26 20:15:00</th>\n",
       "      <td>2023-01-26 20:15:00</td>\n",
       "      <td>authentication</td>\n",
       "      <td>server_login</td>\n",
       "      <td>Login successful</td>\n",
       "      <td>10.0.0.994</td>\n",
       "      <td>0</td>\n",
       "      <td>2</td>\n",
       "      <td>1</td>\n",
       "      <td>1</td>\n",
       "    </tr>\n",
       "  </tbody>\n",
       "</table>\n",
       "</div>"
      ],
      "text/plain": [
       "                              timestamp     access_type        resource  \\\n",
       "timestamp                                                                 \n",
       "2023-01-12 07:00:00 2023-01-12 07:00:00  network_access  network_device   \n",
       "2023-01-13 18:15:00 2023-01-13 18:15:00  authentication    server_login   \n",
       "2023-01-26 20:15:00 2023-01-26 20:15:00  authentication    server_login   \n",
       "\n",
       "                                 action_detail     ip_address  \\\n",
       "timestamp                                                       \n",
       "2023-01-12 07:00:00  Network traffic monitored     10.0.0.721   \n",
       "2023-01-13 18:15:00           Login successful  192.168.1.738   \n",
       "2023-01-26 20:15:00           Login successful     10.0.0.994   \n",
       "\n",
       "                     access_type_encoded  resource_encoded  \\\n",
       "timestamp                                                    \n",
       "2023-01-12 07:00:00                    2                 1   \n",
       "2023-01-13 18:15:00                    0                 2   \n",
       "2023-01-26 20:15:00                    0                 2   \n",
       "\n",
       "                     action_detail_encoded  ip_address_encoded  \n",
       "timestamp                                                       \n",
       "2023-01-12 07:00:00                      2                   0  \n",
       "2023-01-13 18:15:00                      1                   4  \n",
       "2023-01-26 20:15:00                      1                   1  "
      ]
     },
     "execution_count": 14,
     "metadata": {},
     "output_type": "execute_result"
    }
   ],
   "source": [
    "from sklearn.preprocessing import LabelEncoder\n",
    "\n",
    "# Create a LabelEncoder object\n",
    "le = LabelEncoder()\n",
    "\n",
    "# Apply LabelEncoder to each categorical column\n",
    "for feature in categorical_features:\n",
    "    sample_df[feature + '_encoded'] = le.fit_transform(sample_df[feature])\n",
    "sample_df.head(3)"
   ]
  },
  {
   "cell_type": "code",
   "execution_count": 15,
   "id": "6c48ed98",
   "metadata": {
    "execution": {
     "iopub.execute_input": "2024-08-01T08:49:58.706330Z",
     "iopub.status.busy": "2024-08-01T08:49:58.705749Z",
     "iopub.status.idle": "2024-08-01T08:49:58.721039Z",
     "shell.execute_reply": "2024-08-01T08:49:58.719921Z"
    },
    "papermill": {
     "duration": 0.033385,
     "end_time": "2024-08-01T08:49:58.723405",
     "exception": false,
     "start_time": "2024-08-01T08:49:58.690020",
     "status": "completed"
    },
    "tags": []
   },
   "outputs": [
    {
     "data": {
      "text/html": [
       "<div>\n",
       "<style scoped>\n",
       "    .dataframe tbody tr th:only-of-type {\n",
       "        vertical-align: middle;\n",
       "    }\n",
       "\n",
       "    .dataframe tbody tr th {\n",
       "        vertical-align: top;\n",
       "    }\n",
       "\n",
       "    .dataframe thead th {\n",
       "        text-align: right;\n",
       "    }\n",
       "</style>\n",
       "<table border=\"1\" class=\"dataframe\">\n",
       "  <thead>\n",
       "    <tr style=\"text-align: right;\">\n",
       "      <th></th>\n",
       "      <th>timestamp</th>\n",
       "      <th>access_type_encoded</th>\n",
       "      <th>resource_encoded</th>\n",
       "      <th>action_detail_encoded</th>\n",
       "      <th>ip_address_encoded</th>\n",
       "    </tr>\n",
       "    <tr>\n",
       "      <th>timestamp</th>\n",
       "      <th></th>\n",
       "      <th></th>\n",
       "      <th></th>\n",
       "      <th></th>\n",
       "      <th></th>\n",
       "    </tr>\n",
       "  </thead>\n",
       "  <tbody>\n",
       "    <tr>\n",
       "      <th>2023-01-12 07:00:00</th>\n",
       "      <td>2023-01-12 07:00:00</td>\n",
       "      <td>2</td>\n",
       "      <td>1</td>\n",
       "      <td>2</td>\n",
       "      <td>0</td>\n",
       "    </tr>\n",
       "    <tr>\n",
       "      <th>2023-01-13 18:15:00</th>\n",
       "      <td>2023-01-13 18:15:00</td>\n",
       "      <td>0</td>\n",
       "      <td>2</td>\n",
       "      <td>1</td>\n",
       "      <td>4</td>\n",
       "    </tr>\n",
       "    <tr>\n",
       "      <th>2023-01-26 20:15:00</th>\n",
       "      <td>2023-01-26 20:15:00</td>\n",
       "      <td>0</td>\n",
       "      <td>2</td>\n",
       "      <td>1</td>\n",
       "      <td>1</td>\n",
       "    </tr>\n",
       "    <tr>\n",
       "      <th>2023-09-27 09:41:00</th>\n",
       "      <td>2023-09-27 09:41:00</td>\n",
       "      <td>0</td>\n",
       "      <td>2</td>\n",
       "      <td>1</td>\n",
       "      <td>2</td>\n",
       "    </tr>\n",
       "    <tr>\n",
       "      <th>2023-12-22 23:31:00</th>\n",
       "      <td>2023-12-22 23:31:00</td>\n",
       "      <td>1</td>\n",
       "      <td>0</td>\n",
       "      <td>0</td>\n",
       "      <td>3</td>\n",
       "    </tr>\n",
       "  </tbody>\n",
       "</table>\n",
       "</div>"
      ],
      "text/plain": [
       "                              timestamp  access_type_encoded  \\\n",
       "timestamp                                                      \n",
       "2023-01-12 07:00:00 2023-01-12 07:00:00                    2   \n",
       "2023-01-13 18:15:00 2023-01-13 18:15:00                    0   \n",
       "2023-01-26 20:15:00 2023-01-26 20:15:00                    0   \n",
       "2023-09-27 09:41:00 2023-09-27 09:41:00                    0   \n",
       "2023-12-22 23:31:00 2023-12-22 23:31:00                    1   \n",
       "\n",
       "                     resource_encoded  action_detail_encoded  \\\n",
       "timestamp                                                      \n",
       "2023-01-12 07:00:00                 1                      2   \n",
       "2023-01-13 18:15:00                 2                      1   \n",
       "2023-01-26 20:15:00                 2                      1   \n",
       "2023-09-27 09:41:00                 2                      1   \n",
       "2023-12-22 23:31:00                 0                      0   \n",
       "\n",
       "                     ip_address_encoded  \n",
       "timestamp                                \n",
       "2023-01-12 07:00:00                   0  \n",
       "2023-01-13 18:15:00                   4  \n",
       "2023-01-26 20:15:00                   1  \n",
       "2023-09-27 09:41:00                   2  \n",
       "2023-12-22 23:31:00                   3  "
      ]
     },
     "execution_count": 15,
     "metadata": {},
     "output_type": "execute_result"
    }
   ],
   "source": [
    "# Drop the original categorical columns \n",
    "sample_df = sample_df.drop(columns=categorical_features)\n",
    "sample_df.head(5)"
   ]
  },
  {
   "cell_type": "markdown",
   "id": "4e8c4ac8",
   "metadata": {
    "papermill": {
     "duration": 0.014243,
     "end_time": "2024-08-01T08:49:58.752433",
     "exception": false,
     "start_time": "2024-08-01T08:49:58.738190",
     "status": "completed"
    },
    "tags": []
   },
   "source": [
    "**Pre-processing of Time column**"
   ]
  },
  {
   "cell_type": "code",
   "execution_count": 16,
   "id": "f56334a4",
   "metadata": {
    "execution": {
     "iopub.execute_input": "2024-08-01T08:49:58.784144Z",
     "iopub.status.busy": "2024-08-01T08:49:58.783722Z",
     "iopub.status.idle": "2024-08-01T08:49:58.801650Z",
     "shell.execute_reply": "2024-08-01T08:49:58.800655Z"
    },
    "papermill": {
     "duration": 0.036599,
     "end_time": "2024-08-01T08:49:58.803981",
     "exception": false,
     "start_time": "2024-08-01T08:49:58.767382",
     "status": "completed"
    },
    "tags": []
   },
   "outputs": [
    {
     "data": {
      "text/html": [
       "<div>\n",
       "<style scoped>\n",
       "    .dataframe tbody tr th:only-of-type {\n",
       "        vertical-align: middle;\n",
       "    }\n",
       "\n",
       "    .dataframe tbody tr th {\n",
       "        vertical-align: top;\n",
       "    }\n",
       "\n",
       "    .dataframe thead th {\n",
       "        text-align: right;\n",
       "    }\n",
       "</style>\n",
       "<table border=\"1\" class=\"dataframe\">\n",
       "  <thead>\n",
       "    <tr style=\"text-align: right;\">\n",
       "      <th></th>\n",
       "      <th>access_type_encoded</th>\n",
       "      <th>resource_encoded</th>\n",
       "      <th>action_detail_encoded</th>\n",
       "      <th>ip_address_encoded</th>\n",
       "      <th>hour</th>\n",
       "      <th>day_of_week</th>\n",
       "      <th>month</th>\n",
       "    </tr>\n",
       "    <tr>\n",
       "      <th>timestamp</th>\n",
       "      <th></th>\n",
       "      <th></th>\n",
       "      <th></th>\n",
       "      <th></th>\n",
       "      <th></th>\n",
       "      <th></th>\n",
       "      <th></th>\n",
       "    </tr>\n",
       "  </thead>\n",
       "  <tbody>\n",
       "    <tr>\n",
       "      <th>2023-01-12 07:00:00</th>\n",
       "      <td>2</td>\n",
       "      <td>1</td>\n",
       "      <td>2</td>\n",
       "      <td>0</td>\n",
       "      <td>7</td>\n",
       "      <td>3</td>\n",
       "      <td>1</td>\n",
       "    </tr>\n",
       "    <tr>\n",
       "      <th>2023-01-13 18:15:00</th>\n",
       "      <td>0</td>\n",
       "      <td>2</td>\n",
       "      <td>1</td>\n",
       "      <td>4</td>\n",
       "      <td>18</td>\n",
       "      <td>4</td>\n",
       "      <td>1</td>\n",
       "    </tr>\n",
       "    <tr>\n",
       "      <th>2023-01-26 20:15:00</th>\n",
       "      <td>0</td>\n",
       "      <td>2</td>\n",
       "      <td>1</td>\n",
       "      <td>1</td>\n",
       "      <td>20</td>\n",
       "      <td>3</td>\n",
       "      <td>1</td>\n",
       "    </tr>\n",
       "    <tr>\n",
       "      <th>2023-09-27 09:41:00</th>\n",
       "      <td>0</td>\n",
       "      <td>2</td>\n",
       "      <td>1</td>\n",
       "      <td>2</td>\n",
       "      <td>9</td>\n",
       "      <td>2</td>\n",
       "      <td>9</td>\n",
       "    </tr>\n",
       "  </tbody>\n",
       "</table>\n",
       "</div>"
      ],
      "text/plain": [
       "                     access_type_encoded  resource_encoded  \\\n",
       "timestamp                                                    \n",
       "2023-01-12 07:00:00                    2                 1   \n",
       "2023-01-13 18:15:00                    0                 2   \n",
       "2023-01-26 20:15:00                    0                 2   \n",
       "2023-09-27 09:41:00                    0                 2   \n",
       "\n",
       "                     action_detail_encoded  ip_address_encoded  hour  \\\n",
       "timestamp                                                              \n",
       "2023-01-12 07:00:00                      2                   0     7   \n",
       "2023-01-13 18:15:00                      1                   4    18   \n",
       "2023-01-26 20:15:00                      1                   1    20   \n",
       "2023-09-27 09:41:00                      1                   2     9   \n",
       "\n",
       "                     day_of_week  month  \n",
       "timestamp                                \n",
       "2023-01-12 07:00:00            3      1  \n",
       "2023-01-13 18:15:00            4      1  \n",
       "2023-01-26 20:15:00            3      1  \n",
       "2023-09-27 09:41:00            2      9  "
      ]
     },
     "execution_count": 16,
     "metadata": {},
     "output_type": "execute_result"
    }
   ],
   "source": [
    "# Extract numerical features\n",
    "\n",
    "sample_df['hour'] = sample_df['timestamp'].dt.hour\n",
    "sample_df['day_of_week'] = sample_df['timestamp'].dt.day_of_week\n",
    "sample_df['month'] = sample_df['timestamp'].dt.month\n",
    "sample_df.drop('timestamp', axis=1, inplace=True)\n",
    "sample_df.head(4)"
   ]
  },
  {
   "cell_type": "markdown",
   "id": "0a5d7fcc",
   "metadata": {
    "papermill": {
     "duration": 0.014687,
     "end_time": "2024-08-01T08:49:58.833800",
     "exception": false,
     "start_time": "2024-08-01T08:49:58.819113",
     "status": "completed"
    },
    "tags": []
   },
   "source": [
    "\n",
    "5.3 Robust Scaling\n",
    "\n",
    "- scales the features using statistics that are robust to outliers, such as the median and the interquartile range (IQR).\n",
    "- resistant to the influence of outliers compared to standard scaling techniques like Min-Max Scaling or Standard Scaling."
   ]
  },
  {
   "cell_type": "code",
   "execution_count": 17,
   "id": "cca2555a",
   "metadata": {
    "execution": {
     "iopub.execute_input": "2024-08-01T08:49:58.865438Z",
     "iopub.status.busy": "2024-08-01T08:49:58.865041Z",
     "iopub.status.idle": "2024-08-01T08:49:58.889988Z",
     "shell.execute_reply": "2024-08-01T08:49:58.888960Z"
    },
    "papermill": {
     "duration": 0.043729,
     "end_time": "2024-08-01T08:49:58.892691",
     "exception": false,
     "start_time": "2024-08-01T08:49:58.848962",
     "status": "completed"
    },
    "tags": []
   },
   "outputs": [
    {
     "name": "stdout",
     "output_type": "stream",
     "text": [
      "Original DataFrame:\n",
      "                     access_type_encoded  resource_encoded  \\\n",
      "timestamp                                                    \n",
      "2023-01-12 07:00:00                    2                 1   \n",
      "2023-01-13 18:15:00                    0                 2   \n",
      "2023-01-26 20:15:00                    0                 2   \n",
      "2023-09-27 09:41:00                    0                 2   \n",
      "2023-12-22 23:31:00                    1                 0   \n",
      "\n",
      "                     action_detail_encoded  ip_address_encoded  hour  \\\n",
      "timestamp                                                              \n",
      "2023-01-12 07:00:00                      2                   0     7   \n",
      "2023-01-13 18:15:00                      1                   4    18   \n",
      "2023-01-26 20:15:00                      1                   1    20   \n",
      "2023-09-27 09:41:00                      1                   2     9   \n",
      "2023-12-22 23:31:00                      0                   3    23   \n",
      "\n",
      "                     day_of_week  month  \n",
      "timestamp                                \n",
      "2023-01-12 07:00:00            3      1  \n",
      "2023-01-13 18:15:00            4      1  \n",
      "2023-01-26 20:15:00            3      1  \n",
      "2023-09-27 09:41:00            2      9  \n",
      "2023-12-22 23:31:00            4     12  \n",
      "\n",
      "Scaled DataFrame:\n",
      "   access_type_encoded  resource_encoded  action_detail_encoded  \\\n",
      "0                  2.0              -1.0                    1.0   \n",
      "1                  0.0               0.0                    0.0   \n",
      "2                  0.0               0.0                    0.0   \n",
      "3                  0.0               0.0                    0.0   \n",
      "4                  1.0              -2.0                   -1.0   \n",
      "\n",
      "   ip_address_encoded      hour  day_of_week  month  \n",
      "0                -1.0 -1.000000          0.0  0.000  \n",
      "1                 1.0  0.000000          1.0  0.000  \n",
      "2                -0.5  0.181818          0.0  0.000  \n",
      "3                 0.0 -0.818182         -1.0  1.000  \n",
      "4                 0.5  0.454545          1.0  1.375  \n"
     ]
    }
   ],
   "source": [
    "from sklearn.preprocessing import RobustScaler\n",
    "\n",
    "# Create a RobustScaler object\n",
    "robust_scaler = RobustScaler()\n",
    "\n",
    "# Fit and transform the DataFrame\n",
    "scaled_df = pd.DataFrame(robust_scaler.fit_transform(sample_df), columns=sample_df.columns)\n",
    "\n",
    "print(\"Original DataFrame:\")\n",
    "print(sample_df)\n",
    "print(\"\\nScaled DataFrame:\")\n",
    "print(scaled_df)"
   ]
  },
  {
   "cell_type": "markdown",
   "id": "59ddc468",
   "metadata": {
    "papermill": {
     "duration": 0.014839,
     "end_time": "2024-08-01T08:49:58.923088",
     "exception": false,
     "start_time": "2024-08-01T08:49:58.908249",
     "status": "completed"
    },
    "tags": []
   },
   "source": [
    "**6. Feature Extraction**\n",
    "\n",
    "- Identify the most significative variables of the dataset.\n",
    "\n",
    "**6.1 Correlation Matrix**\n",
    "\n",
    "- Features with high correlation coefficients are likely to be more important."
   ]
  },
  {
   "cell_type": "code",
   "execution_count": 18,
   "id": "8a21d904",
   "metadata": {
    "execution": {
     "iopub.execute_input": "2024-08-01T08:49:58.955828Z",
     "iopub.status.busy": "2024-08-01T08:49:58.955439Z",
     "iopub.status.idle": "2024-08-01T08:49:58.976163Z",
     "shell.execute_reply": "2024-08-01T08:49:58.975098Z"
    },
    "papermill": {
     "duration": 0.039817,
     "end_time": "2024-08-01T08:49:58.978458",
     "exception": false,
     "start_time": "2024-08-01T08:49:58.938641",
     "status": "completed"
    },
    "tags": []
   },
   "outputs": [
    {
     "data": {
      "text/html": [
       "<div>\n",
       "<style scoped>\n",
       "    .dataframe tbody tr th:only-of-type {\n",
       "        vertical-align: middle;\n",
       "    }\n",
       "\n",
       "    .dataframe tbody tr th {\n",
       "        vertical-align: top;\n",
       "    }\n",
       "\n",
       "    .dataframe thead th {\n",
       "        text-align: right;\n",
       "    }\n",
       "</style>\n",
       "<table border=\"1\" class=\"dataframe\">\n",
       "  <thead>\n",
       "    <tr style=\"text-align: right;\">\n",
       "      <th></th>\n",
       "      <th>access_type_encoded</th>\n",
       "      <th>resource_encoded</th>\n",
       "      <th>action_detail_encoded</th>\n",
       "      <th>ip_address_encoded</th>\n",
       "      <th>hour</th>\n",
       "      <th>day_of_week</th>\n",
       "      <th>month</th>\n",
       "    </tr>\n",
       "  </thead>\n",
       "  <tbody>\n",
       "    <tr>\n",
       "      <th>access_type_encoded</th>\n",
       "      <td>1.000000</td>\n",
       "      <td>-6.875000e-01</td>\n",
       "      <td>0.395285</td>\n",
       "      <td>-5.303301e-01</td>\n",
       "      <td>-0.366235</td>\n",
       "      <td>0.133631</td>\n",
       "      <td>-0.021054</td>\n",
       "    </tr>\n",
       "    <tr>\n",
       "      <th>resource_encoded</th>\n",
       "      <td>-0.687500</td>\n",
       "      <td>1.000000e+00</td>\n",
       "      <td>0.395285</td>\n",
       "      <td>-3.925231e-17</td>\n",
       "      <td>-0.270695</td>\n",
       "      <td>-0.467707</td>\n",
       "      <td>-0.557926</td>\n",
       "    </tr>\n",
       "    <tr>\n",
       "      <th>action_detail_encoded</th>\n",
       "      <td>0.395285</td>\n",
       "      <td>3.952847e-01</td>\n",
       "      <td>1.000000</td>\n",
       "      <td>-6.708204e-01</td>\n",
       "      <td>-0.805659</td>\n",
       "      <td>-0.422577</td>\n",
       "      <td>-0.732358</td>\n",
       "    </tr>\n",
       "    <tr>\n",
       "      <th>ip_address_encoded</th>\n",
       "      <td>-0.530330</td>\n",
       "      <td>-3.925231e-17</td>\n",
       "      <td>-0.670820</td>\n",
       "      <td>1.000000e+00</td>\n",
       "      <td>0.562972</td>\n",
       "      <td>0.566947</td>\n",
       "      <td>0.327520</td>\n",
       "    </tr>\n",
       "    <tr>\n",
       "      <th>hour</th>\n",
       "      <td>-0.366235</td>\n",
       "      <td>-2.706951e-01</td>\n",
       "      <td>-0.805659</td>\n",
       "      <td>5.629717e-01</td>\n",
       "      <td>1.000000</td>\n",
       "      <td>0.706441</td>\n",
       "      <td>0.217239</td>\n",
       "    </tr>\n",
       "    <tr>\n",
       "      <th>day_of_week</th>\n",
       "      <td>0.133631</td>\n",
       "      <td>-4.677072e-01</td>\n",
       "      <td>-0.422577</td>\n",
       "      <td>5.669467e-01</td>\n",
       "      <td>0.706441</td>\n",
       "      <td>1.000000</td>\n",
       "      <td>-0.045015</td>\n",
       "    </tr>\n",
       "    <tr>\n",
       "      <th>month</th>\n",
       "      <td>-0.021054</td>\n",
       "      <td>-5.579256e-01</td>\n",
       "      <td>-0.732358</td>\n",
       "      <td>3.275202e-01</td>\n",
       "      <td>0.217239</td>\n",
       "      <td>-0.045015</td>\n",
       "      <td>1.000000</td>\n",
       "    </tr>\n",
       "  </tbody>\n",
       "</table>\n",
       "</div>"
      ],
      "text/plain": [
       "                       access_type_encoded  resource_encoded  \\\n",
       "access_type_encoded               1.000000     -6.875000e-01   \n",
       "resource_encoded                 -0.687500      1.000000e+00   \n",
       "action_detail_encoded             0.395285      3.952847e-01   \n",
       "ip_address_encoded               -0.530330     -3.925231e-17   \n",
       "hour                             -0.366235     -2.706951e-01   \n",
       "day_of_week                       0.133631     -4.677072e-01   \n",
       "month                            -0.021054     -5.579256e-01   \n",
       "\n",
       "                       action_detail_encoded  ip_address_encoded      hour  \\\n",
       "access_type_encoded                 0.395285       -5.303301e-01 -0.366235   \n",
       "resource_encoded                    0.395285       -3.925231e-17 -0.270695   \n",
       "action_detail_encoded               1.000000       -6.708204e-01 -0.805659   \n",
       "ip_address_encoded                 -0.670820        1.000000e+00  0.562972   \n",
       "hour                               -0.805659        5.629717e-01  1.000000   \n",
       "day_of_week                        -0.422577        5.669467e-01  0.706441   \n",
       "month                              -0.732358        3.275202e-01  0.217239   \n",
       "\n",
       "                       day_of_week     month  \n",
       "access_type_encoded       0.133631 -0.021054  \n",
       "resource_encoded         -0.467707 -0.557926  \n",
       "action_detail_encoded    -0.422577 -0.732358  \n",
       "ip_address_encoded        0.566947  0.327520  \n",
       "hour                      0.706441  0.217239  \n",
       "day_of_week               1.000000 -0.045015  \n",
       "month                    -0.045015  1.000000  "
      ]
     },
     "execution_count": 18,
     "metadata": {},
     "output_type": "execute_result"
    }
   ],
   "source": [
    "# Get the feature names from the original DataFrame\n",
    "original_feature_names = sample_df.columns\n",
    "\n",
    "# Apply correlation matrix \n",
    "corr_matrix = scaled_df.corr()\n",
    "\n",
    "# Create a mapping dictionary\n",
    "feature_mapping = {f'feature{i+1}': original_feature_names[i] for i in range(len(original_feature_names))}\n",
    "# Rename the columns in the correlation matrix\n",
    "corr_matrix = corr_matrix.rename(columns=feature_mapping, index=feature_mapping)\n",
    "corr_matrix"
   ]
  },
  {
   "cell_type": "code",
   "execution_count": 19,
   "id": "3a9c4587",
   "metadata": {
    "execution": {
     "iopub.execute_input": "2024-08-01T08:49:59.011732Z",
     "iopub.status.busy": "2024-08-01T08:49:59.010776Z",
     "iopub.status.idle": "2024-08-01T08:49:59.907219Z",
     "shell.execute_reply": "2024-08-01T08:49:59.906161Z"
    },
    "papermill": {
     "duration": 0.916257,
     "end_time": "2024-08-01T08:49:59.910206",
     "exception": false,
     "start_time": "2024-08-01T08:49:58.993949",
     "status": "completed"
    },
    "tags": []
   },
   "outputs": [
    {
     "data": {
      "image/png": "[encoded data removed]",
      "text/plain": [
       "<Figure size 600x300 with 2 Axes>"
      ]
     },
     "metadata": {},
     "output_type": "display_data"
    }
   ],
   "source": [
    "import seaborn as sns\n",
    "import matplotlib.pyplot as plt\n",
    "\n",
    "plt.figure(figsize=(6, 3))\n",
    "sns.heatmap(corr_matrix, annot=True, cmap='YlOrRd', fmt=\".2f\")\n",
    "plt.title('Correlation Matrix')\n",
    "plt.show()"
   ]
  },
  {
   "cell_type": "code",
   "execution_count": 20,
   "id": "b155025e",
   "metadata": {
    "execution": {
     "iopub.execute_input": "2024-08-01T08:49:59.945827Z",
     "iopub.status.busy": "2024-08-01T08:49:59.945442Z",
     "iopub.status.idle": "2024-08-01T08:49:59.950183Z",
     "shell.execute_reply": "2024-08-01T08:49:59.949143Z"
    },
    "papermill": {
     "duration": 0.025177,
     "end_time": "2024-08-01T08:49:59.952579",
     "exception": false,
     "start_time": "2024-08-01T08:49:59.927402",
     "status": "completed"
    },
    "tags": []
   },
   "outputs": [],
   "source": [
    "# scaled_df = scaled_df.drop('month', axis=1)\n",
    "# scaled_df.columns"
   ]
  },
  {
   "cell_type": "markdown",
   "id": "6089dd89",
   "metadata": {
    "papermill": {
     "duration": 0.016476,
     "end_time": "2024-08-01T08:49:59.985914",
     "exception": false,
     "start_time": "2024-08-01T08:49:59.969438",
     "status": "completed"
    },
    "tags": []
   },
   "source": [
    "**DBSCAN**"
   ]
  },
  {
   "cell_type": "code",
   "execution_count": 21,
   "id": "72b2aaf2",
   "metadata": {
    "execution": {
     "iopub.execute_input": "2024-08-01T08:50:00.022836Z",
     "iopub.status.busy": "2024-08-01T08:50:00.021804Z",
     "iopub.status.idle": "2024-08-01T08:50:00.879831Z",
     "shell.execute_reply": "2024-08-01T08:50:00.878950Z"
    },
    "papermill": {
     "duration": 0.879672,
     "end_time": "2024-08-01T08:50:00.882437",
     "exception": false,
     "start_time": "2024-08-01T08:50:00.002765",
     "status": "completed"
    },
    "tags": []
   },
   "outputs": [
    {
     "name": "stdout",
     "output_type": "stream",
     "text": [
      "\n",
      "Best Parameters: {'eps': 0.2, 'min_samples': 3} - Best Silhouette Score: -1.0\n"
     ]
    }
   ],
   "source": [
    "from sklearn.cluster import DBSCAN\n",
    "from sklearn.metrics import silhouette_score\n",
    "from sklearn.model_selection import GridSearchCV\n",
    "from sklearn.base import BaseEstimator, ClusterMixin\n",
    "\n",
    "class DBSCANWrapper(BaseEstimator, ClusterMixin):\n",
    "    def __init__(self, eps=0.5, min_samples=5):\n",
    "        self.eps = eps\n",
    "        self.min_samples = min_samples\n",
    "        self.dbscan = DBSCAN(eps=self.eps, min_samples=self.min_samples)\n",
    "    \n",
    "    def fit(self, X, y=None):\n",
    "        self.dbscan.fit(X)\n",
    "        return self\n",
    "    \n",
    "    def fit_predict(self, X, y=None):\n",
    "        return self.dbscan.fit_predict(X)\n",
    "    \n",
    "def silhouette_scorer(estimator, X):\n",
    "    clusters = estimator.fit_predict(X)\n",
    "    if len(set(clusters)) > 1:\n",
    "        score = silhouette_score(X, clusters)\n",
    "    else:\n",
    "        score = -1  # or some other value to indicate that the score isn't valid\n",
    "    return score\n",
    "\n",
    "\n",
    "param_grid = {\n",
    "    'eps': [0.2, 0.5, 0.7, 1.0],\n",
    "    'min_samples': [3, 5, 10, 12, 15]\n",
    "}\n",
    "\n",
    "dbscan = DBSCANWrapper()\n",
    "grid_search = GridSearchCV(estimator=dbscan, param_grid=param_grid, scoring=silhouette_scorer, cv=3)\n",
    "\n",
    "grid_search.fit(scaled_df)\n",
    "\n",
    "best_params = grid_search.best_params_\n",
    "best_score = grid_search.best_score_\n",
    "\n",
    "print(f\"\\nBest Parameters: {best_params} - Best Silhouette Score: {best_score}\")\n"
   ]
  },
  {
   "cell_type": "markdown",
   "id": "e42392a7",
   "metadata": {
    "papermill": {
     "duration": 0.016453,
     "end_time": "2024-08-01T08:50:00.917821",
     "exception": false,
     "start_time": "2024-08-01T08:50:00.901368",
     "status": "completed"
    },
    "tags": []
   },
   "source": [
    "**Retrain the model with the best parameters.**"
   ]
  },
  {
   "cell_type": "code",
   "execution_count": 22,
   "id": "106beefd",
   "metadata": {
    "execution": {
     "iopub.execute_input": "2024-08-01T08:50:00.953417Z",
     "iopub.status.busy": "2024-08-01T08:50:00.953015Z",
     "iopub.status.idle": "2024-08-01T08:50:00.967036Z",
     "shell.execute_reply": "2024-08-01T08:50:00.965925Z"
    },
    "papermill": {
     "duration": 0.034996,
     "end_time": "2024-08-01T08:50:00.969720",
     "exception": false,
     "start_time": "2024-08-01T08:50:00.934724",
     "status": "completed"
    },
    "tags": []
   },
   "outputs": [],
   "source": [
    "from sklearn.cluster import DBSCAN\n",
    "\n",
    "# Apply DBSCAN\n",
    "epsilon = 0.2\n",
    "min_samples=3\n",
    "dbscan = DBSCAN(eps=epsilon, min_samples=min_samples)\n",
    "clusters = dbscan.fit_predict(scaled_df)"
   ]
  },
  {
   "cell_type": "markdown",
   "id": "b664159f",
   "metadata": {
    "papermill": {
     "duration": 0.016501,
     "end_time": "2024-08-01T08:50:01.004863",
     "exception": false,
     "start_time": "2024-08-01T08:50:00.988362",
     "status": "completed"
    },
    "tags": []
   },
   "source": [
    "**Identify the core and the outliers for DBSCAN**"
   ]
  },
  {
   "cell_type": "code",
   "execution_count": 23,
   "id": "077be5a9",
   "metadata": {
    "execution": {
     "iopub.execute_input": "2024-08-01T08:50:01.040457Z",
     "iopub.status.busy": "2024-08-01T08:50:01.040004Z",
     "iopub.status.idle": "2024-08-01T08:50:01.048645Z",
     "shell.execute_reply": "2024-08-01T08:50:01.047401Z"
    },
    "papermill": {
     "duration": 0.029524,
     "end_time": "2024-08-01T08:50:01.051184",
     "exception": false,
     "start_time": "2024-08-01T08:50:01.021660",
     "status": "completed"
    },
    "tags": []
   },
   "outputs": [
    {
     "name": "stdout",
     "output_type": "stream",
     "text": [
      "Estimated number of clusters: 0\n",
      "Estimated number of noise points: 5\n"
     ]
    }
   ],
   "source": [
    "import numpy as np\n",
    "\n",
    "core_samples = np.zeros_like(dbscan.labels_, dtype=bool)\n",
    "core_samples[dbscan.core_sample_indices_] = True\n",
    "labels = dbscan.labels_\n",
    "# Check the number of clusters after DBSCAN algorithm (ignoring noise if present)\n",
    "\n",
    "n_clusters_ = len(set(clusters)) - (1 if -1 in clusters else 0)\n",
    "n_noise_ = list(clusters).count(-1)\n",
    "\n",
    "print(f'Estimated number of clusters: {n_clusters_}')\n",
    "print(f'Estimated number of noise points: {n_noise_}')"
   ]
  },
  {
   "cell_type": "code",
   "execution_count": 24,
   "id": "98f31882",
   "metadata": {
    "execution": {
     "iopub.execute_input": "2024-08-01T08:50:01.088223Z",
     "iopub.status.busy": "2024-08-01T08:50:01.087791Z",
     "iopub.status.idle": "2024-08-01T08:50:01.496409Z",
     "shell.execute_reply": "2024-08-01T08:50:01.495272Z"
    },
    "papermill": {
     "duration": 0.431514,
     "end_time": "2024-08-01T08:50:01.500379",
     "exception": false,
     "start_time": "2024-08-01T08:50:01.068865",
     "status": "completed"
    },
    "tags": []
   },
   "outputs": [
    {
     "data": {
      "image/png": "[encoded data removed]",
      "text/plain": [
       "<Figure size 1000x800 with 1 Axes>"
      ]
     },
     "metadata": {},
     "output_type": "display_data"
    }
   ],
   "source": [
    "import matplotlib.pyplot as plt\n",
    "from mpl_toolkits.mplot3d import Axes3D\n",
    "from sklearn.cluster import DBSCAN\n",
    "import numpy as np\n",
    "\n",
    "X = scaled_df[['access_type_encoded', 'ip_address_encoded', 'hour']].values\n",
    " \n",
    "\n",
    "# Create a 3D scatter plot\n",
    "fig = plt.figure(figsize=(10, 8))\n",
    "ax = fig.add_subplot(111, projection='3d')\n",
    "\n",
    "# Plot the normal (clustered) points in blue\n",
    "normal_points = ax.scatter(X[labels != -1, 0], X[labels != -1, 1], X[labels != -1, 2], c='green', s=50)\n",
    "\n",
    "# Plot the anomalies (noise points) in red with 'x' markers\n",
    "anomalies = ax.scatter(X[labels == -1, 0], X[labels == -1, 1], X[labels == -1, 2], marker='x', c='#FF0000', s=100, alpha=0.8)\n",
    "\n",
    "# # plot the failed points\n",
    "# failed_points = ax.scatter(X[labels == 1, 0], X[labels == 1, 1], X[labels == 1, 2], marker='o', c='blue', s=100, alpha=0.8, label='Failed')\n",
    "\n",
    "# Set labels and title\n",
    "ax.set_xlabel('access_type_encoded')\n",
    "ax.set_ylabel('ip_address_encoded')\n",
    "ax.set_zlabel('hour')\n",
    "ax.set_title('DBSCAN Clustering in 3D')\n",
    "\n",
    "# Add a legend\n",
    "ax.legend([normal_points, anomalies], ['Normal Points', 'Anomalies'], loc='upper left')\n",
    "\n",
    "plt.show()"
   ]
  },
  {
   "cell_type": "markdown",
   "id": "5fd4ad21",
   "metadata": {
    "papermill": {
     "duration": 0.023437,
     "end_time": "2024-08-01T08:50:01.600043",
     "exception": false,
     "start_time": "2024-08-01T08:50:01.576606",
     "status": "completed"
    },
    "tags": []
   },
   "source": [
    "### 8. Isolation forest\n",
    "8.1 Hyperparamter tuning\n",
    "\n",
    "Contamination: This is a parameter that the algorithm is quite sensitive to; it refers to the expected proportion of outliers in the data set. This is used when fitting to define the threshold on the scores of the samples."
   ]
  },
  {
   "cell_type": "code",
   "execution_count": 25,
   "id": "b81dfc25",
   "metadata": {
    "execution": {
     "iopub.execute_input": "2024-08-01T08:50:01.650952Z",
     "iopub.status.busy": "2024-08-01T08:50:01.650520Z",
     "iopub.status.idle": "2024-08-01T08:50:19.371129Z",
     "shell.execute_reply": "2024-08-01T08:50:19.369679Z"
    },
    "papermill": {
     "duration": 17.748572,
     "end_time": "2024-08-01T08:50:19.373556",
     "exception": false,
     "start_time": "2024-08-01T08:50:01.624984",
     "status": "completed"
    },
    "tags": []
   },
   "outputs": [
    {
     "name": "stdout",
     "output_type": "stream",
     "text": [
      "Best parameters: {'max_features': 1.0, 'max_samples': 0.25, 'n_estimators': 50}\n",
      "Best score: -1.0\n"
     ]
    }
   ],
   "source": [
    "from sklearn.metrics import silhouette_score\n",
    "from sklearn.model_selection import GridSearchCV\n",
    "from sklearn.ensemble import IsolationForest\n",
    "\n",
    "# Custom scoring function for unsupervised learning\n",
    "def unsupervised_scorer(estimator, X):\n",
    "    # Predict the anomaly scores\n",
    "    scores_pred = estimator.decision_function(X)\n",
    "    \n",
    "     # Classify points as normal or anomalous based on the contamination threshold\n",
    "    labels = scores_pred < estimator.contamination\n",
    "    \n",
    "    # Compute the silhouette score\n",
    "    try:\n",
    "        silhouette = silhouette_score(X, labels)\n",
    "        # Check if the silhouette score is NaN\n",
    "        if np.isnan(silhouette):\n",
    "            return -1  # Return a default value for NaN (you can choose another value if preferred)\n",
    "        return silhouette\n",
    "    except ValueError:\n",
    "        # Handle cases where silhouette score cannot be computed\n",
    "        return -1  # Return a default value for errors\n",
    "    \n",
    "    \n",
    "    \n",
    "    # Compute the silhouette score\n",
    "    silhouette = silhouette_score(X, scores_pred < estimator.contamination)\n",
    "    return silhouette\n",
    "\n",
    "# Initialize the Isolation Forest model with contamination parameter\n",
    "iso_forest = IsolationForest(contamination=0.01, random_state=42)\n",
    "\n",
    "# Define a range of parameters to tune, excluding the contamination parameter\n",
    "param_grid = {\n",
    "    'n_estimators': [50, 100, 150],\n",
    "    'max_samples': [0.25, 0.5, 0.75],\n",
    "    'max_features': [1.0, 0.7, 0.5]\n",
    "}\n",
    "\n",
    "X = scaled_df[['access_type_encoded', 'ip_address_encoded', 'hour']].values\n",
    "\n",
    "# Set up the grid search with the custom scorer\n",
    "grid_search = GridSearchCV(estimator=iso_forest, param_grid=param_grid, scoring=unsupervised_scorer, cv=5, n_jobs=-1)\n",
    "\n",
    "# Fit the model\n",
    "grid_search.fit(X)\n",
    "\n",
    "# Get the best parameters and the best score\n",
    "best_params = grid_search.best_params_\n",
    "best_score = grid_search.best_score_\n",
    "\n",
    "print(f\"Best parameters: {best_params}\")\n",
    "print(f\"Best score: {best_score}\")\n",
    "\n",
    "# the best estimator for further analysis\n",
    "best_iso_forest = grid_search.best_estimator_"
   ]
  },
  {
   "cell_type": "code",
   "execution_count": 26,
   "id": "fa450fb1",
   "metadata": {
    "execution": {
     "iopub.execute_input": "2024-08-01T08:50:19.414025Z",
     "iopub.status.busy": "2024-08-01T08:50:19.413315Z",
     "iopub.status.idle": "2024-08-01T08:50:19.559961Z",
     "shell.execute_reply": "2024-08-01T08:50:19.558917Z"
    },
    "papermill": {
     "duration": 0.169778,
     "end_time": "2024-08-01T08:50:19.562432",
     "exception": false,
     "start_time": "2024-08-01T08:50:19.392654",
     "status": "completed"
    },
    "tags": []
   },
   "outputs": [
    {
     "name": "stdout",
     "output_type": "stream",
     "text": [
      "Estimated number of clusters: 1\n",
      "Estimated number of noise points: 0\n"
     ]
    }
   ],
   "source": [
    "from sklearn.ensemble import IsolationForest\n",
    "\n",
    "# Retrain the model with the best hyperparameters\n",
    "\n",
    "iso_forest = IsolationForest(**grid_search.best_params_)\n",
    "iso_labels = iso_forest.fit_predict(scaled_df)\n",
    "n_clusters_ = len(set(iso_labels)) - (1 if -1 in iso_labels else 0)\n",
    "n_noise_ = list(iso_labels).count(-1)\n",
    "\n",
    "print(f'Estimated number of clusters: {n_clusters_}')\n",
    "print(f'Estimated number of noise points: {n_noise_}')"
   ]
  },
  {
   "cell_type": "code",
   "execution_count": 27,
   "id": "128f2c14",
   "metadata": {
    "execution": {
     "iopub.execute_input": "2024-08-01T08:50:19.602638Z",
     "iopub.status.busy": "2024-08-01T08:50:19.601848Z",
     "iopub.status.idle": "2024-08-01T08:50:20.291488Z",
     "shell.execute_reply": "2024-08-01T08:50:20.290386Z"
    },
    "papermill": {
     "duration": 0.712853,
     "end_time": "2024-08-01T08:50:20.294438",
     "exception": false,
     "start_time": "2024-08-01T08:50:19.581585",
     "status": "completed"
    },
    "tags": []
   },
   "outputs": [
    {
     "data": {
      "image/png": "[encoded data removed]",
      "text/plain": [
       "<Figure size 1200x800 with 2 Axes>"
      ]
     },
     "metadata": {},
     "output_type": "display_data"
    }
   ],
   "source": [
    "import matplotlib.pyplot as plt\n",
    "\n",
    "# Create a figure with a specified size\n",
    "plt.figure(figsize=(12, 8))\n",
    "\n",
    "# Plot DBSCAN labels\n",
    "plt.subplot(2, 1, 1)\n",
    "plt.plot(scaled_df.index, clusters, marker='o', linestyle='-', color='b', markersize=5)\n",
    "plt.title('DBSCAN Anomaly Detection', fontsize=16)\n",
    "plt.xlabel('Index', fontsize=14)\n",
    "plt.ylabel('Cluster Label', fontsize=14)\n",
    "plt.grid(True)\n",
    "plt.xticks(fontsize=12)\n",
    "plt.yticks(fontsize=12)\n",
    "\n",
    "# Plot Isolation Forest labels\n",
    "plt.subplot(2, 1, 2)\n",
    "plt.plot(scaled_df.index, iso_labels, marker='o', linestyle='-', color='g', markersize=5)\n",
    "plt.title('Isolation Forest Anomaly Detection', fontsize=16)\n",
    "plt.xlabel('Index', fontsize=14)\n",
    "plt.ylabel('Anomaly Label', fontsize=14)\n",
    "plt.grid(True)\n",
    "plt.xticks(fontsize=12)\n",
    "plt.yticks(fontsize=12)\n",
    "\n",
    "# Adjust layout to prevent overlap\n",
    "plt.tight_layout()\n",
    "\n",
    "# Display the plots\n",
    "plt.show()"
   ]
  },
  {
   "cell_type": "markdown",
   "id": "acd868f4",
   "metadata": {
    "papermill": {
     "duration": 0.020069,
     "end_time": "2024-08-01T08:50:20.334586",
     "exception": false,
     "start_time": "2024-08-01T08:50:20.314517",
     "status": "completed"
    },
    "tags": []
   },
   "source": [
    "GPT2 MODEL"
   ]
  },
  {
   "cell_type": "code",
   "execution_count": 28,
   "id": "1c820f24",
   "metadata": {
    "execution": {
     "iopub.execute_input": "2024-08-01T08:50:20.377499Z",
     "iopub.status.busy": "2024-08-01T08:50:20.376620Z",
     "iopub.status.idle": "2024-08-01T08:50:20.382581Z",
     "shell.execute_reply": "2024-08-01T08:50:20.381553Z"
    },
    "papermill": {
     "duration": 0.030168,
     "end_time": "2024-08-01T08:50:20.384812",
     "exception": false,
     "start_time": "2024-08-01T08:50:20.354644",
     "status": "completed"
    },
    "tags": []
   },
   "outputs": [],
   "source": [
    "# from transformers import GPT2LMHeadModel, GPT2Tokenizer\n",
    "\n",
    "# # Carica il modello GPT-2 pre-addestrato\n",
    "# model = GPT2LMHeadModel.from_pretrained('gpt2')\n",
    "# tokenizer = GPT2Tokenizer.from_pretrained('gpt2')\n",
    "\n",
    "# # Definisci gli schemi per le colonne del dataset\n",
    "# schema = \"user_id,timestamp,access_type,resource,action_detail,label\\n\"\n",
    "# prompts = {\n",
    "#     'user_id': \"Genera un ID utente univoco: \",\n",
    "#     'timestamp': \"Genera un timestamp nel formato YYYY-MM-DD HH:MM:SS: \",\n",
    "#     # Definisci altri prompt per le colonne\n",
    "# }\n",
    "\n",
    "# # Genera il dataset\n",
    "# num_records = 1000\n",
    "# for _ in range(num_records):\n",
    "#     record = []\n",
    "#     for column, prompt in prompts.items():\n",
    "#         # Genera testo usando il modello GPT-2\n",
    "#         input_ids = tokenizer.encode(prompt, return_tensors='pt')\n",
    "#         output = model.generate(input_ids, max_length=50, num_return_sequences=1, do_sample=True)[0]\n",
    "#         generated_text = tokenizer.decode(output, skip_special_tokens=True)\n",
    "#         record.append(generated_text.strip())\n",
    "    \n",
    "#     # Unisci il record in una stringa separata da virgole\n",
    "#     record_str = ','.join(record) + '\\n'\n",
    "#     schema += record_str\n",
    "\n",
    "# # Salva il dataset in un file CSV\n",
    "# with open('synthetic_user_access_logs.csv', 'w', newline='') as csvfile:\n",
    "#     csvfile.write(schema)\n"
   ]
  },
  {
   "cell_type": "code",
   "execution_count": 29,
   "id": "2f247b19",
   "metadata": {
    "execution": {
     "iopub.execute_input": "2024-08-01T08:50:20.427495Z",
     "iopub.status.busy": "2024-08-01T08:50:20.426561Z",
     "iopub.status.idle": "2024-08-01T08:50:20.433576Z",
     "shell.execute_reply": "2024-08-01T08:50:20.432498Z"
    },
    "papermill": {
     "duration": 0.030947,
     "end_time": "2024-08-01T08:50:20.436041",
     "exception": false,
     "start_time": "2024-08-01T08:50:20.405094",
     "status": "completed"
    },
    "tags": []
   },
   "outputs": [],
   "source": [
    "# import pandas as pd\n",
    "# import random\n",
    "# from transformers import GPT2LMHeadModel, GPT2Tokenizer\n",
    "\n",
    "# # Load the pre-trained GPT-2 model and tokenizer\n",
    "# model_name = 'gpt2'  # You can also use 'gpt2-medium' or other variants\n",
    "# model = GPT2LMHeadModel.from_pretrained(model_name)\n",
    "# tokenizer = GPT2Tokenizer.from_pretrained(model_name)\n",
    "\n",
    "# # Function to generate text using the LLM\n",
    "# def generate_text(prompt):\n",
    "#     input_ids = tokenizer.encode(prompt, return_tensors='pt')\n",
    "#     output = model.generate(input_ids, max_length=50, num_return_sequences=1, do_sample=True)\n",
    "#     generated_text = tokenizer.decode(output[0], skip_special_tokens=True)\n",
    "#     return generated_text.strip()\n",
    "\n",
    "# # Define the dataset structure\n",
    "# num_records = 1000\n",
    "# data = []\n",
    "\n",
    "# # Predefined actions and labels for anomalies\n",
    "# actions_normal = [\n",
    "#     \"Login\", \n",
    "#     \"Logged In\", \n",
    "#     \"Downloaded Document\", \n",
    "#     \"Logged Out\", \n",
    "#     \"Password Reset\"\n",
    "# ]\n",
    "\n",
    "# actions_anomaly = [\n",
    "#     \"Accessed Sensitive Data\", \n",
    "#     \"Attempted Unauthorized Access\", \n",
    "#     \"Attempted SQL Injection\", \n",
    "#     \"Unauthorized Access\"\n",
    "# ]\n",
    "\n",
    "# # Generate synthetic dataset\n",
    "# for i in range(num_records):\n",
    "#     user_id = f\"U{random.randint(100, 999)}\"  # Random user ID\n",
    "#     timestamp = f\"2023-01-01 {random.randint(8, 10):02d}:{random.randint(0, 59):02d}:00\"  # Random timestamp\n",
    "#     if random.random() < 0.3:  # 30% chance of being an anomaly\n",
    "#         action = random.choice(actions_anomaly)\n",
    "#         label = \"Anomaly\"\n",
    "#     else:\n",
    "#         action = random.choice(actions_normal)\n",
    "#         label = \"Normal\"\n",
    "    \n",
    "#     # Append the generated record to the dataset\n",
    "#     data.append([timestamp, user_id, action, label])\n",
    "\n",
    "# # Create a DataFrame\n",
    "# df = pd.DataFrame(data, columns=[\"Timestamp\", \"User ID\", \"Action\", \"Label\"])\n",
    "\n",
    "# # Display the first few rows of the synthetic dataset\n",
    "# print(df.head())\n",
    "\n",
    "# # Save the synthetic dataset to a CSV file\n",
    "# df.to_csv('synthetic_anomaly_user_behavior.csv', index=False)\n"
   ]
  },
  {
   "cell_type": "code",
   "execution_count": null,
   "id": "f44a62ca",
   "metadata": {
    "papermill": {
     "duration": 0.020455,
     "end_time": "2024-08-01T08:50:20.476781",
     "exception": false,
     "start_time": "2024-08-01T08:50:20.456326",
     "status": "completed"
    },
    "tags": []
   },
   "outputs": [],
   "source": []
  },
  {
   "cell_type": "code",
   "execution_count": null,
   "id": "76cf3dbe",
   "metadata": {
    "papermill": {
     "duration": 0.019964,
     "end_time": "2024-08-01T08:50:20.517435",
     "exception": false,
     "start_time": "2024-08-01T08:50:20.497471",
     "status": "completed"
    },
    "tags": []
   },
   "outputs": [],
   "source": []
  }
 ],
 "metadata": {
  "kaggle": {
   "accelerator": "none",
   "dataSources": [
    {
     "datasetId": 5470590,
     "sourceId": 9069737,
     "sourceType": "datasetVersion"
    },
    {
     "datasetId": 5470647,
     "sourceId": 9069820,
     "sourceType": "datasetVersion"
    },
    {
     "datasetId": 5470662,
     "sourceId": 9069842,
     "sourceType": "datasetVersion"
    },
    {
     "datasetId": 5472710,
     "sourceId": 9072739,
     "sourceType": "datasetVersion"
    },
    {
     "datasetId": 5473596,
     "sourceId": 9073929,
     "sourceType": "datasetVersion"
    },
    {
     "datasetId": 5473980,
     "sourceId": 9074418,
     "sourceType": "datasetVersion"
    },
    {
     "datasetId": 5474014,
     "sourceId": 9074477,
     "sourceType": "datasetVersion"
    },
    {
     "datasetId": 5474086,
     "sourceId": 9074574,
     "sourceType": "datasetVersion"
    },
    {
     "datasetId": 5475078,
     "sourceId": 9075893,
     "sourceType": "datasetVersion"
    }
   ],
   "dockerImageVersionId": 30746,
   "isGpuEnabled": false,
   "isInternetEnabled": false,
   "language": "python",
   "sourceType": "notebook"
  },
  "kernelspec": {
   "display_name": "Python 3",
   "language": "python",
   "name": "python3"
  },
  "language_info": {
   "codemirror_mode": {
    "name": "ipython",
    "version": 3
   },
   "file_extension": ".py",
   "mimetype": "text/x-python",
   "name": "python",
   "nbconvert_exporter": "python",
   "pygments_lexer": "ipython3",
   "version": "3.10.13"
  },
  "papermill": {
   "default_parameters": {},
   "duration": 30.648569,
   "end_time": "2024-08-01T08:50:23.159650",
   "environment_variables": {},
   "exception": null,
   "input_path": "__notebook__.ipynb",
   "output_path": "__notebook__.ipynb",
   "parameters": {},
   "start_time": "2024-08-01T08:49:52.511081",
   "version": "2.5.0"
  }
 },
 "nbformat": 4,
 "nbformat_minor": 5
}
